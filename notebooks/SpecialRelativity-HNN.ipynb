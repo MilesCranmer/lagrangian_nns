{
 "cells": [
  {
   "cell_type": "code",
   "execution_count": 107,
   "metadata": {},
   "outputs": [],
   "source": [
    "import jax\n",
    "import jax.numpy as jnp\n",
    "import numpy as np # get rid of this eventually\n",
    "import argparse\n",
    "from jax import jit\n",
    "from jax.experimental.ode import odeint\n",
    "from functools import partial # reduces arguments to function by making some subset implicit\n",
    "\n",
    "from jax.example_libraries import stax\n",
    "from jax.experimental import optimizers\n",
    "\n",
    "import os, sys, time\n",
    "sys.path.append('..')\n",
    "sys.path.append('../hyperopt')\n",
    "from HyperparameterSearch import extended_mlp"
   ]
  },
  {
   "cell_type": "code",
   "execution_count": 108,
   "metadata": {},
   "outputs": [],
   "source": [
    "from models import mlp as make_mlp\n",
    "from utils import wrap_coords"
   ]
  },
  {
   "cell_type": "code",
   "execution_count": 109,
   "metadata": {},
   "outputs": [],
   "source": [
    "from jax.experimental.ode import odeint"
   ]
  },
  {
   "cell_type": "code",
   "execution_count": 110,
   "metadata": {},
   "outputs": [],
   "source": [
    "def hamiltonian_eom(hamiltonian, state, conditionals, t=None):\n",
    "    q, p = jnp.split(state, 2)\n",
    "    q = q / 10.0 #Normalize\n",
    "    conditionals = conditionals / 10.0 #Normalize\n",
    "    q_t = jax.grad(hamiltonian, 1)(q, p, conditionals)\n",
    "    p_t = -jax.grad(hamiltonian, 0)(q, p, conditionals)\n",
    "    \n",
    "    q_tt = p_t #mass is 1\n",
    "    return jnp.concatenate([q_t, q_tt])\n",
    "\n",
    "# replace the lagrangian with a parameteric model\n",
    "def learned_dynamics(params, nn_forward_fn):\n",
    "    @jit\n",
    "    def dynamics(q, p, conditionals):\n",
    "        state = jnp.concatenate([q, p, conditionals])\n",
    "        return jnp.squeeze(nn_forward_fn(params, state), axis=-1)\n",
    "    return dynamics"
   ]
  },
  {
   "cell_type": "code",
   "execution_count": 111,
   "metadata": {},
   "outputs": [],
   "source": [
    "class ObjectView(object):\n",
    "    def __init__(self, d): self.__dict__ = d"
   ]
  },
  {
   "cell_type": "code",
   "execution_count": 112,
   "metadata": {},
   "outputs": [],
   "source": [
    "@jax.jit\n",
    "def qdotdot(q, q_t, conditionals):\n",
    "    g = conditionals\n",
    "    \n",
    "    q_tt = (\n",
    "        g * (1 - q_t**2)**(5./2) / \n",
    "        (1 + 2 * q_t**2)\n",
    "    )\n",
    "    \n",
    "    return q_t, q_tt\n",
    "\n",
    "@jax.jit\n",
    "def ofunc(y, t=None):\n",
    "    q = y[::3]\n",
    "    q_t = y[1::3]\n",
    "    g = y[2::3]\n",
    "    \n",
    "    q_t, q_tt = qdotdot(q, q_t, g)\n",
    "    return jnp.stack([q_t, q_tt, jnp.zeros_like(g)]).T.ravel()"
   ]
  },
  {
   "cell_type": "code",
   "execution_count": 113,
   "metadata": {},
   "outputs": [
    {
     "data": {
      "text/plain": [
       "DeviceArray(0.99989885, dtype=float32)"
      ]
     },
     "execution_count": 113,
     "metadata": {},
     "output_type": "execute_result"
    }
   ],
   "source": [
    "(jnp.tanh(jax.random.uniform(jax.random.PRNGKey(1), (1000,))*10-5)*0.99999).max()"
   ]
  },
  {
   "cell_type": "code",
   "execution_count": 114,
   "metadata": {},
   "outputs": [],
   "source": [
    "from matplotlib import pyplot as plt"
   ]
  },
  {
   "cell_type": "code",
   "execution_count": 115,
   "metadata": {},
   "outputs": [
    {
     "data": {
      "text/plain": [
       "(array([30.,  8.,  5.,  8.,  3.,  2.,  5.,  3.,  5., 31.]),\n",
       " array([-9.9991339e-01, -7.9992497e-01, -5.9993654e-01, -3.9994809e-01,\n",
       "        -1.9995967e-01,  2.8759241e-05,  2.0001718e-01,  4.0000561e-01,\n",
       "         5.9999406e-01,  7.9998249e-01,  9.9997091e-01], dtype=float32),\n",
       " <a list of 10 Patch objects>)"
      ]
     },
     "execution_count": 115,
     "metadata": {},
     "output_type": "execute_result"
    },
    {
     "data": {
      "image/png": "[encoded data removed]",
      "text/plain": [
       "<Figure size 432x288 with 1 Axes>"
      ]
     },
     "metadata": {
      "needs_background": "light"
     },
     "output_type": "display_data"
    }
   ],
   "source": [
    "plt.hist((jnp.tanh(jax.random.normal(jax.random.PRNGKey(1), (100,))*2)*0.99999))"
   ]
  },
  {
   "cell_type": "code",
   "execution_count": 126,
   "metadata": {},
   "outputs": [],
   "source": [
    "@partial(jax.jit, static_argnums=(1, 2), backend='cpu')\n",
    "def gen_data(seed, batch, num):\n",
    "    rng = jax.random.PRNGKey(seed)\n",
    "    q0 = jax.random.uniform(rng, (batch,), minval=-10, maxval=10)\n",
    "    qt0 = jax.random.uniform(rng+1, (batch,), minval=-0.99, maxval=0.99)\n",
    "    g = jax.random.normal(rng+2, (batch,))*10\n",
    "\n",
    "    y0 = jnp.stack([q0, qt0, g]).T.ravel()\n",
    "\n",
    "    yt = odeint(ofunc, y0, jnp.linspace(0, 1, num=num), mxsteps=300)\n",
    "\n",
    "    qall = yt[:, ::3]\n",
    "    qtall = yt[:, 1::3]\n",
    "    gall = yt[:, 2::3]\n",
    "    \n",
    "    return jnp.stack([qall, qtall]).reshape(2, -1).T, gall.reshape(1, -1).T, qdotdot(qall, qtall, gall)[1].reshape(1, -1).T\n",
    "\n",
    "@partial(jax.jit, static_argnums=(1,))\n",
    "def gen_data_batch(seed, batch):\n",
    "    rng = jax.random.PRNGKey(seed)\n",
    "    q0 = jax.random.uniform(rng, (batch,), minval=-10, maxval=10)\n",
    "    qt0 = (jnp.tanh(jax.random.normal(jax.random.PRNGKey(1), (batch,))*2)*0.99999)#jax.random.uniform(rng+1, (batch,), minval=-1, maxval=1)\n",
    "    g = jax.random.normal(rng+2, (batch,))*10\n",
    "    \n",
    "    return jnp.stack([q0, qt0]).reshape(2, -1).T, g.reshape(1, -1).T, jnp.stack(qdotdot(q0, qt0, g)).T"
   ]
  },
  {
   "cell_type": "code",
   "execution_count": 129,
   "metadata": {},
   "outputs": [
    {
     "data": {
      "text/plain": [
       "(DeviceArray([[ 1.4900093 ,  0.9574616 ],\n",
       "              [-8.006279  , -0.95951325],\n",
       "              [-2.1367955 , -0.21696056],\n",
       "              [ 7.883566  ,  0.6245134 ],\n",
       "              [ 1.9313316 ,  0.33272812]], dtype=float32),\n",
       " DeviceArray([[ 5.672981  ],\n",
       "              [13.351437  ],\n",
       "              [ 3.9785006 ],\n",
       "              [17.436966  ],\n",
       "              [-0.24577108]], dtype=float32),\n",
       " DeviceArray([[ 0.9574616 ,  0.00400571],\n",
       "              [-0.95951325,  0.00833027],\n",
       "              [-0.21696056,  3.2232604 ],\n",
       "              [ 0.6245134 ,  2.8466694 ],\n",
       "              [ 0.33272812, -0.15006456]], dtype=float32))"
      ]
     },
     "execution_count": 129,
     "metadata": {},
     "output_type": "execute_result"
    }
   ],
   "source": [
    "cstate, cconditionals, ctarget = gen_data_batch(0, 5)\n",
    "cstate, cconditionals, ctarget"
   ]
  },
  {
   "cell_type": "code",
   "execution_count": 130,
   "metadata": {},
   "outputs": [],
   "source": [
    "from matplotlib import pyplot as plt"
   ]
  },
  {
   "cell_type": "code",
   "execution_count": 131,
   "metadata": {},
   "outputs": [],
   "source": [
    "# qdotdot(jnp.array([0]), jnp.array([0.9]), jnp.array([10]))"
   ]
  },
  {
   "cell_type": "code",
   "execution_count": 132,
   "metadata": {},
   "outputs": [],
   "source": [
    "# 0.29830917716026306 {'act': [4],\n",
    "# 'batch_size': [27.0], 'dt': [0.09609870774790222],\n",
    "# 'hidden_dim': [596.0], 'l2reg': [0.24927677946969878],\n",
    "# 'layers': [4.0], 'lr': [0.005516656601005163],\n",
    "# 'lr2': [1.897157209816416e-05], 'n_updates': [4.0]}"
   ]
  },
  {
   "cell_type": "code",
   "execution_count": 133,
   "metadata": {},
   "outputs": [],
   "source": [
    "import pickle as pkl"
   ]
  },
  {
   "cell_type": "code",
   "execution_count": 134,
   "metadata": {},
   "outputs": [],
   "source": [
    "# loaded = pkl.load(open('./params_for_loss_0.29429444670677185_nupdates=1.pkl', 'rb'))"
   ]
  },
  {
   "cell_type": "code",
   "execution_count": 135,
   "metadata": {},
   "outputs": [],
   "source": [
    "args = ObjectView({'dataset_size': 200,\n",
    " 'fps': 10,\n",
    " 'samples': 100,\n",
    " 'num_epochs': 80000,\n",
    " 'seed': 0,\n",
    " 'loss': 'l1',\n",
    " 'act': 'softplus',\n",
    " 'hidden_dim': 500,\n",
    " 'output_dim': 1,\n",
    " 'layers': 4,\n",
    " 'n_updates': 1,\n",
    " 'lr': 0.001,\n",
    " 'lr2': 2e-05,\n",
    " 'dt': 0.1,\n",
    " 'model': 'gln',\n",
    " 'batch_size': 68,\n",
    " 'l2reg': 5.7e-07,\n",
    "})\n",
    "# args = loaded['args']\n",
    "rng = jax.random.PRNGKey(args.seed)"
   ]
  },
  {
   "cell_type": "code",
   "execution_count": 142,
   "metadata": {},
   "outputs": [],
   "source": [
    "from jax.experimental.ode import odeint"
   ]
  },
  {
   "cell_type": "code",
   "execution_count": 143,
   "metadata": {},
   "outputs": [],
   "source": [
    "best_params = None\n",
    "best_loss = np.inf"
   ]
  },
  {
   "cell_type": "code",
   "execution_count": 144,
   "metadata": {},
   "outputs": [],
   "source": [
    "from itertools import product"
   ]
  },
  {
   "cell_type": "code",
   "execution_count": 145,
   "metadata": {},
   "outputs": [],
   "source": [
    "init_random_params, nn_forward_fn = extended_mlp(args)\n",
    "rng = jax.random.PRNGKey(0)\n",
    "_, init_params = init_random_params(rng, (-1, 3))\n",
    "rng += 1\n"
   ]
  },
  {
   "cell_type": "markdown",
   "metadata": {},
   "source": [
    "This is the output. Now, let's train it."
   ]
  },
  {
   "cell_type": "markdown",
   "metadata": {},
   "source": [
    "Idea: add identity before inverse:"
   ]
  },
  {
   "cell_type": "markdown",
   "metadata": {},
   "source": [
    "# Let's train it:"
   ]
  },
  {
   "cell_type": "code",
   "execution_count": 146,
   "metadata": {},
   "outputs": [],
   "source": [
    "best_small_loss = np.inf\n",
    "iteration = 0\n",
    "total_epochs = 100\n",
    "minibatch_per = 3000\n",
    "train_losses, test_losses = [], []\n",
    "\n",
    "lr = 1e-3 #1e-3\n",
    "\n",
    "final_div_factor=1e4\n",
    "\n",
    "#OneCycleLR:\n",
    "@jax.jit\n",
    "def OneCycleLR(pct):\n",
    "    #Rush it:\n",
    "    start = 0.3 #0.2\n",
    "    pct = pct * (1-start) + start\n",
    "    high, low = lr, lr/final_div_factor\n",
    "    \n",
    "    scale = 1.0 - (jnp.cos(2 * jnp.pi * pct) + 1)/2\n",
    "    \n",
    "    return low + (high - low)*scale\n",
    "    \n",
    "\n",
    "opt_init, opt_update, get_params = optimizers.adam(\n",
    "    OneCycleLR\n",
    ")\n",
    "opt_state = opt_init(init_params)\n",
    "# opt_state = opt_init(best_params)"
   ]
  },
  {
   "cell_type": "code",
   "execution_count": 147,
   "metadata": {},
   "outputs": [
    {
     "data": {
      "text/plain": [
       "Text(0.5, 1.0, 'lr schedule')"
      ]
     },
     "execution_count": 147,
     "metadata": {},
     "output_type": "execute_result"
    },
    {
     "data": {
      "image/png": "[encoded data removed]",
      "text/plain": [
       "<Figure size 432x288 with 1 Axes>"
      ]
     },
     "metadata": {
      "needs_background": "light"
     },
     "output_type": "display_data"
    }
   ],
   "source": [
    "plt.plot(OneCycleLR(jnp.linspace(0, 1, num=200)))\n",
    "plt.yscale('log')\n",
    "plt.title('lr schedule')"
   ]
  },
  {
   "cell_type": "code",
   "execution_count": 152,
   "metadata": {},
   "outputs": [],
   "source": [
    "from jax.tree_util import tree_flatten\n",
    "\n",
    "@jax.jit\n",
    "def loss(params, cstate, cconditionals, ctarget):\n",
    "    runner = jax.vmap(\n",
    "        partial(\n",
    "            hamiltonian_eom,\n",
    "            learned_dynamics(params, nn_forward_fn)), (0, 0), 0)\n",
    "    preds = runner(cstate, cconditionals)[:, [0, 1]]\n",
    "    \n",
    "    error = jnp.abs(preds - ctarget)\n",
    "    #Weight additionally by proximity to c!\n",
    "    error_weights = (1 + 1/jnp.sqrt(1.0-cstate[:, [1]]**2))\n",
    "    \n",
    "    return jnp.sum(error * error_weights)*len(preds)/jnp.sum(error_weights)\n",
    "\n",
    "@jax.jit\n",
    "def update_derivative(i, opt_state, cstate, cconditionals, ctarget):\n",
    "    params = get_params(opt_state)\n",
    "    param_update = jax.grad(\n",
    "            lambda *args: loss(*args)/len(cstate),\n",
    "            0\n",
    "        )(params, cstate, cconditionals, ctarget)\n",
    "    params = get_params(opt_state)\n",
    "    return opt_update(i, param_update, opt_state), params\n"
   ]
  },
  {
   "cell_type": "code",
   "execution_count": 153,
   "metadata": {},
   "outputs": [],
   "source": [
    "epoch = 0"
   ]
  },
  {
   "cell_type": "code",
   "execution_count": 154,
   "metadata": {},
   "outputs": [],
   "source": [
    "cstate, cconditionals, ctarget = gen_data_batch(epoch, 128)"
   ]
  },
  {
   "cell_type": "code",
   "execution_count": 155,
   "metadata": {},
   "outputs": [
    {
     "data": {
      "text/plain": [
       "DeviceArray(175.4566, dtype=float32)"
      ]
     },
     "execution_count": 155,
     "metadata": {},
     "output_type": "execute_result"
    }
   ],
   "source": [
    "loss(get_params(opt_state), cstate, cconditionals, ctarget)"
   ]
  },
  {
   "cell_type": "code",
   "execution_count": 156,
   "metadata": {},
   "outputs": [],
   "source": [
    "update_derivative(0, opt_state, cstate, cconditionals, ctarget);"
   ]
  },
  {
   "cell_type": "code",
   "execution_count": 157,
   "metadata": {},
   "outputs": [],
   "source": [
    "rng = jax.random.PRNGKey(0)"
   ]
  },
  {
   "cell_type": "code",
   "execution_count": 158,
   "metadata": {},
   "outputs": [],
   "source": [
    "epoch = 0"
   ]
  },
  {
   "cell_type": "code",
   "execution_count": 159,
   "metadata": {},
   "outputs": [],
   "source": [
    "from tqdm.notebook import tqdm"
   ]
  },
  {
   "cell_type": "code",
   "execution_count": 160,
   "metadata": {},
   "outputs": [
    {
     "data": {
      "text/plain": [
       "(128, 2)"
      ]
     },
     "execution_count": 160,
     "metadata": {},
     "output_type": "execute_result"
    }
   ],
   "source": [
    "gen_data_batch(0, 128)[0].shape"
   ]
  },
  {
   "cell_type": "code",
   "execution_count": 161,
   "metadata": {},
   "outputs": [
    {
     "data": {
      "text/plain": [
       "DeviceArray([[ -7.3825674 ],\n",
       "             [  0.48637673],\n",
       "             [  5.567146  ],\n",
       "             [  3.391427  ],\n",
       "             [-11.220732  ]], dtype=float32)"
      ]
     },
     "execution_count": 161,
     "metadata": {},
     "output_type": "execute_result"
    }
   ],
   "source": [
    "cconditionals[:5]"
   ]
  },
  {
   "cell_type": "code",
   "execution_count": 162,
   "metadata": {},
   "outputs": [
    {
     "data": {
      "text/plain": [
       "DeviceArray([[-8.077726  ,  0.13323684],\n",
       "             [-2.589147  , -0.12181558],\n",
       "             [-8.912823  ,  0.9635672 ],\n",
       "             [ 4.5006466 ,  0.9999864 ],\n",
       "             [ 6.4032707 ,  0.98424286]], dtype=float32)"
      ]
     },
     "execution_count": 162,
     "metadata": {},
     "output_type": "execute_result"
    }
   ],
   "source": [
    "cstate[:5]"
   ]
  },
  {
   "cell_type": "code",
   "execution_count": 163,
   "metadata": {},
   "outputs": [
    {
     "data": {
      "text/plain": [
       "DeviceArray([[ 1.3323684e-01, -6.8172374e+00],\n",
       "             [-1.2181558e-01,  4.5502922e-01],\n",
       "             [ 9.6356720e-01,  2.6673502e-03],\n",
       "             [ 9.9998641e-01,  4.3539304e-12],\n",
       "             [ 9.8424286e-01, -6.6027965e-04]], dtype=float32)"
      ]
     },
     "execution_count": 163,
     "metadata": {},
     "output_type": "execute_result"
    }
   ],
   "source": [
    "ctarget[:5]"
   ]
  },
  {
   "cell_type": "code",
   "execution_count": 164,
   "metadata": {},
   "outputs": [],
   "source": [
    "best_loss = np.inf\n",
    "best_params = None"
   ]
  },
  {
   "cell_type": "code",
   "execution_count": 165,
   "metadata": {},
   "outputs": [],
   "source": [
    "from copy import deepcopy as copy"
   ]
  },
  {
   "cell_type": "code",
   "execution_count": 166,
   "metadata": {},
   "outputs": [
    {
     "data": {
      "application/vnd.jupyter.widget-view+json": {
       "model_id": "00151e8540f84c909ceb40a433194596",
       "version_major": 2,
       "version_minor": 0
      },
      "text/plain": [
       "HBox(children=(FloatProgress(value=0.0), HTML(value='')))"
      ]
     },
     "metadata": {},
     "output_type": "display_data"
    },
    {
     "name": "stdout",
     "output_type": "stream",
     "text": [
      "epoch=0 lr=0.0006752928602509201 loss=0.4576779007911682\n",
      "epoch=1 lr=0.0006957106525078416 loss=0.4278222322463989\n",
      "epoch=2 lr=0.0007157498621381819 loss=0.42640888690948486\n",
      "epoch=3 lr=0.0007353719556704164 loss=0.4248338043689728\n",
      "epoch=4 lr=0.0007545390981249511 loss=0.4242565929889679\n",
      "epoch=5 lr=0.000773213803768158 loss=0.4227651357650757\n",
      "epoch=6 lr=0.0007913602748885751 loss=0.42145994305610657\n",
      "epoch=7 lr=0.0008089432376436889 loss=0.42091017961502075\n",
      "epoch=8 lr=0.0008259288733825088 loss=0.4207681119441986\n",
      "epoch=9 lr=0.0008422840619459748 loss=0.41996580362319946\n",
      "epoch=10 lr=0.0008579773711971939 loss=0.4197915494441986\n",
      "epoch=11 lr=0.000872978416737169 loss=0.41876354813575745\n",
      "epoch=12 lr=0.0008872582111507654 loss=0.41935107111930847\n",
      "epoch=13 lr=0.0009007891057990491 loss=0.41843855381011963\n",
      "epoch=14 lr=0.0009135449072346091 loss=0.4186243414878845\n",
      "epoch=15 lr=0.0009255009354092181 loss=0.4181230068206787\n",
      "epoch=16 lr=0.0009366340818814933 loss=0.41830745339393616\n",
      "epoch=17 lr=0.000946922751609236 loss=0.41750913858413696\n",
      "epoch=18 lr=0.0009563472121953964 loss=0.4169684648513794\n",
      "epoch=19 lr=0.0009648891282267869 loss=0.4164976477622986\n",
      "epoch=20 lr=0.0009725319687277079 loss=0.4160488247871399\n",
      "epoch=21 lr=0.0009792608907446265 loss=0.4161275327205658\n",
      "epoch=22 lr=0.000985063030384481 loss=0.4145805537700653\n",
      "epoch=23 lr=0.0009899272117763758 loss=0.4153549373149872\n",
      "epoch=24 lr=0.0009938437724485993 loss=0.41514167189598083\n",
      "epoch=25 lr=0.000996805145405233 loss=0.4160304367542267\n",
      "epoch=26 lr=0.0009988059755414724 loss=0.4155493378639221\n",
      "epoch=27 lr=0.0009998419554904103 loss=0.4141225814819336\n",
      "epoch=28 lr=0.0009999113390222192 loss=0.41487812995910645\n",
      "epoch=29 lr=0.0009990138933062553 loss=0.4153560698032379\n",
      "epoch=30 lr=0.000997151480987668 loss=0.4150068461894989\n",
      "epoch=31 lr=0.000994327594526112 loss=0.4148404002189636\n",
      "epoch=32 lr=0.0009905475890263915 loss=0.41430777311325073\n",
      "epoch=33 lr=0.000985819031484425 loss=0.41456151008605957\n",
      "epoch=34 lr=0.0009801508858799934 loss=0.41460469365119934\n",
      "epoch=35 lr=0.0009735542116686702 loss=0.41374877095222473\n",
      "epoch=36 lr=0.0009660416981205344 loss=0.41455087065696716\n",
      "epoch=37 lr=0.0009576278389431536 loss=0.4142729341983795\n",
      "epoch=38 lr=0.0009483289322815835 loss=0.4137929379940033\n",
      "epoch=39 lr=0.0009381631389260292 loss=0.4138018786907196\n",
      "epoch=40 lr=0.0009271499002352357 loss=0.41362735629081726\n",
      "epoch=41 lr=0.0009153104037977755 loss=0.4134262204170227\n",
      "epoch=42 lr=0.000902667990885675 loss=0.41215479373931885\n",
      "epoch=43 lr=0.000889246875885874 loss=0.41274869441986084\n",
      "epoch=44 lr=0.0008750728447921574 loss=0.4129306972026825\n",
      "epoch=45 lr=0.0008601734298281372 loss=0.41323956847190857\n",
      "epoch=46 lr=0.00084457773482427 loss=0.41251224279403687\n",
      "epoch=47 lr=0.0008283156785182655 loss=0.4119430184364319\n",
      "epoch=48 lr=0.0008114183438010514 loss=0.41314443945884705\n",
      "epoch=49 lr=0.0007939189672470093 loss=0.4127974808216095\n",
      "epoch=50 lr=0.0007758514257147908 loss=0.41186776757240295\n",
      "epoch=51 lr=0.0007572502945549786 loss=0.4118669033050537\n",
      "epoch=52 lr=0.000738151662517339 loss=0.4118064045906067\n",
      "epoch=53 lr=0.0007185924332588911 loss=0.41286376118659973\n",
      "epoch=54 lr=0.0006986107910051942 loss=0.4120926558971405\n",
      "epoch=55 lr=0.0006782450363971293 loss=0.4117642343044281\n",
      "epoch=56 lr=0.0006575344013981521 loss=0.41221532225608826\n",
      "epoch=57 lr=0.0006365194567479193 loss=0.4109550714492798\n",
      "epoch=58 lr=0.0006152403657324612 loss=0.4106297194957733\n",
      "epoch=59 lr=0.0005937386304140091 loss=0.41195157170295715\n",
      "epoch=60 lr=0.0005720554618164897 loss=0.4116988480091095\n",
      "epoch=61 lr=0.0005502330604940653 loss=0.4107952117919922\n",
      "epoch=62 lr=0.0005283138016238809 loss=0.41156187653541565\n",
      "epoch=63 lr=0.000506339652929455 loss=0.4114292860031128\n",
      "epoch=64 lr=0.00048435357166454196 loss=0.4120069146156311\n",
      "epoch=65 lr=0.0004623976710718125 loss=0.41039448976516724\n",
      "epoch=66 lr=0.00044051450095139444 loss=0.4108618199825287\n",
      "epoch=67 lr=0.0004187468148302287 loss=0.41074541211128235\n",
      "epoch=68 lr=0.0003971360856667161 loss=0.4097667932510376\n",
      "epoch=69 lr=0.00037572436849586666 loss=0.4103347659111023\n",
      "epoch=70 lr=0.00035455342731438577 loss=0.4110722243785858\n",
      "epoch=71 lr=0.0003336636000312865 loss=0.4105161130428314\n",
      "epoch=72 lr=0.00031309586483985186 loss=0.4096032381057739\n",
      "epoch=73 lr=0.0002928894537035376 loss=0.41041135787963867\n",
      "epoch=74 lr=0.0002730839769355953 loss=0.4102528989315033\n",
      "epoch=75 lr=0.0002537174441386014 loss=0.4103509187698364\n",
      "epoch=76 lr=0.00023482716642320156 loss=0.41093015670776367\n",
      "epoch=77 lr=0.00021644984371960163 loss=0.4100760817527771\n",
      "epoch=78 lr=0.0001986212591873482 loss=0.4101187288761139\n",
      "epoch=79 lr=0.00018137549341190606 loss=0.409525066614151\n",
      "epoch=80 lr=0.0001647462631808594 loss=0.4091007709503174\n",
      "epoch=81 lr=0.0001487653498770669 loss=0.4087952971458435\n",
      "epoch=82 lr=0.00013346386549528688 loss=0.4100150167942047\n",
      "epoch=83 lr=0.00011887160508194938 loss=0.4099412262439728\n",
      "epoch=84 lr=0.00010501645738258958 loss=0.4089011251926422\n",
      "epoch=85 lr=9.192524885293096e-05 loss=0.41001367568969727\n",
      "epoch=86 lr=7.96236636233516e-05 loss=0.4094568192958832\n",
      "epoch=87 lr=6.813512300141156e-05 loss=0.40959182381629944\n",
      "epoch=88 lr=5.748197509092279e-05 loss=0.4094073176383972\n",
      "epoch=89 lr=4.768490543938242e-05 loss=0.40952086448669434\n",
      "epoch=90 lr=3.876250411849469e-05 loss=0.4091009199619293\n",
      "epoch=91 lr=3.073247353313491e-05 loss=0.40920308232307434\n",
      "epoch=92 lr=2.3610193238710053e-05 loss=0.40987756848335266\n",
      "epoch=93 lr=1.740936750138644e-05 loss=0.409124493598938\n",
      "epoch=94 lr=1.2142033483542036e-05 loss=0.4094020128250122\n",
      "epoch=95 lr=7.818327503628097e-06 loss=0.40913116931915283\n",
      "epoch=96 lr=4.446651473699603e-06 loss=0.40973106026649475\n",
      "epoch=97 lr=2.0336199213488726e-06 loss=0.4090292155742645\n",
      "epoch=98 lr=5.838221568410518e-07 loss=0.40985363721847534\n",
      "epoch=99 lr=1.0000000116860974e-07 loss=0.4095536172389984\n",
      "\n"
     ]
    }
   ],
   "source": [
    "for epoch in tqdm(range(epoch, total_epochs)):\n",
    "    epoch_loss = 0.0\n",
    "    num_samples = 0\n",
    "    batch = 512\n",
    "    ocstate, occonditionals, octarget = gen_data_batch(epoch, minibatch_per*batch)\n",
    "    for minibatch in range(minibatch_per):\n",
    "        fraction = (epoch + minibatch/minibatch_per)/total_epochs\n",
    "        s = np.s_[minibatch*batch:(minibatch+1)*batch]\n",
    "        \n",
    "        cstate, cconditionals, ctarget = ocstate[s], occonditionals[s], octarget[s]\n",
    "        opt_state, params = update_derivative(fraction, opt_state, cstate, cconditionals, ctarget);\n",
    "        rng += 10\n",
    "        \n",
    "        cur_loss = loss(params, cstate, cconditionals, ctarget)\n",
    "        \n",
    "        epoch_loss += cur_loss\n",
    "        num_samples += len(cstate)\n",
    "    closs = epoch_loss/num_samples\n",
    "    print('epoch={} lr={} loss={}'.format(\n",
    "        epoch, OneCycleLR(fraction), closs)\n",
    "         )\n",
    "    if closs < best_loss:\n",
    "        best_loss = closs\n",
    "        best_params = [[copy(jax.device_get(l2)) for l2 in l1] if len(l1) > 0 else () for l1 in params]"
   ]
  },
  {
   "cell_type": "code",
   "execution_count": 167,
   "metadata": {},
   "outputs": [],
   "source": [
    "import pickle as pkl"
   ]
  },
  {
   "cell_type": "code",
   "execution_count": 169,
   "metadata": {},
   "outputs": [],
   "source": [
    "# pkl.dump({'params': best_params, 'description': 'q and g are divided by 10. hidden=500. act=Softplus'},\n",
    "#          open('best_sr_params_hamiltonian.pkl', 'wb'))"
   ]
  },
  {
   "cell_type": "code",
   "execution_count": 170,
   "metadata": {},
   "outputs": [],
   "source": [
    "opt_state = opt_init(best_params)"
   ]
  },
  {
   "cell_type": "code",
   "execution_count": 171,
   "metadata": {},
   "outputs": [],
   "source": [
    "cstate, cconditionals, ctarget = gen_data(0, 1, 50)"
   ]
  },
  {
   "cell_type": "code",
   "execution_count": 172,
   "metadata": {},
   "outputs": [
    {
     "data": {
      "text/plain": [
       "(50, 2)"
      ]
     },
     "execution_count": 172,
     "metadata": {},
     "output_type": "execute_result"
    }
   ],
   "source": [
    "cstate.shape"
   ]
  },
  {
   "cell_type": "code",
   "execution_count": 173,
   "metadata": {},
   "outputs": [
    {
     "data": {
      "text/plain": [
       "[<matplotlib.lines.Line2D at 0x2aac607dae50>]"
      ]
     },
     "execution_count": 173,
     "metadata": {},
     "output_type": "execute_result"
    },
    {
     "data": {
      "image/png": "[encoded data removed]",
      "text/plain": [
       "<Figure size 432x288 with 1 Axes>"
      ]
     },
     "metadata": {
      "needs_background": "light"
     },
     "output_type": "display_data"
    }
   ],
   "source": [
    "plt.plot(cstate[:, 1])"
   ]
  },
  {
   "cell_type": "code",
   "execution_count": 174,
   "metadata": {},
   "outputs": [],
   "source": [
    "params = get_params(opt_state)"
   ]
  },
  {
   "cell_type": "code",
   "execution_count": 179,
   "metadata": {},
   "outputs": [],
   "source": [
    "plt.rc('font', family='serif')"
   ]
  },
  {
   "cell_type": "code",
   "execution_count": 180,
   "metadata": {},
   "outputs": [
    {
     "data": {
      "application/vnd.jupyter.widget-view+json": {
       "model_id": "dcb46b1394444385abf938114be76535",
       "version_major": 2,
       "version_minor": 0
      },
      "text/plain": [
       "HBox(children=(FloatProgress(value=0.0, max=1.0), HTML(value='')))"
      ]
     },
     "metadata": {},
     "output_type": "display_data"
    },
    {
     "name": "stdout",
     "output_type": "stream",
     "text": [
      "\n"
     ]
    },
    {
     "data": {
      "image/png": "[encoded data removed]",
      "text/plain": [
       "<Figure size 288x288 with 1 Axes>"
      ]
     },
     "metadata": {
      "needs_background": "light"
     },
     "output_type": "display_data"
    }
   ],
   "source": [
    "fig, ax = plt.subplots(1, 1, figsize=(4*1, 4*1), sharex=True, sharey=True)\n",
    "ax_idx = [(i, j) for i in range(1) for j in range(1)]\n",
    "\n",
    "for i in tqdm(range(1)):\n",
    "    \n",
    "    ci = ax_idx[i]\n",
    "    \n",
    "    cstate, cconditionals, ctarget = gen_data((i+4)*(i+1), 1, 50)\n",
    "    \n",
    "    runner = jax.jit(jax.vmap(\n",
    "        partial(\n",
    "            hamiltonian_eom,\n",
    "            learned_dynamics(params, nn_forward_fn)), (0, 0), 0))\n",
    "\n",
    "    @jax.jit\n",
    "    def odefunc_learned(y, t):\n",
    "        return jnp.concatenate((runner(y[None, :2], y[None, [2]])[0], jnp.zeros(1)))\n",
    "\n",
    "    yt_learned = odeint(\n",
    "        odefunc_learned,\n",
    "        jnp.concatenate([cstate[0], cconditionals[0]]),\n",
    "        np.linspace(0, 1, 50),\n",
    "        mxsteps=100)\n",
    "    \n",
    "    cax = ax#[ci[0], ci[1]]\n",
    "    cax.plot(cstate[:, 1], label='Truth')\n",
    "    cax.plot(yt_learned[:, 1], label='Learned')\n",
    "    cax.legend()\n",
    "    if ci[1] == 0:\n",
    "        cax.set_ylabel('Velocity of particle/Speed of light')\n",
    "    if ci[0] == 0:\n",
    "        cax.set_xlabel('Time')\n",
    "        \n",
    "    cax.set_ylim(-1, 1)\n",
    "    \n",
    "plt.title(\"Hamiltonian NN - Special Relativity\")\n",
    "plt.tight_layout()\n",
    "plt.savefig('sr_hnn.png', dpi=150)"
   ]
  },
  {
   "cell_type": "code",
   "execution_count": null,
   "metadata": {},
   "outputs": [],
   "source": []
  }
 ],
 "metadata": {
  "kernelspec": {
   "display_name": "main2",
   "language": "python",
   "name": "main2"
  },
  "language_info": {
   "codemirror_mode": {
    "name": "ipython",
    "version": 3
   },
   "file_extension": ".py",
   "mimetype": "text/x-python",
   "name": "python",
   "nbconvert_exporter": "python",
   "pygments_lexer": "ipython3",
   "version": "3.7.6"
  }
 },
 "nbformat": 4,
 "nbformat_minor": 4
}
