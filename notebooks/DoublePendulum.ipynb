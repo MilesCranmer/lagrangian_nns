{
 "cells": [
  {
   "cell_type": "code",
   "execution_count": 1,
   "metadata": {},
   "outputs": [],
   "source": [
    "import jax\n",
    "import jax.numpy as jnp\n",
    "import numpy as np # get rid of this eventually\n",
    "import argparse\n",
    "from jax import jit\n",
    "from jax.experimental.ode import odeint\n",
    "from functools import partial # reduces arguments to function by making some subset implicit\n",
    "\n",
    "from jax.example_libraries import stax\n",
    "from jax.experimental import optimizers\n",
    "\n",
    "import os, sys, time\n",
    "sys.path.append('..')"
   ]
  },
  {
   "cell_type": "code",
   "execution_count": 2,
   "metadata": {},
   "outputs": [],
   "source": [
    "sys.path.append('../experiment_dblpend/')\n",
    "\n",
    "from lnn import lagrangian_eom_rk4, lagrangian_eom, unconstrained_eom, raw_lagrangian_eom\n",
    "from data import get_dataset\n",
    "from models import mlp as make_mlp\n",
    "from utils import wrap_coords"
   ]
  },
  {
   "cell_type": "code",
   "execution_count": 3,
   "metadata": {},
   "outputs": [],
   "source": [
    "sys.path.append('../hyperopt')"
   ]
  },
  {
   "cell_type": "code",
   "execution_count": 4,
   "metadata": {},
   "outputs": [],
   "source": [
    "from HyperparameterSearch import learned_dynamics"
   ]
  },
  {
   "cell_type": "code",
   "execution_count": 5,
   "metadata": {},
   "outputs": [],
   "source": [
    "from HyperparameterSearch import extended_mlp"
   ]
  },
  {
   "cell_type": "code",
   "execution_count": 6,
   "metadata": {},
   "outputs": [],
   "source": [
    "class ObjectView(object):\n",
    "    def __init__(self, d): self.__dict__ = d"
   ]
  },
  {
   "cell_type": "code",
   "execution_count": 7,
   "metadata": {},
   "outputs": [],
   "source": [
    "from data import get_trajectory"
   ]
  },
  {
   "cell_type": "code",
   "execution_count": 8,
   "metadata": {},
   "outputs": [],
   "source": [
    "from data import get_trajectory_analytic"
   ]
  },
  {
   "cell_type": "code",
   "execution_count": 9,
   "metadata": {},
   "outputs": [],
   "source": [
    "from physics import analytical_fn\n",
    "\n",
    "vfnc = jax.jit(jax.vmap(analytical_fn))\n",
    "vget = partial(jax.jit, backend='cpu')(jax.vmap(partial(get_trajectory_analytic, mxstep=100), (0, None), 0))"
   ]
  },
  {
   "cell_type": "code",
   "execution_count": 10,
   "metadata": {},
   "outputs": [],
   "source": [
    "# 0.29830917716026306 {'act': [4],\n",
    "# 'batch_size': [27.0], 'dt': [0.09609870774790222],\n",
    "# 'hidden_dim': [596.0], 'l2reg': [0.24927677946969878],\n",
    "# 'layers': [4.0], 'lr': [0.005516656601005163],\n",
    "# 'lr2': [1.897157209816416e-05], 'n_updates': [4.0]}"
   ]
  },
  {
   "cell_type": "markdown",
   "metadata": {},
   "source": [
    "### Now, let's load the best model. To generate more models, see the code below."
   ]
  },
  {
   "cell_type": "code",
   "execution_count": 11,
   "metadata": {},
   "outputs": [],
   "source": [
    "import pickle as pkl"
   ]
  },
  {
   "cell_type": "code",
   "execution_count": 12,
   "metadata": {},
   "outputs": [],
   "source": [
    "# loaded = pkl.load(open('./params_for_loss_0.29429444670677185_nupdates=1.pkl', 'rb'))"
   ]
  },
  {
   "cell_type": "code",
   "execution_count": 13,
   "metadata": {},
   "outputs": [],
   "source": [
    "args = ObjectView({'dataset_size': 200,\n",
    " 'fps': 10,\n",
    " 'samples': 100,\n",
    " 'num_epochs': 80000,\n",
    " 'seed': 0,\n",
    " 'loss': 'l1',\n",
    " 'act': 'softplus',\n",
    " 'hidden_dim': 600,\n",
    " 'output_dim': 1,\n",
    " 'layers': 3,\n",
    " 'n_updates': 1,\n",
    " 'lr': 0.001,\n",
    " 'lr2': 2e-05,\n",
    " 'dt': 0.1,\n",
    " 'model': 'gln',\n",
    " 'batch_size': 512,\n",
    " 'l2reg': 5.7e-07,\n",
    "})\n",
    "# args = loaded['args']\n",
    "rng = jax.random.PRNGKey(args.seed)"
   ]
  },
  {
   "cell_type": "code",
   "execution_count": 14,
   "metadata": {},
   "outputs": [],
   "source": [
    "from jax.experimental.ode import odeint"
   ]
  },
  {
   "cell_type": "code",
   "execution_count": 15,
   "metadata": {},
   "outputs": [],
   "source": [
    "from HyperparameterSearch import new_get_dataset"
   ]
  },
  {
   "cell_type": "code",
   "execution_count": 16,
   "metadata": {},
   "outputs": [],
   "source": [
    "from matplotlib import pyplot as plt"
   ]
  },
  {
   "cell_type": "code",
   "execution_count": 17,
   "metadata": {},
   "outputs": [],
   "source": [
    "vfnc = jax.jit(jax.vmap(analytical_fn, 0, 0))\n",
    "vget = partial(jax.jit, backend='cpu')(jax.vmap(partial(get_trajectory_analytic, mxstep=100), (0, None), 0))\n",
    "minibatch_per = 2000\n",
    "batch = 512\n",
    "\n",
    "@jax.jit\n",
    "def get_derivative_dataset(rng):\n",
    "    # randomly sample inputs\n",
    "\n",
    "    y0 = jnp.concatenate([\n",
    "        jax.random.uniform(rng, (batch*minibatch_per, 2))*2.0*np.pi,\n",
    "        (jax.random.uniform(rng+1, (batch*minibatch_per, 2))-0.5)*10*2\n",
    "    ], axis=1)\n",
    "    \n",
    "    return y0, vfnc(y0)"
   ]
  },
  {
   "cell_type": "code",
   "execution_count": 18,
   "metadata": {},
   "outputs": [],
   "source": [
    "best_params = None\n",
    "best_loss = np.inf"
   ]
  },
  {
   "cell_type": "code",
   "execution_count": 19,
   "metadata": {},
   "outputs": [],
   "source": [
    "from itertools import product"
   ]
  },
  {
   "cell_type": "code",
   "execution_count": 20,
   "metadata": {},
   "outputs": [
    {
     "name": "stdout",
     "output_type": "stream",
     "text": [
      "1e-05\n"
     ]
    }
   ],
   "source": [
    "init_random_params, nn_forward_fn = extended_mlp(args)\n",
    "import HyperparameterSearch\n",
    "HyperparameterSearch.nn_forward_fn = nn_forward_fn\n",
    "_, init_params = init_random_params(rng+1, (-1, 4))\n",
    "rng += 1\n",
    "model = (nn_forward_fn, init_params)\n",
    "opt_init, opt_update, get_params = optimizers.adam(args.lr)\n",
    "opt_state = opt_init([[l2/200.0 for l2 in l1] for l1 in init_params])\n",
    "from jax.tree_util import tree_flatten\n",
    "from HyperparameterSearch import make_loss, train\n",
    "from copy import deepcopy as copy\n",
    "# train(args, model, data, rng);\n",
    "from jax.tree_util import tree_flatten\n",
    "\n",
    "@jax.jit\n",
    "def loss(params, batch, l2reg):\n",
    "    state, targets = batch#_rk4\n",
    "    leaves, _ = tree_flatten(params)\n",
    "    l2_norm = sum(jnp.vdot(param, param) for param in leaves)\n",
    "    preds = jax.vmap(\n",
    "        partial(\n",
    "            raw_lagrangian_eom,\n",
    "            learned_dynamics(params)))(state)\n",
    "    return jnp.sum(jnp.abs(preds - targets)) + l2reg*l2_norm/args.batch_size\n",
    "\n",
    "# @jax.jit\n",
    "# def normalize_param_update(param_update):\n",
    "#     new_params = []\n",
    "#     num_weights = args.hidden_dim**2*3\n",
    "#     gradient_norm = sum([jnp.sum(l2**2)\n",
    "#                          for l1 in param_update\n",
    "#                          for l2 in l1\n",
    "#                          if len(l1) != 0])/num_weights\n",
    "# #     gradient_norm = 1 + \n",
    "#     for l1 in param_update:\n",
    "#         if (len(l1)) == 0: new_params.append(()); continue\n",
    "#         new_l1 = []\n",
    "#         for l2 in l1:\n",
    "#             new_l1.append(\n",
    "#                 l2/gradient_norm\n",
    "#             )\n",
    "\n",
    "#         new_params.append(new_l1)\n",
    "        \n",
    "#     return new_params\n",
    "\n",
    "@jax.jit\n",
    "def update_derivative(i, opt_state, batch, l2reg):\n",
    "    params = get_params(opt_state)\n",
    "    param_update = jax.grad(\n",
    "            lambda *args: loss(*args)/len(batch),\n",
    "            0\n",
    "        )(params, batch, l2reg)\n",
    "#     param_update = normalize_param_update(param_update)\n",
    "    params = get_params(opt_state)\n",
    "    return opt_update(i, param_update, opt_state), params\n",
    "\n",
    "\n",
    "best_small_loss = np.inf\n",
    "(nn_forward_fn, init_params) = model\n",
    "iteration = 0\n",
    "total_epochs = 300\n",
    "minibatch_per = 2000\n",
    "train_losses, test_losses = [], []\n",
    "\n",
    "lr = 1e-5 #1e-3\n",
    "import math\n",
    "\n",
    "final_div_factor=1e4\n",
    "\n",
    "#OneCycleLR:\n",
    "@jax.jit\n",
    "def OneCycleLR(pct):\n",
    "    #Rush it:\n",
    "    start = 0.2 #0.2\n",
    "    pct = pct * (1-start) + start\n",
    "    high, low = lr, lr/final_div_factor\n",
    "    \n",
    "    scale = 1.0 - (jnp.cos(2 * jnp.pi * pct) + 1)/2\n",
    "    \n",
    "    return low + (high - low)*scale\n",
    "    \n",
    "from lnn import custom_init\n",
    "\n",
    "opt_init, opt_update, get_params = optimizers.adam(\n",
    "    OneCycleLR\n",
    ")\n",
    "\n",
    "init_params = custom_init(init_params, seed=0)\n",
    "\n",
    "opt_state = opt_init(init_params)\n",
    "# opt_state = opt_init(best_params)\n",
    "bad_iterations = 0\n",
    "print(lr)"
   ]
  },
  {
   "cell_type": "markdown",
   "metadata": {},
   "source": [
    "Idea: add identity before inverse:"
   ]
  },
  {
   "cell_type": "markdown",
   "metadata": {},
   "source": [
    "# Let's train it:"
   ]
  },
  {
   "cell_type": "code",
   "execution_count": 21,
   "metadata": {},
   "outputs": [],
   "source": [
    "rng = jax.random.PRNGKey(0)"
   ]
  },
  {
   "cell_type": "code",
   "execution_count": 22,
   "metadata": {},
   "outputs": [],
   "source": [
    "epoch = 0"
   ]
  },
  {
   "cell_type": "code",
   "execution_count": 23,
   "metadata": {},
   "outputs": [
    {
     "name": "stdout",
     "output_type": "stream",
     "text": [
      "(1000, 4)\n"
     ]
    }
   ],
   "source": [
    "batch_data = get_derivative_dataset(rng)[0][:1000], get_derivative_dataset(rng)[1][:1000]\n",
    "print(batch_data[0].shape)"
   ]
  },
  {
   "cell_type": "code",
   "execution_count": 24,
   "metadata": {},
   "outputs": [
    {
     "data": {
      "text/plain": [
       "DeviceArray(298.26022, dtype=float32)"
      ]
     },
     "execution_count": 24,
     "metadata": {},
     "output_type": "execute_result"
    }
   ],
   "source": [
    "loss(get_params(opt_state), batch_data, 0.0)/len(batch_data[0])"
   ]
  },
  {
   "cell_type": "code",
   "execution_count": 25,
   "metadata": {},
   "outputs": [],
   "source": [
    "opt_state, params = update_derivative(0.0, opt_state, batch_data, 0.0)"
   ]
  },
  {
   "cell_type": "code",
   "execution_count": 26,
   "metadata": {},
   "outputs": [],
   "source": [
    "from tqdm.notebook import tqdm"
   ]
  },
  {
   "cell_type": "code",
   "execution_count": 27,
   "metadata": {},
   "outputs": [],
   "source": [
    "# best_loss = np.inf\n",
    "# best_params = None"
   ]
  },
  {
   "cell_type": "code",
   "execution_count": null,
   "metadata": {},
   "outputs": [
    {
     "data": {
      "application/vnd.jupyter.widget-view+json": {
       "model_id": "fd8267cafa0545dfad76693a2942ad78",
       "version_major": 2,
       "version_minor": 0
      },
      "text/plain": [
       "HBox(children=(FloatProgress(value=0.0, max=300.0), HTML(value='')))"
      ]
     },
     "metadata": {},
     "output_type": "display_data"
    },
    {
     "name": "stdout",
     "output_type": "stream",
     "text": [
      "epoch=0 lr=3.53541008735192e-06 loss=0.11645260453224182\n",
      "epoch=1 lr=3.6157020986138377e-06 loss=0.11121587455272675\n",
      "epoch=2 lr=3.6963824641134124e-06 loss=0.11095187067985535\n",
      "epoch=3 lr=3.7774289012304507e-06 loss=0.11102080345153809\n",
      "epoch=4 lr=3.858819127344759e-06 loss=0.11111775785684586\n",
      "epoch=5 lr=3.940529040846741e-06 loss=0.11088093370199203\n",
      "epoch=6 lr=4.022537723358255e-06 loss=0.11053554713726044\n",
      "epoch=7 lr=4.104820163775003e-06 loss=0.11097639799118042\n",
      "epoch=8 lr=4.187354534224141e-06 loss=0.11099375784397125\n",
      "epoch=9 lr=4.270117187843425e-06 loss=0.11077816784381866\n",
      "epoch=10 lr=4.353084477770608e-06 loss=0.110976442694664\n",
      "epoch=11 lr=4.436233666638145e-06 loss=0.11080900579690933\n",
      "epoch=12 lr=4.51954065283644e-06 loss=0.11088813096284866\n",
      "epoch=13 lr=4.60298360849265e-06 loss=0.1110236793756485\n",
      "epoch=14 lr=4.6865370677551255e-06 loss=0.11059053987264633\n",
      "epoch=15 lr=4.770179657498375e-06 loss=0.11085053533315659\n",
      "epoch=16 lr=4.85388682136545e-06 loss=0.1109449714422226\n",
      "epoch=17 lr=4.937634912494104e-06 loss=0.1109158918261528\n",
      "epoch=18 lr=5.021400284022093e-06 loss=0.11091697961091995\n",
      "epoch=19 lr=5.105160198581871e-06 loss=0.11045420914888382\n",
      "epoch=20 lr=5.188890554563841e-06 loss=0.11057215929031372\n",
      "epoch=21 lr=5.272568159853108e-06 loss=0.1106092780828476\n",
      "epoch=22 lr=5.356169367587427e-06 loss=0.10980541259050369\n",
      "epoch=23 lr=5.439670985651901e-06 loss=0.11046552658081055\n",
      "epoch=24 lr=5.523048912436934e-06 loss=0.11013047397136688\n",
      "epoch=25 lr=5.606280410574982e-06 loss=0.11071895807981491\n",
      "epoch=26 lr=5.689341833203798e-06 loss=0.11105978488922119\n",
      "epoch=27 lr=5.772209078713786e-06 loss=0.10972379893064499\n",
      "epoch=28 lr=5.854860773979453e-06 loss=0.1105145514011383\n",
      "epoch=29 lr=5.937272362643853e-06 loss=0.11008085310459137\n",
      "epoch=30 lr=6.019420652592089e-06 loss=0.11081518977880478\n",
      "epoch=31 lr=6.101282906456618e-06 loss=0.10983306914567947\n",
      "epoch=32 lr=6.182836841617245e-06 loss=0.1098426878452301\n",
      "epoch=33 lr=6.264057901717024e-06 loss=0.10981699079275131\n",
      "epoch=34 lr=6.344924713630462e-06 loss=0.11027263104915619\n",
      "epoch=35 lr=6.4254140852426644e-06 loss=0.11009667813777924\n",
      "epoch=36 lr=6.505503279186087e-06 loss=0.11008836328983307\n",
      "epoch=37 lr=6.5851700128405355e-06 loss=0.10970569401979446\n",
      "epoch=38 lr=6.664391548838466e-06 loss=0.11100056022405624\n",
      "epoch=39 lr=6.743146968801739e-06 loss=0.1085117980837822\n",
      "epoch=40 lr=6.821412625868106e-06 loss=0.10979907214641571\n",
      "epoch=41 lr=6.8991671469120774e-06 loss=0.10995670408010483\n",
      "epoch=42 lr=6.976388249313459e-06 loss=0.10989423841238022\n",
      "epoch=43 lr=7.0530554694414604e-06 loss=0.10918614268302917\n",
      "epoch=44 lr=7.129146524675889e-06 loss=0.10897506773471832\n",
      "epoch=45 lr=7.204639587143902e-06 loss=0.11013175547122955\n",
      "epoch=46 lr=7.279513283720007e-06 loss=0.10842091590166092\n",
      "epoch=47 lr=7.353747150773415e-06 loss=0.10905831307172775\n",
      "epoch=48 lr=7.427322088915389e-06 loss=0.10923684388399124\n",
      "epoch=49 lr=7.500214451283682e-06 loss=0.1102827712893486\n",
      "epoch=50 lr=7.5724051384895574e-06 loss=0.10919631272554398\n",
      "epoch=51 lr=7.643873686902225e-06 loss=0.1091272234916687\n",
      "epoch=52 lr=7.714601451880299e-06 loss=0.1084405779838562\n",
      "epoch=53 lr=7.784566150803585e-06 loss=0.10915550589561462\n",
      "epoch=54 lr=7.853748684283346e-06 loss=0.10825174301862717\n",
      "epoch=55 lr=7.922130862425547e-06 loss=0.10934004187583923\n",
      "epoch=56 lr=7.989694495336153e-06 loss=0.11018098890781403\n",
      "epoch=57 lr=8.056415936152916e-06 loss=0.10884448885917664\n",
      "epoch=58 lr=8.12228063296061e-06 loss=0.10905773937702179\n",
      "epoch=59 lr=8.187269486370496e-06 loss=0.10857034474611282\n",
      "epoch=60 lr=8.25136430648854e-06 loss=0.10993754118680954\n",
      "epoch=61 lr=8.314545993926004e-06 loss=0.10852953791618347\n",
      "epoch=62 lr=8.376796358788852e-06 loss=0.10983790457248688\n",
      "epoch=63 lr=8.438099030172452e-06 loss=0.10859303921461105\n",
      "epoch=64 lr=8.498437637172174e-06 loss=0.10810678452253342\n",
      "epoch=65 lr=8.557794899388682e-06 loss=0.10872457176446915\n",
      "epoch=66 lr=8.61615171743324e-06 loss=0.10892783105373383\n",
      "epoch=67 lr=8.67349353939062e-06 loss=0.10814107954502106\n",
      "epoch=68 lr=8.729805813345592e-06 loss=0.10868991911411285\n",
      "epoch=69 lr=8.785070349404123e-06 loss=0.10957345366477966\n",
      "epoch=70 lr=8.839272595650982e-06 loss=0.108676977455616\n",
      "epoch=71 lr=8.892396181181539e-06 loss=0.10778353363275528\n",
      "epoch=72 lr=8.94442928256467e-06 loss=0.10803697258234024\n",
      "epoch=73 lr=8.99535370990634e-06 loss=0.10804814100265503\n",
      "epoch=74 lr=9.045156730280723e-06 loss=0.10896649211645126\n",
      "epoch=75 lr=9.093823791772593e-06 loss=0.10836223512887955\n",
      "epoch=76 lr=9.141343070950825e-06 loss=0.10813482105731964\n",
      "epoch=77 lr=9.187699106405489e-06 loss=0.10795410722494125\n",
      "epoch=78 lr=9.232880074705463e-06 loss=0.10901598632335663\n",
      "epoch=79 lr=9.27687233343022e-06 loss=0.1100221574306488\n",
      "epoch=80 lr=9.319664968643337e-06 loss=0.10801181197166443\n",
      "epoch=81 lr=9.36124433792429e-06 loss=0.10875190794467926\n",
      "epoch=82 lr=9.401600436831359e-06 loss=0.10617510229349136\n",
      "epoch=83 lr=9.440719622944016e-06 loss=0.10793821513652802\n",
      "epoch=84 lr=9.478592801315244e-06 loss=0.10836239904165268\n",
      "epoch=85 lr=9.515209058008622e-06 loss=0.10693323612213135\n",
      "epoch=86 lr=9.55055838858243e-06 loss=0.10809595137834549\n",
      "epoch=87 lr=9.584629879100248e-06 loss=0.10834357142448425\n",
      "epoch=88 lr=9.617414434615057e-06 loss=0.10674401372671127\n",
      "epoch=89 lr=9.64890296017984e-06 loss=0.1072845607995987\n",
      "epoch=90 lr=9.679086360847577e-06 loss=0.10909373313188553\n",
      "epoch=91 lr=9.707956451165956e-06 loss=0.10650701820850372\n",
      "epoch=92 lr=9.735505045682658e-06 loss=0.10929550230503082\n",
      "epoch=93 lr=9.76172486844007e-06 loss=0.10723818093538284\n",
      "epoch=94 lr=9.786607733985875e-06 loss=0.1047123521566391\n",
      "epoch=95 lr=9.81014636636246e-06 loss=0.1072940081357956\n",
      "epoch=96 lr=9.832335308601614e-06 loss=0.10815825313329697\n",
      "epoch=97 lr=9.853168194240425e-06 loss=0.1053895652294159\n",
      "epoch=98 lr=9.87263865681598e-06 loss=0.10706069320440292\n",
      "epoch=99 lr=9.890740329865366e-06 loss=0.10746884346008301\n",
      "epoch=100 lr=9.90747048490448e-06 loss=0.10468041896820068\n",
      "epoch=101 lr=9.922822755470406e-06 loss=0.10700853914022446\n",
      "epoch=102 lr=9.93679350358434e-06 loss=0.10787925869226456\n",
      "epoch=103 lr=9.94937727227807e-06 loss=0.10447873175144196\n",
      "epoch=104 lr=9.960572242562193e-06 loss=0.10672973841428757\n",
      "epoch=105 lr=9.970375685952604e-06 loss=0.10674896836280823\n",
      "epoch=106 lr=9.978783964470495e-06 loss=0.10408999025821686\n",
      "epoch=107 lr=9.985793440137058e-06 loss=0.10829337686300278\n",
      "epoch=108 lr=9.991404112952296e-06 loss=0.10413895547389984\n",
      "epoch=109 lr=9.9956132544321e-06 loss=0.10542222857475281\n",
      "epoch=110 lr=9.998420864576474e-06 loss=0.10552699118852615\n",
      "epoch=111 lr=9.999825124396011e-06 loss=0.10564102232456207\n",
      "epoch=112 lr=9.999825124396011e-06 loss=0.10440906882286072\n",
      "epoch=113 lr=9.998422683565877e-06 loss=0.10488957911729813\n",
      "epoch=114 lr=9.995616892410908e-06 loss=0.10431116074323654\n",
      "epoch=115 lr=9.991408660425805e-06 loss=0.10559535026550293\n",
      "epoch=116 lr=9.985799806599971e-06 loss=0.10487396270036697\n",
      "epoch=117 lr=9.978790330933407e-06 loss=0.10429417341947556\n",
      "epoch=118 lr=9.970384780899622e-06 loss=0.10356982052326202\n",
      "epoch=119 lr=9.960583156498615e-06 loss=0.10410139709711075\n",
      "epoch=120 lr=9.949389095709193e-06 loss=0.1033564880490303\n",
      "epoch=121 lr=9.936806236510165e-06 loss=0.10425261408090591\n",
      "epoch=122 lr=9.922837307385635e-06 loss=0.10265835374593735\n",
      "epoch=123 lr=9.907486855809111e-06 loss=0.10250823199748993\n",
      "epoch=124 lr=9.8907576102647e-06 loss=0.10416904836893082\n",
      "epoch=125 lr=9.872656846710015e-06 loss=0.10329270362854004\n",
      "epoch=126 lr=9.853187293629162e-06 loss=0.10168487578630447\n",
      "epoch=127 lr=9.832357136474457e-06 loss=0.10116548836231232\n",
      "epoch=128 lr=9.810169103730004e-06 loss=0.10249575227499008\n",
      "epoch=129 lr=9.786631380848121e-06 loss=0.10268820822238922\n",
      "epoch=130 lr=9.761750334291719e-06 loss=0.09934281557798386\n",
      "epoch=131 lr=9.735531421029009e-06 loss=0.1006186231970787\n",
      "epoch=132 lr=9.70798464550171e-06 loss=0.1021687388420105\n",
      "epoch=133 lr=9.679116374172736e-06 loss=0.1021689623594284\n",
      "epoch=134 lr=9.648932973504998e-06 loss=0.10081358999013901\n",
      "epoch=135 lr=9.617446266929619e-06 loss=0.10001219063997269\n",
      "epoch=136 lr=9.584662620909512e-06 loss=0.10009706020355225\n",
      "epoch=137 lr=9.550592039886396e-06 loss=0.10117053240537643\n",
      "epoch=138 lr=9.515244528301992e-06 loss=0.1010860875248909\n",
      "epoch=139 lr=9.478630090598017e-06 loss=0.09981221705675125\n",
      "epoch=140 lr=9.44075782172149e-06 loss=0.09803178161382675\n",
      "epoch=141 lr=9.401639545103535e-06 loss=0.10026580095291138\n",
      "epoch=142 lr=9.361284355691168e-06 loss=0.09856798499822617\n",
      "epoch=143 lr=9.319706805399619e-06 loss=0.09830654412508011\n",
      "epoch=144 lr=9.276915079681203e-06 loss=0.09835507720708847\n",
      "epoch=145 lr=9.232923730451148e-06 loss=0.09804670512676239\n",
      "epoch=146 lr=9.187744581140578e-06 loss=0.09932740032672882\n",
      "epoch=147 lr=9.141389455180615e-06 loss=0.09778297692537308\n",
      "epoch=148 lr=9.093871994991787e-06 loss=0.09720072150230408\n",
      "epoch=149 lr=9.045204933499917e-06 loss=0.09779360890388489\n",
      "epoch=150 lr=8.995402822620235e-06 loss=0.09521219879388809\n",
      "epoch=151 lr=8.944479304773267e-06 loss=0.09703436493873596\n",
      "epoch=152 lr=8.892448931874242e-06 loss=0.094885915517807\n",
      "epoch=153 lr=8.839325346343685e-06 loss=0.09695422649383545\n",
      "epoch=154 lr=8.78512582858093e-06 loss=0.0941348448395729\n",
      "epoch=155 lr=8.7298612925224e-06 loss=0.09416206926107407\n",
      "epoch=156 lr=8.67354992806213e-06 loss=0.09581366926431656\n",
      "epoch=157 lr=8.616209015599452e-06 loss=0.09380485117435455\n",
      "epoch=158 lr=8.557852197554894e-06 loss=0.09333278238773346\n",
      "epoch=159 lr=8.498496754327789e-06 loss=0.09452585875988007\n",
      "epoch=160 lr=8.43815905682277e-06 loss=0.09357675164937973\n",
      "epoch=161 lr=8.376856385439169e-06 loss=0.09380781650543213\n",
      "epoch=162 lr=8.31460602057632e-06 loss=0.09465888142585754\n",
      "epoch=163 lr=8.251427061622962e-06 loss=0.09384113550186157\n",
      "epoch=164 lr=8.187334060494322e-06 loss=0.09341228008270264\n",
      "epoch=165 lr=8.122346116579138e-06 loss=0.09279050678014755\n",
      "epoch=166 lr=8.056480510276742e-06 loss=0.09291040152311325\n",
      "epoch=167 lr=7.989759069459978e-06 loss=0.09193019568920135\n",
      "epoch=168 lr=7.922198165033478e-06 loss=0.09250010550022125\n",
      "epoch=169 lr=7.853816896385979e-06 loss=0.09180530160665512\n",
      "epoch=170 lr=7.784634362906218e-06 loss=0.09129239618778229\n",
      "epoch=171 lr=7.714670573477633e-06 loss=0.0910787507891655\n",
      "epoch=172 lr=7.643944627488963e-06 loss=0.09006045013666153\n",
      "epoch=173 lr=7.572476533823647e-06 loss=0.0913037657737732\n",
      "epoch=174 lr=7.500287210859824e-06 loss=0.08947151154279709\n",
      "epoch=175 lr=7.427395303238882e-06 loss=0.08966460078954697\n",
      "epoch=176 lr=7.353820365096908e-06 loss=0.08968701958656311\n",
      "epoch=177 lr=7.279584679054096e-06 loss=0.0891961082816124\n",
      "epoch=178 lr=7.204713256214745e-06 loss=0.08947204053401947\n",
      "epoch=179 lr=7.129221103241434e-06 loss=0.08821677416563034\n",
      "epoch=180 lr=7.0531314122490585e-06 loss=0.08790134638547897\n",
      "epoch=181 lr=6.976465101615759e-06 loss=0.08811262995004654\n",
      "epoch=182 lr=6.899242634972325e-06 loss=0.08640791475772858\n",
      "epoch=183 lr=6.821489023423055e-06 loss=0.08730781078338623\n",
      "epoch=184 lr=6.743224275851389e-06 loss=0.08670624345541\n",
      "epoch=185 lr=6.664469765382819e-06 loss=0.0861116275191307\n",
      "epoch=186 lr=6.585248684132239e-06 loss=0.08618141710758209\n",
      "epoch=187 lr=6.505582859972492e-06 loss=0.0871734544634819\n",
      "epoch=188 lr=6.4254941207764205e-06 loss=0.08602049946784973\n",
      "epoch=189 lr=6.345005203911569e-06 loss=0.0858013927936554\n",
      "epoch=190 lr=6.264138846745482e-06 loss=0.08557379245758057\n",
      "epoch=191 lr=6.182917786645703e-06 loss=0.08504987508058548\n",
      "epoch=192 lr=6.101365215727128e-06 loss=0.08482072502374649\n",
      "epoch=193 lr=6.019501142873196e-06 loss=0.08515217900276184\n",
      "epoch=194 lr=5.937353307672311e-06 loss=0.08472207188606262\n",
      "epoch=195 lr=5.854942173755262e-06 loss=0.08404465764760971\n",
      "epoch=196 lr=5.772290933236945e-06 loss=0.08453381806612015\n",
      "epoch=197 lr=5.689424142474309e-06 loss=0.08337386697530746\n",
      "epoch=198 lr=5.606363174592843e-06 loss=0.0836155042052269\n",
      "epoch=199 lr=5.523129857465392e-06 loss=0.08345740288496017\n",
      "epoch=200 lr=5.439751930680359e-06 loss=0.08363361656665802\n",
      "epoch=201 lr=5.356251222110586e-06 loss=0.0823959931731224\n",
      "epoch=202 lr=5.272650469123619e-06 loss=0.08313436061143875\n",
      "epoch=203 lr=5.188973318581702e-06 loss=0.08185262978076935\n",
      "epoch=204 lr=5.105242962599732e-06 loss=0.08182049542665482\n",
      "epoch=205 lr=5.021483502787305e-06 loss=0.08193966001272202\n",
      "epoch=206 lr=4.937718131259317e-06 loss=0.0814216211438179\n",
      "epoch=207 lr=4.853970040130662e-06 loss=0.08091078698635101\n",
      "epoch=208 lr=4.770263785758289e-06 loss=0.08112740516662598\n",
      "epoch=209 lr=4.686618922278285e-06 loss=0.0800306424498558\n",
      "epoch=210 lr=4.603065008268459e-06 loss=0.08081136643886566\n",
      "epoch=211 lr=4.519622962106951e-06 loss=0.07988520711660385\n",
      "epoch=212 lr=4.436315521161305e-06 loss=0.08044128865003586\n",
      "epoch=213 lr=4.353166787041118e-06 loss=0.07961104810237885\n",
      "epoch=214 lr=4.270199042366585e-06 loss=0.07944215834140778\n",
      "epoch=215 lr=4.187434569757897e-06 loss=0.07937891036272049\n",
      "epoch=216 lr=4.1049006540561095e-06 loss=0.07988286763429642\n",
      "epoch=217 lr=4.022617758892011e-06 loss=0.07899588346481323\n",
      "epoch=218 lr=3.940609985875199e-06 loss=0.07862580567598343\n",
      "epoch=219 lr=3.858899617625866e-06 loss=0.07855773717164993\n",
      "epoch=220 lr=3.7775093915115576e-06 loss=0.078107088804245\n",
      "epoch=221 lr=3.6964629543945193e-06 loss=0.07836230099201202\n",
      "epoch=222 lr=3.615782361521269e-06 loss=0.07792561501264572\n",
      "epoch=223 lr=3.535490577633027e-06 loss=0.07768455147743225\n",
      "epoch=224 lr=3.455609885349986e-06 loss=0.07715358585119247\n",
      "epoch=225 lr=3.376160520929261e-06 loss=0.07740391790866852\n",
      "epoch=226 lr=3.297169769211905e-06 loss=0.07726872712373734\n",
      "epoch=227 lr=3.2186567295866553e-06 loss=0.0768754780292511\n",
      "epoch=228 lr=3.1406443667947315e-06 loss=0.07642637193202972\n",
      "epoch=229 lr=3.0631542813353008e-06 loss=0.07686550915241241\n",
      "epoch=230 lr=2.9862076189601794e-06 loss=0.07624971121549606\n",
      "epoch=231 lr=2.9098264349158853e-06 loss=0.07615771144628525\n",
      "epoch=232 lr=2.834031874954235e-06 loss=0.07594336569309235\n",
      "epoch=233 lr=2.758843947958667e-06 loss=0.0761604979634285\n",
      "epoch=234 lr=2.6842872102861293e-06 loss=0.0752788856625557\n",
      "epoch=235 lr=2.610380533951684e-06 loss=0.07567745447158813\n",
      "epoch=236 lr=2.537145064707147e-06 loss=0.07531963288784027\n",
      "epoch=237 lr=2.464601038809633e-06 loss=0.07548356801271439\n",
      "epoch=238 lr=2.392769147263607e-06 loss=0.07485649734735489\n",
      "epoch=239 lr=2.321669171578833e-06 loss=0.07494990527629852\n",
      "epoch=240 lr=2.2513211206387496e-06 loss=0.07466519623994827\n",
      "epoch=241 lr=2.181743411711068e-06 loss=0.07450886815786362\n",
      "epoch=242 lr=2.112958100042306e-06 loss=0.07411233335733414\n",
      "epoch=243 lr=2.0449840576475253e-06 loss=0.07436840981245041\n",
      "epoch=244 lr=1.9778394744207617e-06 loss=0.07432913035154343\n",
      "epoch=245 lr=1.9115432223770767e-06 loss=0.07379957288503647\n",
      "epoch=246 lr=1.8461145145920455e-06 loss=0.07397019863128662\n",
      "epoch=247 lr=1.7815709725255147e-06 loss=0.07364539802074432\n",
      "epoch=248 lr=1.7179308997583576e-06 loss=0.07353881001472473\n",
      "epoch=249 lr=1.655212713558285e-06 loss=0.0734546035528183\n",
      "epoch=250 lr=1.5934339216983062e-06 loss=0.07309593260288239\n",
      "epoch=251 lr=1.532609303467325e-06 loss=0.07355116307735443\n"
     ]
    }
   ],
   "source": [
    "for epoch in tqdm(range(epoch, total_epochs)):\n",
    "    epoch_loss = 0.0\n",
    "    num_samples = 0\n",
    "    all_batch_data = get_derivative_dataset(rng)\n",
    "    for minibatch in range(minibatch_per):\n",
    "        fraction = (epoch + minibatch/minibatch_per)/total_epochs\n",
    "        batch_data = (all_batch_data[0][minibatch*batch:(minibatch+1)*batch], all_batch_data[1][minibatch*batch:(minibatch+1)*batch])\n",
    "        rng += 10\n",
    "        opt_state, params = update_derivative(fraction, opt_state, batch_data, 1e-6)\n",
    "        cur_loss = loss(params, batch_data, 0.0)\n",
    "        epoch_loss += cur_loss\n",
    "        num_samples += batch\n",
    "    closs = epoch_loss/num_samples\n",
    "    print('epoch={} lr={} loss={}'.format(\n",
    "        epoch, OneCycleLR(fraction), closs)\n",
    "         )\n",
    "    if closs < best_loss:\n",
    "        best_loss = closs\n",
    "        best_params = [[copy(jax.device_get(l2)) for l2 in l1] if len(l1) > 0 else () for l1 in params]"
   ]
  },
  {
   "cell_type": "markdown",
   "metadata": {},
   "source": [
    "Look at distribution of weights to make a better model?"
   ]
  },
  {
   "cell_type": "code",
   "execution_count": 28,
   "metadata": {},
   "outputs": [],
   "source": [
    "# p = get_params(opt_state)"
   ]
  },
  {
   "cell_type": "code",
   "execution_count": 29,
   "metadata": {},
   "outputs": [],
   "source": [
    "# pkl.dump(\n",
    "#     best_params,\n",
    "#     open('best_dblpendulum_params_v5.pt', 'wb')\n",
    "# )"
   ]
  },
  {
   "cell_type": "code",
   "execution_count": 30,
   "metadata": {},
   "outputs": [],
   "source": [
    "best_params = pkl.load(open('best_dblpendulum_params_v5.pt', 'rb'))"
   ]
  },
  {
   "cell_type": "code",
   "execution_count": 31,
   "metadata": {},
   "outputs": [],
   "source": [
    "opt_state = opt_init(best_params)"
   ]
  },
  {
   "cell_type": "markdown",
   "metadata": {},
   "source": [
    "### Make sure the args are the same:"
   ]
  },
  {
   "cell_type": "code",
   "execution_count": 32,
   "metadata": {},
   "outputs": [],
   "source": [
    "# opt_state = opt_init(loaded['params'])"
   ]
  },
  {
   "cell_type": "code",
   "execution_count": 33,
   "metadata": {},
   "outputs": [
    {
     "data": {
      "text/plain": [
       "DeviceArray([7, 7], dtype=uint32)"
      ]
     },
     "execution_count": 33,
     "metadata": {},
     "output_type": "execute_result"
    }
   ],
   "source": [
    "rng+7"
   ]
  },
  {
   "cell_type": "markdown",
   "metadata": {},
   "source": [
    "The seed: [8, 8] looks pretty good! Set args.n_updates=3, and the file params_for_loss_0.29429444670677185_nupdates=1.pkl."
   ]
  },
  {
   "cell_type": "code",
   "execution_count": 34,
   "metadata": {},
   "outputs": [],
   "source": [
    "max_t = 10\n",
    "new_dataset = new_get_dataset(jax.random.PRNGKey(2),\n",
    "                              t_span=[0, max_t],\n",
    "                              fps=10, test_split=1.0,\n",
    "                              unlimited_steps=False)\n"
   ]
  },
  {
   "cell_type": "code",
   "execution_count": 35,
   "metadata": {},
   "outputs": [],
   "source": [
    "t = new_dataset['x'][0, :]\n",
    "tall = [jax.device_get(t)]\n",
    "p = get_params(opt_state)"
   ]
  },
  {
   "cell_type": "code",
   "execution_count": 36,
   "metadata": {},
   "outputs": [
    {
     "data": {
      "text/plain": [
       "(99, 4)"
      ]
     },
     "execution_count": 36,
     "metadata": {},
     "output_type": "execute_result"
    }
   ],
   "source": [
    "new_dataset['x'].shape"
   ]
  },
  {
   "cell_type": "code",
   "execution_count": 37,
   "metadata": {},
   "outputs": [],
   "source": [
    "pred_tall = jax.device_get(odeint(\n",
    "    partial(raw_lagrangian_eom, learned_dynamics(p)),\n",
    "    t,\n",
    "    np.linspace(0, max_t, num=new_dataset['x'].shape[0]),\n",
    "    mxstep=100))"
   ]
  },
  {
   "cell_type": "code",
   "execution_count": 38,
   "metadata": {},
   "outputs": [],
   "source": [
    "@jit\n",
    "def kinetic_energy(state, m1=1, m2=1, l1=1, l2=1, g=9.8):\n",
    "    q, q_dot = jnp.split(state, 2)\n",
    "    (t1, t2), (w1, w2) = q, q_dot\n",
    "\n",
    "    T1 = 0.5 * m1 * (l1 * w1)**2\n",
    "    T2 = 0.5 * m2 * ((l1 * w1)**2 + (l2 * w2)**2 + 2 * l1 * l2 * w1 * w2 * jnp.cos(t1 - t2))\n",
    "    T = T1 + T2\n",
    "    return T\n",
    "\n",
    "@jit\n",
    "def potential_energy(state, m1=1, m2=1, l1=1, l2=1, g=9.8):\n",
    "    q, q_dot = jnp.split(state, 2)\n",
    "    (t1, t2), (w1, w2) = q, q_dot\n",
    "\n",
    "    y1 = -l1 * jnp.cos(t1)\n",
    "    y2 = y1 - l2 * jnp.cos(t2)\n",
    "    V = m1 * g * y1 + m2 * g * y2\n",
    "    return V"
   ]
  },
  {
   "cell_type": "code",
   "execution_count": 39,
   "metadata": {},
   "outputs": [],
   "source": [
    "plt.rc('font', family='serif')"
   ]
  },
  {
   "cell_type": "markdown",
   "metadata": {},
   "source": [
    "Let's compare energy for a variety of initial conditions:"
   ]
  },
  {
   "cell_type": "code",
   "execution_count": null,
   "metadata": {},
   "outputs": [],
   "source": []
  },
  {
   "cell_type": "code",
   "execution_count": 40,
   "metadata": {},
   "outputs": [
    {
     "data": {
      "application/vnd.jupyter.widget-view+json": {
       "model_id": "99bc80b6e1694c6993142a47e53152bb",
       "version_major": 2,
       "version_minor": 0
      },
      "text/plain": [
       "HBox(children=(FloatProgress(value=0.0, max=40.0), HTML(value='')))"
      ]
     },
     "metadata": {},
     "output_type": "display_data"
    },
    {
     "name": "stdout",
     "output_type": "stream",
     "text": [
      "0 current error 0.0032019778\n",
      "1 current error 0.0030626245\n",
      "2 current error 0.0020846867\n",
      "3 current error 0.010120585\n",
      "4 current error 0.008716746\n",
      "5 current error 0.0073034214\n",
      "6 current error 0.006315549\n",
      "7 current error 0.0055570183\n",
      "8 current error 0.0049400115\n",
      "9 current error 0.004451239\n",
      "10 current error 0.0040733293\n",
      "11 current error 0.0037569916\n",
      "12 current error 0.0034888124\n",
      "13 current error 0.003337757\n",
      "14 current error 0.0045985435\n",
      "15 current error 0.0043222886\n",
      "16 current error 0.005243502\n",
      "17 current error 0.0049745427\n",
      "18 current error 0.0047285967\n",
      "19 current error 0.004574533\n",
      "20 current error 0.0043959897\n",
      "21 current error 0.004404506\n",
      "22 current error 0.004306449\n",
      "23 current error 0.004128184\n",
      "24 current error 0.004058894\n",
      "25 current error 0.004031554\n",
      "26 current error 0.0038856007\n",
      "27 current error 0.0040106396\n",
      "28 current error 0.0039303377\n",
      "29 current error 0.0038961158\n",
      "30 current error 0.0037735207\n",
      "31 current error 0.0036706543\n",
      "32 current error 0.0035803968\n",
      "33 current error 0.0037341863\n",
      "34 current error 0.004434448\n",
      "35 current error 0.004520346\n",
      "36 current error 0.0044039357\n",
      "37 current error 0.0044440315\n",
      "38 current error 0.004332579\n",
      "39 current error 0.004257551\n",
      "\n"
     ]
    }
   ],
   "source": [
    "all_errors = []\n",
    "for i in tqdm(range(40)):\n",
    "    max_t = 100\n",
    "    new_dataset = new_get_dataset(jax.random.PRNGKey(i),\n",
    "                                  t_span=[0, max_t],\n",
    "                                  fps=10, test_split=1.0,\n",
    "                                  unlimited_steps=False)\n",
    "    t = new_dataset['x'][0, :]\n",
    "    tall = [jax.device_get(t)]\n",
    "    p = best_params\n",
    "    pred_tall = jax.device_get(odeint(\n",
    "        partial(raw_lagrangian_eom, learned_dynamics(p)),\n",
    "        t,\n",
    "        np.linspace(0, max_t, num=new_dataset['x'].shape[0]),\n",
    "        mxstep=100))\n",
    "\n",
    "    total_true_energy = (\n",
    "        jax.vmap(kinetic_energy, 0, 0)(new_dataset['x'][:]) + \\\n",
    "        jax.vmap(potential_energy, 0, 0)(new_dataset['x'][:])\n",
    "    )\n",
    "    total_predicted_energy = (\n",
    "        jax.vmap(kinetic_energy, 0, 0)(pred_tall[:]) + \\\n",
    "        jax.vmap(potential_energy, 0, 0)(pred_tall[:])\n",
    "    )\n",
    "\n",
    "    scale=29.4\n",
    "\n",
    "    # translation = jnp.min(total_true_energy) + 1\n",
    "    # total_true_energy -= translation\n",
    "    # total_predicted_energy -= translation\n",
    "\n",
    "    cur_error = jnp.abs((total_predicted_energy-total_true_energy)[-1])/scale\n",
    "    all_errors.append(cur_error)\n",
    "    \n",
    "    print(i, 'current error', jnp.average(all_errors))"
   ]
  },
  {
   "cell_type": "code",
   "execution_count": 61,
   "metadata": {},
   "outputs": [
    {
     "data": {
      "text/plain": [
       "DeviceArray(0.00057847, dtype=float32)"
      ]
     },
     "execution_count": 61,
     "metadata": {},
     "output_type": "execute_result"
    }
   ],
   "source": []
  },
  {
   "cell_type": "code",
   "execution_count": null,
   "metadata": {},
   "outputs": [],
   "source": []
  },
  {
   "cell_type": "code",
   "execution_count": null,
   "metadata": {},
   "outputs": [],
   "source": []
  },
  {
   "cell_type": "code",
   "execution_count": null,
   "metadata": {},
   "outputs": [],
   "source": []
  },
  {
   "cell_type": "code",
   "execution_count": null,
   "metadata": {},
   "outputs": [],
   "source": []
  },
  {
   "cell_type": "code",
   "execution_count": null,
   "metadata": {},
   "outputs": [],
   "source": []
  },
  {
   "cell_type": "markdown",
   "metadata": {},
   "source": [
    "## Plots made down here:"
   ]
  },
  {
   "cell_type": "code",
   "execution_count": 86,
   "metadata": {},
   "outputs": [],
   "source": [
    "total_predicted_energy_b = np.load('baseline_dblpend_energy.npy')\n",
    "pred_tall_b = np.load('baseline_dblpend_prediction.npy')"
   ]
  },
  {
   "cell_type": "code",
   "execution_count": 90,
   "metadata": {},
   "outputs": [
    {
     "data": {
      "text/plain": [
       "Text(0.5, 0, 'Time')"
      ]
     },
     "execution_count": 90,
     "metadata": {},
     "output_type": "execute_result"
    },
    {
     "data": {
      "image/png": "[encoded data removed]",
      "text/plain": [
       "<Figure size 432x288 with 1 Axes>"
      ]
     },
     "metadata": {
      "needs_background": "light"
     },
     "output_type": "display_data"
    }
   ],
   "source": [
    "tall = np.array(tall)\n",
    "plt.plot(new_dataset['x'][:500, 0])\n",
    "plt.plot(pred_tall[:500, 0])#[:100, 0])\n",
    "plt.ylabel(r'$\\theta_1$')\n",
    "plt.xlabel('Time')"
   ]
  },
  {
   "cell_type": "code",
   "execution_count": 80,
   "metadata": {},
   "outputs": [
    {
     "data": {
      "text/plain": [
       "DeviceArray(16.890951, dtype=float32)"
      ]
     },
     "execution_count": 80,
     "metadata": {},
     "output_type": "execute_result"
    }
   ],
   "source": [
    "jnp.max(jax.vmap(kinetic_energy, 0, 0)(new_dataset['x'][:]))"
   ]
  },
  {
   "cell_type": "code",
   "execution_count": 81,
   "metadata": {},
   "outputs": [
    {
     "data": {
      "text/plain": [
       "DeviceArray(29.397213, dtype=float32)"
      ]
     },
     "execution_count": 81,
     "metadata": {},
     "output_type": "execute_result"
    }
   ],
   "source": [
    "jnp.max(jnp.abs(jax.vmap(potential_energy, 0, 0)(new_dataset['x'][:])))"
   ]
  },
  {
   "cell_type": "markdown",
   "metadata": {},
   "source": [
    "We set the scale of the system as the max potential energy of the double\n",
    "pendulum:\n",
    "\n",
    "$9.8\\times1\\times1 + 9.8\\times1\\times2=29.4$"
   ]
  },
  {
   "cell_type": "code",
   "execution_count": null,
   "metadata": {},
   "outputs": [],
   "source": []
  },
  {
   "cell_type": "code",
   "execution_count": 85,
   "metadata": {},
   "outputs": [
    {
     "data": {
      "text/plain": [
       "(-0.06, 0.01)"
      ]
     },
     "execution_count": 85,
     "metadata": {},
     "output_type": "execute_result"
    },
    {
     "data": {
      "image/png": "[encoded data removed]",
      "text/plain": [
       "<Figure size 432x288 with 1 Axes>"
      ]
     },
     "metadata": {
      "needs_background": "light"
     },
     "output_type": "display_data"
    }
   ],
   "source": [
    "total_true_energy = (\n",
    "    jax.vmap(kinetic_energy, 0, 0)(new_dataset['x'][:]) + \\\n",
    "    jax.vmap(potential_energy, 0, 0)(new_dataset['x'][:])\n",
    ")\n",
    "total_predicted_energy = (\n",
    "    jax.vmap(kinetic_energy, 0, 0)(pred_tall[:]) + \\\n",
    "    jax.vmap(potential_energy, 0, 0)(pred_tall[:])\n",
    ")\n",
    "\n",
    "scale=29.4\n",
    "\n",
    "# translation = jnp.min(total_true_energy) + 1\n",
    "# total_true_energy -= translation\n",
    "# total_predicted_energy -= translation\n",
    "\n",
    "plt.plot(\n",
    "    jnp.abs(total_predicted_energy-total_true_energy)/scale\n",
    ")\n",
    "\n",
    "plt.ylabel('Absolute Error in Total Energy/Max Potential Energy')\n",
    "plt.xlabel('Time')\n",
    "plt.ylim(-0.06, 0.01)"
   ]
  },
  {
   "cell_type": "code",
   "execution_count": null,
   "metadata": {},
   "outputs": [],
   "source": []
  },
  {
   "cell_type": "code",
   "execution_count": 146,
   "metadata": {},
   "outputs": [],
   "source": [
    "rng = jax.random.PRNGKey(int(1e9))"
   ]
  },
  {
   "cell_type": "code",
   "execution_count": 147,
   "metadata": {},
   "outputs": [
    {
     "name": "stdout",
     "output_type": "stream",
     "text": [
      "(100000, 4)\n"
     ]
    }
   ],
   "source": [
    "batch_data = get_derivative_dataset(rng)[0][:100000], get_derivative_dataset(rng)[1][:100000]\n",
    "print(batch_data[0].shape)"
   ]
  },
  {
   "cell_type": "code",
   "execution_count": 148,
   "metadata": {},
   "outputs": [
    {
     "data": {
      "text/plain": [
       "DeviceArray(0.06889821, dtype=float32)"
      ]
     },
     "execution_count": 148,
     "metadata": {},
     "output_type": "execute_result"
    }
   ],
   "source": [
    "loss(best_params, batch_data, 0.0)/len(batch_data[0])"
   ]
  },
  {
   "cell_type": "code",
   "execution_count": 126,
   "metadata": {},
   "outputs": [],
   "source": [
    "# np.save('lnn_dblpend_energy.npy', total_predicted_energy)\n",
    "# np.save('lnn_dblpend_prediction.npy', pred_tall)"
   ]
  },
  {
   "cell_type": "markdown",
   "metadata": {},
   "source": [
    "Let's compare:"
   ]
  },
  {
   "cell_type": "code",
   "execution_count": 149,
   "metadata": {},
   "outputs": [
    {
     "data": {
      "image/png": "[encoded data removed]",
      "text/plain": [
       "<Figure size 432x288 with 4 Axes>"
      ]
     },
     "metadata": {
      "needs_background": "light"
     },
     "output_type": "display_data"
    }
   ],
   "source": [
    "\n",
    "tall = np.array(tall)\n",
    "fig, ax = plt.subplots(2, 2, sharey=True)\n",
    "\n",
    "\n",
    "for i in range(2):\n",
    "\n",
    "    if i == 1:\n",
    "        start = 1400\n",
    "        end = 1500\n",
    "    if i == 0:\n",
    "        start = 0\n",
    "        end = 100\n",
    "        \n",
    "    dom = np.linspace(start/10, end/10, num=end-start)\n",
    "    ax[0, i].plot(dom, pred_tall[start:end, 0], label='LNN')#[:100, 0])\n",
    "    ax[0, i].plot(dom, pred_tall_b[start:end, 0], label='Baseline')#[:100, 0])\n",
    "    ax[0, i].plot(dom, new_dataset['x'][start:end, 0], label='Truth')\n",
    "    # ax[0].set_xlabel('Time')\n",
    "    ax[1, i].plot(dom, -new_dataset['x'][start:end, 0] + pred_tall[start:end, 0],\n",
    "              label='LNN')#[:100, 0])\n",
    "    ax[1, i].plot(dom, -new_dataset['x'][start:end, 0] + pred_tall_b[start:end, 0],\n",
    "              label='Baseline')#[:100, 0])\n",
    "    if i == 0:\n",
    "        ax[0, i].set_ylabel(r'$\\theta_1$')\n",
    "        ax[1, i].set_ylabel(r'Error in $\\theta_1$')\n",
    "    \n",
    "    ax[1, i].set_xlabel('Time')\n",
    "    if i == 0:\n",
    "        ax[0, i].legend()\n",
    "        ax[1, i].legend()\n",
    "    \n",
    "\n",
    "for i in range(2):\n",
    "    ax[i, 0].spines['right'].set_visible(False)\n",
    "    ax[i, 1].spines['left'].set_visible(False)\n",
    "#     ax[i, 0].yaxis.tick_left()\n",
    "#     ax[i, 0].tick_params(labelright='off')\n",
    "    ax[i, 1].yaxis.tick_right()\n",
    "\n",
    "for i in range(2):\n",
    "    d = .015 # how big to make the diagonal lines in axes coordinates\n",
    "    # arguments to pass plot, just so we don't keep repeating them\n",
    "    kwargs = dict(transform=ax[i, 0].transAxes, color='k', clip_on=False)\n",
    "    ax[i, 0].plot((1-d,1+d), (-d,+d), **kwargs)\n",
    "    ax[i, 0].plot((1-d,1+d),(1-d,1+d), **kwargs)\n",
    "    kwargs.update(transform=ax[i, 1].transAxes)  # switch to the bottom axes\n",
    "    ax[i, 1].plot((-d,+d), (1-d,1+d), **kwargs)\n",
    "    ax[i, 1].plot((-d,+d), (-d,+d), **kwargs)\n",
    "\n",
    "plt.tight_layout()    \n",
    "plt.savefig('discrepancy_plot.pdf')"
   ]
  },
  {
   "cell_type": "code",
   "execution_count": 150,
   "metadata": {},
   "outputs": [
    {
     "data": {
      "image/png": "[encoded data removed]",
      "text/plain": [
       "<Figure size 432x288 with 2 Axes>"
      ]
     },
     "metadata": {
      "needs_background": "light"
     },
     "output_type": "display_data"
    }
   ],
   "source": [
    "start = 0\n",
    "end = 9999\n",
    "dom = np.linspace(start/10, end/10, num=end-start)\n",
    "\n",
    "scale=29.4\n",
    "\n",
    "fig, ax = plt.subplots(2, 1, sharex=True)\n",
    "# translation = jnp.min(total_true_energy) + 1\n",
    "# total_true_energy -= translation\n",
    "# total_predicted_energy -= translation\n",
    "\n",
    "ax[0].plot(\n",
    "    dom,\n",
    "    (total_predicted_energy),\n",
    "    label='LNN'\n",
    ")\n",
    "ax[0].plot(\n",
    "    dom,\n",
    "    (total_predicted_energy_b),\n",
    "    label='Baseline'\n",
    ")\n",
    "ax[0].plot(\n",
    "    dom,\n",
    "    (total_true_energy),\n",
    "    label='Truth'\n",
    ")\n",
    "ax[0].set_ylabel('Total Energy')\n",
    "ax[0].set_xlabel('Time')\n",
    "ax[0].set_ylim(-15, 0)\n",
    "ax[0].legend()\n",
    "\n",
    "ax[1].plot(\n",
    "    dom,\n",
    "    (total_predicted_energy-total_true_energy)/scale,\n",
    "    label='LNN'\n",
    ")\n",
    "ax[1].plot(\n",
    "    dom,\n",
    "    (total_predicted_energy_b-total_true_energy)/scale,\n",
    "    label='Baseline'\n",
    ")\n",
    "ax[1].set_ylabel('Error in Total Energy\\n/Max Potential Energy')\n",
    "ax[1].set_xlabel('Time')\n",
    "ax[1].set_ylim(-0.06, 0.01)\n",
    "ax[1].legend()\n",
    "\n",
    "\n",
    "plt.tight_layout()    \n",
    "plt.savefig('energy_discrepancy_plot.pdf')"
   ]
  },
  {
   "cell_type": "code",
   "execution_count": null,
   "metadata": {},
   "outputs": [],
   "source": []
  },
  {
   "cell_type": "code",
   "execution_count": null,
   "metadata": {},
   "outputs": [],
   "source": []
  },
  {
   "cell_type": "code",
   "execution_count": null,
   "metadata": {},
   "outputs": [],
   "source": []
  },
  {
   "cell_type": "code",
   "execution_count": null,
   "metadata": {},
   "outputs": [],
   "source": []
  },
  {
   "cell_type": "code",
   "execution_count": 16,
   "metadata": {},
   "outputs": [],
   "source": [
    "best_loss = np.inf\n",
    "best_params = None"
   ]
  },
  {
   "cell_type": "code",
   "execution_count": null,
   "metadata": {},
   "outputs": [
    {
     "name": "stdout",
     "output_type": "stream",
     "text": [
      "Running 0\n",
      "Cur best 0.5416298\n",
      "iteration=1, train_loss=3.281229, test_loss=3.362365\n",
      "iteration=2, train_loss=3.338815, test_loss=3.414896\n",
      "iteration=3, train_loss=3.173423, test_loss=3.245358\n",
      "iteration=5, train_loss=2.876028, test_loss=2.953962\n",
      "iteration=8, train_loss=2.617690, test_loss=2.711931\n",
      "iteration=12, train_loss=2.461916, test_loss=2.569056\n",
      "iteration=14, train_loss=2.420607, test_loss=2.529519\n",
      "iteration=16, train_loss=2.393510, test_loss=2.502541\n",
      "iteration=24, train_loss=2.345873, test_loss=2.449337\n",
      "iteration=69, train_loss=2.283767, test_loss=2.380207\n",
      "iteration=71, train_loss=2.279208, test_loss=2.375960\n",
      "iteration=100, train_loss=2.052558, test_loss=2.182241\n",
      "iteration=126, train_loss=2.150693, test_loss=2.242196\n",
      "iteration=138, train_loss=2.043466, test_loss=2.179271\n",
      "iteration=139, train_loss=2.103001, test_loss=2.250430\n",
      "iteration=159, train_loss=1.884455, test_loss=2.035448\n",
      "iteration=200, train_loss=2.981948, test_loss=3.082102\n",
      "iteration=300, train_loss=2.960814, test_loss=3.060463\n",
      "iteration=400, train_loss=2.960811, test_loss=3.060462\n",
      "iteration=500, train_loss=2.960812, test_loss=3.060462\n",
      "iteration=600, train_loss=2.960812, test_loss=3.060462\n",
      "iteration=700, train_loss=2.960812, test_loss=3.060462\n",
      "iteration=800, train_loss=2.960811, test_loss=3.060461\n",
      "iteration=900, train_loss=2.960811, test_loss=3.060461\n",
      "Running 1\n",
      "Cur best 0.5416298\n",
      "iteration=1, train_loss=3.317755, test_loss=3.405537\n",
      "iteration=7, train_loss=3.069434, test_loss=3.143141\n",
      "iteration=9, train_loss=2.917306, test_loss=3.000417\n",
      "iteration=15, train_loss=2.608413, test_loss=2.708017\n",
      "iteration=18, train_loss=2.543802, test_loss=2.646056\n",
      "iteration=32, train_loss=2.374668, test_loss=2.479213\n",
      "iteration=39, train_loss=2.299356, test_loss=2.407058\n",
      "iteration=43, train_loss=2.278494, test_loss=2.383728\n",
      "iteration=48, train_loss=2.254509, test_loss=2.356943\n",
      "iteration=56, train_loss=2.220623, test_loss=2.325905\n",
      "iteration=79, train_loss=2.060705, test_loss=2.196907\n",
      "iteration=81, train_loss=2.041281, test_loss=2.188952\n",
      "iteration=100, train_loss=2.084676, test_loss=2.204079\n",
      "iteration=125, train_loss=2.075690, test_loss=2.199195\n",
      "iteration=200, train_loss=3.000287, test_loss=3.060724\n",
      "iteration=300, train_loss=2.658924, test_loss=2.740549\n",
      "iteration=400, train_loss=2.534858, test_loss=2.626127\n",
      "iteration=500, train_loss=2.471405, test_loss=2.568029\n",
      "iteration=600, train_loss=2.436610, test_loss=2.535066\n",
      "iteration=700, train_loss=2.397138, test_loss=2.495735\n",
      "iteration=800, train_loss=2.320425, test_loss=2.424311\n",
      "iteration=900, train_loss=2.121181, test_loss=2.235008\n",
      "iteration=919, train_loss=2.059577, test_loss=2.177489\n",
      "Running 2\n",
      "Cur best 0.5416298\n",
      "iteration=1, train_loss=3.440591, test_loss=3.480830\n",
      "iteration=2, train_loss=2.827830, test_loss=2.907219\n",
      "iteration=9, train_loss=2.746610, test_loss=2.831154\n",
      "iteration=13, train_loss=2.650030, test_loss=2.734251\n",
      "iteration=18, train_loss=2.537922, test_loss=2.626945\n",
      "iteration=40, train_loss=2.310189, test_loss=2.429695\n",
      "iteration=42, train_loss=2.259042, test_loss=2.373740\n",
      "iteration=50, train_loss=2.158052, test_loss=2.284200\n",
      "iteration=100, train_loss=2.599460, test_loss=2.704235\n",
      "iteration=134, train_loss=2.432410, test_loss=2.542955\n",
      "iteration=200, train_loss=2.345119, test_loss=2.447702\n",
      "iteration=240, train_loss=2.313213, test_loss=2.408730\n",
      "iteration=270, train_loss=2.267631, test_loss=2.355745\n",
      "iteration=300, train_loss=2.167197, test_loss=2.254341\n",
      "iteration=321, train_loss=2.142529, test_loss=2.229394\n",
      "iteration=400, train_loss=1.977052, test_loss=2.082325\n",
      "iteration=466, train_loss=1.770378, test_loss=1.895221\n",
      "iteration=500, train_loss=1.714534, test_loss=1.860020\n",
      "iteration=504, train_loss=1.720593, test_loss=1.862275\n",
      "iteration=559, train_loss=1.666239, test_loss=1.814709\n",
      "iteration=582, train_loss=1.630734, test_loss=1.769616\n",
      "iteration=600, train_loss=1.634274, test_loss=1.775872\n",
      "iteration=700, train_loss=1.544320, test_loss=1.685645\n",
      "iteration=712, train_loss=1.545025, test_loss=1.697033\n",
      "iteration=800, train_loss=1.527132, test_loss=1.672148\n",
      "iteration=808, train_loss=1.677876, test_loss=1.650595\n",
      "iteration=848, train_loss=1.447197, test_loss=1.600824\n",
      "iteration=900, train_loss=1.371689, test_loss=1.529193\n",
      "iteration=941, train_loss=1.347298, test_loss=1.505083\n",
      "iteration=1000, train_loss=1.319070, test_loss=1.476217\n",
      "iteration=1051, train_loss=1.266694, test_loss=1.438258\n",
      "iteration=1175, train_loss=1.226607, test_loss=1.381197\n",
      "iteration=1188, train_loss=1.246742, test_loss=1.393102\n",
      "iteration=1226, train_loss=1.175629, test_loss=1.330247\n",
      "iteration=1481, train_loss=1.119713, test_loss=1.259370\n",
      "iteration=1500, train_loss=1.069470, test_loss=1.215181\n",
      "iteration=1611, train_loss=1.071569, test_loss=1.210487\n",
      "iteration=1736, train_loss=1.024607, test_loss=1.155848\n",
      "iteration=1839, train_loss=1.002461, test_loss=1.130287\n",
      "iteration=2000, train_loss=0.970661, test_loss=1.104429\n",
      "iteration=2022, train_loss=0.947728, test_loss=1.085750\n",
      "iteration=2095, train_loss=0.972037, test_loss=1.094629\n",
      "iteration=2351, train_loss=0.924950, test_loss=1.063900\n",
      "iteration=2500, train_loss=0.945857, test_loss=1.077084\n",
      "iteration=2568, train_loss=0.932887, test_loss=1.063079\n",
      "iteration=2901, train_loss=0.957002, test_loss=1.103113\n",
      "iteration=2992, train_loss=0.892175, test_loss=1.031748\n",
      "iteration=3000, train_loss=0.901037, test_loss=1.032903\n",
      "iteration=3302, train_loss=0.900294, test_loss=1.039103\n",
      "iteration=3500, train_loss=0.931067, test_loss=1.058354\n",
      "iteration=3940, train_loss=0.926068, test_loss=1.055898\n",
      "iteration=4000, train_loss=0.893681, test_loss=1.028090\n",
      "iteration=4500, train_loss=0.896116, test_loss=1.031149\n",
      "iteration=4533, train_loss=0.897025, test_loss=1.026571\n",
      "iteration=5000, train_loss=0.901224, test_loss=1.030433\n",
      "iteration=5500, train_loss=0.935792, test_loss=1.066033\n",
      "iteration=5503, train_loss=0.875628, test_loss=1.012658\n",
      "iteration=6000, train_loss=0.886833, test_loss=1.021481\n",
      "iteration=6500, train_loss=0.868955, test_loss=1.005378\n",
      "Running 3\n",
      "Cur best 0.5416298\n",
      "iteration=1, train_loss=164639319464549901665380073472.000000, test_loss=3081212275934353162240.000000\n",
      "iteration=3, train_loss=5.067006, test_loss=5.148108\n",
      "iteration=10, train_loss=2.743804, test_loss=2.803879\n",
      "iteration=11, train_loss=2.773528, test_loss=2.827923\n",
      "iteration=12, train_loss=2.837285, test_loss=2.890387\n",
      "iteration=16, train_loss=3.127988, test_loss=3.174890\n",
      "iteration=100, train_loss=4.512383, test_loss=4.532230\n",
      "iteration=200, train_loss=4.513072, test_loss=4.532910\n",
      "iteration=300, train_loss=4.513071, test_loss=4.532909\n",
      "iteration=400, train_loss=4.513073, test_loss=4.532909\n",
      "iteration=500, train_loss=4.513072, test_loss=4.532909\n",
      "iteration=600, train_loss=4.513072, test_loss=4.532908\n",
      "iteration=700, train_loss=4.513072, test_loss=4.532909\n",
      "iteration=800, train_loss=4.513072, test_loss=4.532908\n",
      "iteration=900, train_loss=4.513072, test_loss=4.532908\n",
      "Running 4\n",
      "Cur best 0.5416298\n"
     ]
    }
   ],
   "source": [
    "for _i in range(1000):\n",
    "    print('Running', _i)\n",
    "    print('Cur best', str(best_loss))\n",
    "\n",
    "    init_random_params, nn_forward_fn = extended_mlp(args)\n",
    "    import HyperparameterSearch\n",
    "    HyperparameterSearch.nn_forward_fn = nn_forward_fn\n",
    "    _, init_params = init_random_params(rng+1, (-1, 4))\n",
    "    rng += 1\n",
    "    model = (nn_forward_fn, init_params)\n",
    "    opt_init, opt_update, get_params = optimizers.adam(3e-4)##lambda i: jnp.select([i<10000, i>= 10000], [args.lr, args.lr2]))\n",
    "    opt_state = opt_init(init_params)\n",
    "    from jax.tree_util import tree_flatten\n",
    "    from HyperparameterSearch import make_loss, train\n",
    "    loss = make_loss(args)\n",
    "    from copy import deepcopy as copy\n",
    "    train(args, model, data, rng);\n",
    "    from jax.tree_util import tree_flatten\n",
    "\n",
    "    @jax.jit\n",
    "    def update_derivative(i, opt_state, batch, l2reg):\n",
    "        params = get_params(opt_state)\n",
    "        param_update = jax.grad(loss, 0)(params, batch, l2reg)\n",
    "        leaves, _ = tree_flatten(param_update)\n",
    "        infinities = sum((~jnp.isfinite(param)).sum() for param in leaves)\n",
    "\n",
    "        def true_fun(x):\n",
    "            #No introducing NaNs.\n",
    "            return opt_update(i, param_update, opt_state), params\n",
    "\n",
    "        def false_fun(x):\n",
    "            #No introducing NaNs.\n",
    "            return opt_state, params\n",
    "\n",
    "        return jax.lax.cond(infinities==0, 0, true_fun, 0, false_fun)\n",
    "\n",
    "\n",
    "    best_small_loss = np.inf\n",
    "    (nn_forward_fn, init_params) = model\n",
    "    data = {k: jax.device_put(v) for k,v in data.items()}\n",
    "    iteration = 0\n",
    "    train_losses, test_losses = [], []\n",
    "    lr = args.lr\n",
    "    opt_init, opt_update, get_params = optimizers.adam(lr)\n",
    "    opt_state = opt_init(init_params)\n",
    "    bad_iterations = 0\n",
    "    offset = 0\n",
    "    \n",
    "    while iteration < 20000:\n",
    "        iteration += 1\n",
    "        rand_idx = jax.random.randint(rng, (args.batch_size,), 0, len(data['x']))\n",
    "        rng += 1\n",
    "\n",
    "        batch = (data['x'][rand_idx], data['dx'][rand_idx])\n",
    "        opt_state, params = update_derivative(iteration+offset, opt_state, batch, args.l2reg)\n",
    "        small_loss = loss(params, batch, 0.0)\n",
    "\n",
    "        new_small_loss = False\n",
    "        if small_loss < best_small_loss:\n",
    "\n",
    "            best_small_loss = small_loss\n",
    "            new_small_loss = True\n",
    "        \n",
    "        if jnp.isnan(small_loss).sum() or new_small_loss or (iteration % 500 == 0) or (iteration < 1000 and iteration % 100 == 0):\n",
    "            params = get_params(opt_state)\n",
    "            train_loss = loss(params, (data['x'], data['dx']), 0.0)/len(data['x'])\n",
    "            train_losses.append(train_loss)\n",
    "            test_loss = loss(params, (data['test_x'], data['test_dx']), 0.0)/len(data['test_x'])\n",
    "            test_losses.append(test_loss)\n",
    "            \n",
    "            if iteration >= 1000 and test_loss > 1.5:\n",
    "                #Only good seeds allowed!\n",
    "                break\n",
    "\n",
    "            if test_loss < best_loss:\n",
    "                best_loss = test_loss\n",
    "                best_params = copy(params)\n",
    "                bad_iterations = 0\n",
    "                offset += iteration\n",
    "                iteration = 0 #Keep going since this one is so good!\n",
    "\n",
    "            if jnp.isnan(test_loss).sum():\n",
    "                break\n",
    "                lr = lr/2\n",
    "                opt_init, opt_update, get_params = optimizers.adam(lr)\n",
    "                opt_state = opt_init(best_params)\n",
    "                bad_iterations = 0\n",
    "\n",
    "            print(f\"iteration={iteration}, train_loss={train_loss:.6f}, test_loss={test_loss:.6f}\")\n",
    "\n",
    "        bad_iterations += 1\n",
    "    \n",
    "    import pickle as pkl\n",
    "    if best_loss < np.inf:\n",
    "        pkl.dump({'params': best_params, 'args': args},\n",
    "             open('params_for_loss_{}_nupdates=1.pkl'.format(best_loss), 'wb'))"
   ]
  },
  {
   "cell_type": "code",
   "execution_count": 19,
   "metadata": {},
   "outputs": [],
   "source": [
    "import importlib"
   ]
  },
  {
   "cell_type": "code",
   "execution_count": 22,
   "metadata": {},
   "outputs": [],
   "source": [
    "import lnn"
   ]
  },
  {
   "cell_type": "code",
   "execution_count": 24,
   "metadata": {},
   "outputs": [
    {
     "data": {
      "text/plain": [
       "<module 'lnn' from '../lnn.py'>"
      ]
     },
     "execution_count": 24,
     "metadata": {},
     "output_type": "execute_result"
    }
   ],
   "source": [
    "importlib.reload(lnn)"
   ]
  },
  {
   "cell_type": "code",
   "execution_count": 25,
   "metadata": {},
   "outputs": [],
   "source": [
    "from lnn import lagrangian_eom_rk4"
   ]
  },
  {
   "cell_type": "code",
   "execution_count": 236,
   "metadata": {},
   "outputs": [
    {
     "data": {
      "text/plain": [
       "DeviceArray(1.8673568, dtype=float32)"
      ]
     },
     "execution_count": 236,
     "metadata": {},
     "output_type": "execute_result"
    }
   ],
   "source": [
    "loss(best_params, (data['test_x'], data['test_dx']), 0.0)/len(data['test_x'])"
   ]
  },
  {
   "cell_type": "code",
   "execution_count": null,
   "metadata": {},
   "outputs": [],
   "source": []
  },
  {
   "cell_type": "code",
   "execution_count": null,
   "metadata": {},
   "outputs": [],
   "source": []
  },
  {
   "cell_type": "code",
   "execution_count": null,
   "metadata": {},
   "outputs": [],
   "source": [
    "best_loss"
   ]
  },
  {
   "cell_type": "code",
   "execution_count": null,
   "metadata": {},
   "outputs": [],
   "source": []
  },
  {
   "cell_type": "code",
   "execution_count": null,
   "metadata": {},
   "outputs": [],
   "source": []
  }
 ],
 "metadata": {
  "kernelspec": {
   "display_name": "main2",
   "language": "python",
   "name": "main2"
  },
  "language_info": {
   "codemirror_mode": {
    "name": "ipython",
    "version": 3
   },
   "file_extension": ".py",
   "mimetype": "text/x-python",
   "name": "python",
   "nbconvert_exporter": "python",
   "pygments_lexer": "ipython3",
   "version": "3.7.6"
  }
 },
 "nbformat": 4,
 "nbformat_minor": 4
}
