{
 "cells": [
  {
   "cell_type": "code",
   "execution_count": 1,
   "metadata": {},
   "outputs": [],
   "source": [
    "import jax\n",
    "import jax.numpy as jnp\n",
    "import numpy as np # get rid of this eventually\n",
    "import argparse\n",
    "from jax import jit\n",
    "from jax.experimental.ode import odeint\n",
    "from functools import partial # reduces arguments to function by making some subset implicit\n",
    "\n",
    "from jax.example_libraries import stax\n",
    "from jax.experimental import optimizers\n",
    "\n",
    "import os, sys, time\n",
    "sys.path.append('..')"
   ]
  },
  {
   "cell_type": "code",
   "execution_count": 2,
   "metadata": {},
   "outputs": [],
   "source": [
    "sys.path.append('../experiment_dblpend/')\n",
    "\n",
    "from lnn import lagrangian_eom_rk4, lagrangian_eom, unconstrained_eom, raw_lagrangian_eom\n",
    "from data import get_dataset\n",
    "from models import mlp as make_mlp\n",
    "from utils import wrap_coords"
   ]
  },
  {
   "cell_type": "code",
   "execution_count": 3,
   "metadata": {},
   "outputs": [],
   "source": [
    "sys.path.append('../hyperopt')"
   ]
  },
  {
   "cell_type": "code",
   "execution_count": 4,
   "metadata": {},
   "outputs": [],
   "source": [
    "from HyperparameterSearch import learned_dynamics"
   ]
  },
  {
   "cell_type": "code",
   "execution_count": 5,
   "metadata": {},
   "outputs": [],
   "source": [
    "from HyperparameterSearch import extended_mlp"
   ]
  },
  {
   "cell_type": "code",
   "execution_count": 6,
   "metadata": {},
   "outputs": [],
   "source": [
    "class ObjectView(object):\n",
    "    def __init__(self, d): self.__dict__ = d"
   ]
  },
  {
   "cell_type": "code",
   "execution_count": 7,
   "metadata": {},
   "outputs": [],
   "source": [
    "from data import get_trajectory"
   ]
  },
  {
   "cell_type": "code",
   "execution_count": 8,
   "metadata": {},
   "outputs": [],
   "source": [
    "from data import get_trajectory_analytic"
   ]
  },
  {
   "cell_type": "code",
   "execution_count": 9,
   "metadata": {},
   "outputs": [],
   "source": [
    "from physics import analytical_fn\n",
    "\n",
    "vfnc = jax.jit(jax.vmap(analytical_fn))\n",
    "vget = partial(jax.jit, backend='cpu')(jax.vmap(partial(get_trajectory_analytic, mxsteps=100), (0, None), 0))"
   ]
  },
  {
   "cell_type": "code",
   "execution_count": 10,
   "metadata": {},
   "outputs": [],
   "source": [
    "# 0.29830917716026306 {'act': [4],\n",
    "# 'batch_size': [27.0], 'dt': [0.09609870774790222],\n",
    "# 'hidden_dim': [596.0], 'l2reg': [0.24927677946969878],\n",
    "# 'layers': [4.0], 'lr': [0.005516656601005163],\n",
    "# 'lr2': [1.897157209816416e-05], 'n_updates': [4.0]}"
   ]
  },
  {
   "cell_type": "markdown",
   "metadata": {},
   "source": [
    "### Now, let's load the best model. To generate more models, see the code below."
   ]
  },
  {
   "cell_type": "code",
   "execution_count": 11,
   "metadata": {},
   "outputs": [],
   "source": [
    "import pickle as pkl"
   ]
  },
  {
   "cell_type": "code",
   "execution_count": 12,
   "metadata": {},
   "outputs": [],
   "source": [
    "# loaded = pkl.load(open('./params_for_loss_0.29429444670677185_nupdates=1.pkl', 'rb'))"
   ]
  },
  {
   "cell_type": "code",
   "execution_count": 13,
   "metadata": {},
   "outputs": [],
   "source": [
    "args = ObjectView({'dataset_size': 200,\n",
    " 'fps': 10,\n",
    " 'samples': 100,\n",
    " 'num_epochs': 80000,\n",
    " 'seed': 0,\n",
    " 'loss': 'l1',\n",
    " 'act': 'relu_relu',\n",
    " 'hidden_dim': 600,\n",
    " 'output_dim': 2,\n",
    " 'layers': 3,\n",
    " 'n_updates': 1,\n",
    " 'lr': 0.001,\n",
    " 'lr2': 2e-05,\n",
    " 'dt': 0.1,\n",
    " 'model': 'gln',\n",
    " 'batch_size': 512,\n",
    " 'l2reg': 5.7e-07,\n",
    "})\n",
    "# args = loaded['args']\n",
    "rng = jax.random.PRNGKey(args.seed)"
   ]
  },
  {
   "cell_type": "code",
   "execution_count": 14,
   "metadata": {},
   "outputs": [],
   "source": [
    "from jax.experimental.ode import odeint"
   ]
  },
  {
   "cell_type": "code",
   "execution_count": 15,
   "metadata": {},
   "outputs": [],
   "source": [
    "from HyperparameterSearch import new_get_dataset"
   ]
  },
  {
   "cell_type": "code",
   "execution_count": 16,
   "metadata": {},
   "outputs": [],
   "source": [
    "from matplotlib import pyplot as plt"
   ]
  },
  {
   "cell_type": "code",
   "execution_count": 17,
   "metadata": {},
   "outputs": [],
   "source": [
    "vfnc = jax.jit(jax.vmap(analytical_fn, 0, 0))\n",
    "vget = partial(jax.jit, backend='cpu')(jax.vmap(partial(get_trajectory_analytic, mxsteps=100), (0, None), 0))\n",
    "minibatch_per = 2000\n",
    "batch = 512\n",
    "\n",
    "@jax.jit\n",
    "def get_derivative_dataset(rng):\n",
    "    # randomly sample inputs\n",
    "\n",
    "    y0 = jnp.concatenate([\n",
    "        jax.random.uniform(rng, (batch*minibatch_per, 2))*2.0*np.pi,\n",
    "        (jax.random.uniform(rng+1, (batch*minibatch_per, 2))-0.5)*10*2\n",
    "    ], axis=1)\n",
    "    \n",
    "    return y0, vfnc(y0)"
   ]
  },
  {
   "cell_type": "code",
   "execution_count": 18,
   "metadata": {},
   "outputs": [],
   "source": [
    "best_params = None\n",
    "best_loss = np.inf"
   ]
  },
  {
   "cell_type": "code",
   "execution_count": 19,
   "metadata": {},
   "outputs": [],
   "source": [
    "from itertools import product"
   ]
  },
  {
   "cell_type": "code",
   "execution_count": 20,
   "metadata": {},
   "outputs": [],
   "source": [
    "# @jax.jit\n",
    "def baseline_eom(baseline, state, t=None):\n",
    "    q, q_t = jnp.split(state, 2)\n",
    "    q = q % (2*jnp.pi)\n",
    "    q_tt = baseline(q, q_t)\n",
    "    return jnp.concatenate([q_t, q_tt])\n"
   ]
  },
  {
   "cell_type": "code",
   "execution_count": 21,
   "metadata": {},
   "outputs": [
    {
     "name": "stdout",
     "output_type": "stream",
     "text": [
      "4e-05\n"
     ]
    }
   ],
   "source": [
    "init_random_params, nn_forward_fn = extended_mlp(args)\n",
    "import HyperparameterSearch\n",
    "HyperparameterSearch.nn_forward_fn = nn_forward_fn\n",
    "_, init_params = init_random_params(rng+1, (-1, 4))\n",
    "rng += 1\n",
    "model = (nn_forward_fn, init_params)\n",
    "opt_init, opt_update, get_params = optimizers.adam(args.lr)\n",
    "opt_state = opt_init([[l2/200.0 for l2 in l1] for l1 in init_params])\n",
    "from jax.tree_util import tree_flatten\n",
    "from HyperparameterSearch import make_loss, train\n",
    "from copy import deepcopy as copy\n",
    "# train(args, model, data, rng);\n",
    "from jax.tree_util import tree_flatten\n",
    "\n",
    "@jax.jit\n",
    "def loss(params, batch, l2reg):\n",
    "    state, targets = batch#_rk4\n",
    "    leaves, _ = tree_flatten(params)\n",
    "    l2_norm = sum(jnp.vdot(param, param) for param in leaves)\n",
    "    preds = jax.vmap(\n",
    "        partial(\n",
    "            baseline_eom,\n",
    "            learned_dynamics(params)))(state)\n",
    "    return jnp.sum(jnp.abs(preds - targets)) + l2reg*l2_norm/args.batch_size\n",
    "\n",
    "# @jax.jit\n",
    "# def normalize_param_update(param_update):\n",
    "#     new_params = []\n",
    "#     num_weights = args.hidden_dim**2*3\n",
    "#     gradient_norm = sum([jnp.sum(l2**2)\n",
    "#                          for l1 in param_update\n",
    "#                          for l2 in l1\n",
    "#                          if len(l1) != 0])/num_weights\n",
    "# #     gradient_norm = 1 + \n",
    "#     for l1 in param_update:\n",
    "#         if (len(l1)) == 0: new_params.append(()); continue\n",
    "#         new_l1 = []\n",
    "#         for l2 in l1:\n",
    "#             new_l1.append(\n",
    "#                 l2/gradient_norm\n",
    "#             )\n",
    "\n",
    "#         new_params.append(new_l1)\n",
    "        \n",
    "#     return new_params\n",
    "\n",
    "@jax.jit\n",
    "def update_derivative(i, opt_state, batch, l2reg):\n",
    "    params = get_params(opt_state)\n",
    "    param_update = jax.grad(\n",
    "            lambda *args: loss(*args)/len(batch),\n",
    "            0\n",
    "        )(params, batch, l2reg)\n",
    "#     param_update = normalize_param_update(param_update)\n",
    "    params = get_params(opt_state)\n",
    "    return opt_update(i, param_update, opt_state), params\n",
    "\n",
    "\n",
    "best_small_loss = np.inf\n",
    "(nn_forward_fn, init_params) = model\n",
    "iteration = 0\n",
    "total_epochs = 300\n",
    "minibatch_per = 2000\n",
    "train_losses, test_losses = [], []\n",
    "\n",
    "lr = 4e-5 #1e-3\n",
    "import math\n",
    "\n",
    "final_div_factor=1e4\n",
    "\n",
    "#OneCycleLR:\n",
    "@jax.jit\n",
    "def OneCycleLR(pct):\n",
    "    #Rush it:\n",
    "    start = 0.2 #0.2\n",
    "    pct = pct * (1-start) + start\n",
    "    high, low = lr, lr/final_div_factor\n",
    "    \n",
    "    scale = 1.0 - (jnp.cos(2 * jnp.pi * pct) + 1)/2\n",
    "    \n",
    "    return low + (high - low)*scale\n",
    "    \n",
    "from lnn import custom_init\n",
    "\n",
    "opt_init, opt_update, get_params = optimizers.adam(\n",
    "    OneCycleLR\n",
    ")\n",
    "\n",
    "# init_params = custom_init(init_params, seed=0)\n",
    "# init_params = \n",
    "opt_state = opt_init(init_params)\n",
    "# opt_state = opt_init(best_params)\n",
    "bad_iterations = 0\n",
    "print(lr)"
   ]
  },
  {
   "cell_type": "markdown",
   "metadata": {},
   "source": [
    "Idea: add identity before inverse:"
   ]
  },
  {
   "cell_type": "markdown",
   "metadata": {},
   "source": [
    "# Let's train it:"
   ]
  },
  {
   "cell_type": "code",
   "execution_count": 22,
   "metadata": {},
   "outputs": [],
   "source": [
    "rng = jax.random.PRNGKey(0)"
   ]
  },
  {
   "cell_type": "code",
   "execution_count": 23,
   "metadata": {},
   "outputs": [],
   "source": [
    "epoch = 0"
   ]
  },
  {
   "cell_type": "code",
   "execution_count": 24,
   "metadata": {},
   "outputs": [
    {
     "name": "stdout",
     "output_type": "stream",
     "text": [
      "(10, 4)\n"
     ]
    }
   ],
   "source": [
    "batch_data = get_derivative_dataset(rng)[0][:10], get_derivative_dataset(rng)[1][:10]\n",
    "print(batch_data[0].shape)"
   ]
  },
  {
   "cell_type": "code",
   "execution_count": 25,
   "metadata": {},
   "outputs": [
    {
     "data": {
      "text/plain": [
       "DeviceArray(329.27036, dtype=float32)"
      ]
     },
     "execution_count": 25,
     "metadata": {},
     "output_type": "execute_result"
    }
   ],
   "source": [
    "loss(get_params(opt_state), batch_data, 0.0)"
   ]
  },
  {
   "cell_type": "code",
   "execution_count": 26,
   "metadata": {},
   "outputs": [],
   "source": [
    "opt_state, params = update_derivative(0.0, opt_state, batch_data, 0.0)"
   ]
  },
  {
   "cell_type": "code",
   "execution_count": 27,
   "metadata": {},
   "outputs": [],
   "source": [
    "from tqdm.notebook import tqdm"
   ]
  },
  {
   "cell_type": "code",
   "execution_count": 28,
   "metadata": {},
   "outputs": [],
   "source": [
    "# best_loss = np.inf\n",
    "# best_params = None"
   ]
  },
  {
   "cell_type": "code",
   "execution_count": 64,
   "metadata": {},
   "outputs": [
    {
     "data": {
      "application/vnd.jupyter.widget-view+json": {
       "model_id": "0b5590ea11304e22a0babf5b5cdc133c",
       "version_major": 2,
       "version_minor": 0
      },
      "text/plain": [
       "HBox(children=(FloatProgress(value=0.0, max=300.0), HTML(value='')))"
      ]
     },
     "metadata": {},
     "output_type": "display_data"
    },
    {
     "name": "stdout",
     "output_type": "stream",
     "text": [
      "epoch=0 lr=1.414164034940768e-05 loss=0.08233094215393066\n",
      "epoch=1 lr=1.4462808394455351e-05 loss=0.08085848391056061\n",
      "epoch=2 lr=1.478552985645365e-05 loss=0.08081990480422974\n",
      "epoch=3 lr=1.5109715604921803e-05 loss=0.08108066767454147\n",
      "epoch=4 lr=1.5435276509379037e-05 loss=0.08120445907115936\n",
      "epoch=5 lr=1.5762116163386963e-05 loss=0.08121983706951141\n",
      "epoch=6 lr=1.609015089343302e-05 loss=0.08122540265321732\n",
      "epoch=7 lr=1.641928065510001e-05 loss=0.08126170188188553\n",
      "epoch=8 lr=1.6749418136896566e-05 loss=0.08138350397348404\n",
      "epoch=9 lr=1.70804687513737e-05 loss=0.0815456435084343\n",
      "epoch=10 lr=1.741233791108243e-05 loss=0.08131673187017441\n",
      "epoch=11 lr=1.774493466655258e-05 loss=0.08151450008153915\n",
      "epoch=12 lr=1.807816261134576e-05 loss=0.08159146457910538\n",
      "epoch=13 lr=1.84119344339706e-05 loss=0.08152744919061661\n",
      "epoch=14 lr=1.8746148271020502e-05 loss=0.08140755444765091\n",
      "epoch=15 lr=1.90807186299935e-05 loss=0.08162107318639755\n",
      "epoch=16 lr=1.94155472854618e-05 loss=0.08152826130390167\n",
      "epoch=17 lr=1.9750539649976417e-05 loss=0.08166711032390594\n",
      "epoch=18 lr=2.008560113608837e-05 loss=0.08173049986362457\n",
      "epoch=19 lr=2.0420640794327483e-05 loss=0.08169645071029663\n",
      "epoch=20 lr=2.0755562218255363e-05 loss=0.0818859338760376\n",
      "epoch=21 lr=2.1090272639412433e-05 loss=0.08188760280609131\n",
      "epoch=22 lr=2.1424677470349707e-05 loss=0.08178362250328064\n",
      "epoch=23 lr=2.1758683942607604e-05 loss=0.08194532245397568\n",
      "epoch=24 lr=2.2092195649747737e-05 loss=0.0819844901561737\n",
      "epoch=25 lr=2.2425121642299928e-05 loss=0.08199925720691681\n",
      "epoch=26 lr=2.2757367332815193e-05 loss=0.08223752677440643\n",
      "epoch=27 lr=2.3088836314855143e-05 loss=0.08178704231977463\n",
      "epoch=28 lr=2.3419443095917813e-05 loss=0.08195152878761292\n",
      "epoch=29 lr=2.374908945057541e-05 loss=0.0821177288889885\n",
      "epoch=30 lr=2.4077682610368356e-05 loss=0.08227823674678802\n",
      "epoch=31 lr=2.440513162582647e-05 loss=0.08218372613191605\n",
      "epoch=32 lr=2.473134736646898e-05 loss=0.08209142833948135\n",
      "epoch=33 lr=2.5056231606868096e-05 loss=0.08230350911617279\n",
      "epoch=34 lr=2.5379698854521848e-05 loss=0.08229774236679077\n",
      "epoch=35 lr=2.5701656340970658e-05 loss=0.0824241116642952\n",
      "epoch=36 lr=2.6022013116744347e-05 loss=0.08223366737365723\n",
      "epoch=37 lr=2.6340680051362142e-05 loss=0.0823461040854454\n",
      "epoch=38 lr=2.6657566195353866e-05 loss=0.08237158507108688\n",
      "epoch=39 lr=2.6972587875206955e-05 loss=0.08233390003442764\n",
      "epoch=40 lr=2.7285650503472425e-05 loss=0.08233213424682617\n",
      "epoch=41 lr=2.759666858764831e-05 loss=0.08274270594120026\n",
      "epoch=42 lr=2.7905552997253835e-05 loss=0.08241263777017593\n",
      "epoch=43 lr=2.8212221877765842e-05 loss=0.08232994377613068\n",
      "epoch=44 lr=2.8516586098703556e-05 loss=0.08251188695430756\n",
      "epoch=45 lr=2.8818558348575607e-05 loss=0.0825469121336937\n",
      "epoch=46 lr=2.911805313488003e-05 loss=0.08245673775672913\n",
      "epoch=47 lr=2.941498860309366e-05 loss=0.08256614953279495\n",
      "epoch=48 lr=2.9709288355661556e-05 loss=0.08250924199819565\n",
      "epoch=49 lr=3.000085780513473e-05 loss=0.08281709253787994\n",
      "epoch=50 lr=3.028962055395823e-05 loss=0.0824875682592392\n",
      "epoch=51 lr=3.05754947476089e-05 loss=0.08259851485490799\n",
      "epoch=52 lr=3.0858405807521194e-05 loss=0.0827212706208229\n",
      "epoch=53 lr=3.113826460321434e-05 loss=0.08251755684614182\n",
      "epoch=54 lr=3.1414994737133384e-05 loss=0.08251798152923584\n",
      "epoch=55 lr=3.168852344970219e-05 loss=0.08277525007724762\n",
      "epoch=56 lr=3.195877798134461e-05 loss=0.08270535618066788\n",
      "epoch=57 lr=3.2225663744611666e-05 loss=0.08271445333957672\n",
      "epoch=58 lr=3.248912253184244e-05 loss=0.08273577690124512\n",
      "epoch=59 lr=3.2749077945481986e-05 loss=0.0828409418463707\n",
      "epoch=60 lr=3.300545722595416e-05 loss=0.08270175009965897\n",
      "epoch=61 lr=3.3258183975704014e-05 loss=0.08270849287509918\n",
      "epoch=62 lr=3.3507185435155407e-05 loss=0.08290085196495056\n",
      "epoch=63 lr=3.375239612068981e-05 loss=0.08259326964616776\n",
      "epoch=64 lr=3.3993750548688695e-05 loss=0.08262861520051956\n",
      "epoch=65 lr=3.423117959755473e-05 loss=0.08276861160993576\n",
      "epoch=66 lr=3.446460686973296e-05 loss=0.08297166228294373\n",
      "epoch=67 lr=3.469397415756248e-05 loss=0.08272399008274078\n",
      "epoch=68 lr=3.491922325338237e-05 loss=0.08280134946107864\n",
      "epoch=69 lr=3.514028139761649e-05 loss=0.08285874128341675\n",
      "epoch=70 lr=3.535709038260393e-05 loss=0.08266808837652206\n",
      "epoch=71 lr=3.5569584724726155e-05 loss=0.08307917416095734\n",
      "epoch=72 lr=3.577771713025868e-05 loss=0.08291200548410416\n",
      "epoch=73 lr=3.598141483962536e-05 loss=0.08291705697774887\n",
      "epoch=74 lr=3.6180626921122894e-05 loss=0.08281207084655762\n",
      "epoch=75 lr=3.637529516709037e-05 loss=0.08293124288320541\n",
      "epoch=76 lr=3.65653722838033e-05 loss=0.0830584317445755\n",
      "epoch=77 lr=3.6750796425621957e-05 loss=0.08283168822526932\n",
      "epoch=78 lr=3.693152029882185e-05 loss=0.08262655884027481\n",
      "epoch=79 lr=3.710748933372088e-05 loss=0.08275551348924637\n",
      "epoch=80 lr=3.727865987457335e-05 loss=0.08278914541006088\n",
      "epoch=81 lr=3.744497735169716e-05 loss=0.08292493224143982\n",
      "epoch=82 lr=3.7606401747325435e-05 loss=0.08285250514745712\n",
      "epoch=83 lr=3.7762878491776064e-05 loss=0.08280224353075027\n",
      "epoch=84 lr=3.791437120526098e-05 loss=0.08306962251663208\n",
      "epoch=85 lr=3.806083623203449e-05 loss=0.08288473635911942\n",
      "epoch=86 lr=3.820223355432972e-05 loss=0.08278044313192368\n",
      "epoch=87 lr=3.833851951640099e-05 loss=0.08275149017572403\n",
      "epoch=88 lr=3.846965773846023e-05 loss=0.08290810137987137\n",
      "epoch=89 lr=3.859561184071936e-05 loss=0.08262310177087784\n",
      "epoch=90 lr=3.871634544339031e-05 loss=0.08283252269029617\n",
      "epoch=91 lr=3.883182580466382e-05 loss=0.08289124816656113\n",
      "epoch=92 lr=3.894202018273063e-05 loss=0.08299709111452103\n",
      "epoch=93 lr=3.904689947376028e-05 loss=0.08299640566110611\n",
      "epoch=94 lr=3.91464309359435e-05 loss=0.08293475955724716\n",
      "epoch=95 lr=3.924058546544984e-05 loss=0.08277945220470428\n",
      "epoch=96 lr=3.9329341234406456e-05 loss=0.0829160287976265\n",
      "epoch=97 lr=3.94126727769617e-05 loss=0.08263184130191803\n",
      "epoch=98 lr=3.949055462726392e-05 loss=0.08291900157928467\n",
      "epoch=99 lr=3.9562961319461465e-05 loss=0.08261646330356598\n",
      "epoch=100 lr=3.962988193961792e-05 loss=0.0826425701379776\n",
      "epoch=101 lr=3.9691291021881625e-05 loss=0.08270931988954544\n",
      "epoch=102 lr=3.974717401433736e-05 loss=0.0826399028301239\n",
      "epoch=103 lr=3.979750908911228e-05 loss=0.0827610194683075\n",
      "epoch=104 lr=3.9842288970248774e-05 loss=0.08254894614219666\n",
      "epoch=105 lr=3.9881502743810415e-05 loss=0.08255968242883682\n",
      "epoch=106 lr=3.991513585788198e-05 loss=0.08260182291269302\n",
      "epoch=107 lr=3.9943173760548234e-05 loss=0.0826568603515625\n",
      "epoch=108 lr=3.996561645180918e-05 loss=0.08253723382949829\n",
      "epoch=109 lr=3.99824530177284e-05 loss=0.08240795880556107\n",
      "epoch=110 lr=3.9993683458305895e-05 loss=0.08251143991947174\n",
      "epoch=111 lr=3.9999300497584045e-05 loss=0.08235416561365128\n",
      "epoch=112 lr=3.9999300497584045e-05 loss=0.08260670304298401\n",
      "epoch=113 lr=3.999369073426351e-05 loss=0.08246292173862457\n",
      "epoch=114 lr=3.998246756964363e-05 loss=0.0821480080485344\n",
      "epoch=115 lr=3.996563464170322e-05 loss=0.08246731013059616\n",
      "epoch=116 lr=3.9943199226399884e-05 loss=0.08224262297153473\n",
      "epoch=117 lr=3.991516132373363e-05 loss=0.08217307180166245\n",
      "epoch=118 lr=3.9881539123598486e-05 loss=0.08221583068370819\n",
      "epoch=119 lr=3.984233262599446e-05 loss=0.0822344571352005\n",
      "epoch=120 lr=3.9797556382836774e-05 loss=0.08230280876159668\n",
      "epoch=121 lr=3.974722494604066e-05 loss=0.08202328532934189\n",
      "epoch=122 lr=3.969134922954254e-05 loss=0.08202638477087021\n",
      "epoch=123 lr=3.9629947423236445e-05 loss=0.08190978318452835\n",
      "epoch=124 lr=3.95630304410588e-05 loss=0.08201901614665985\n",
      "epoch=125 lr=3.949062738684006e-05 loss=0.0819195881485939\n",
      "epoch=126 lr=3.941274917451665e-05 loss=0.08171315491199493\n",
      "epoch=127 lr=3.9329428545897827e-05 loss=0.0819551944732666\n",
      "epoch=128 lr=3.924067641492002e-05 loss=0.08176072686910629\n",
      "epoch=129 lr=3.9146525523392484e-05 loss=0.0819348394870758\n",
      "epoch=130 lr=3.9047001337166876e-05 loss=0.08192836493253708\n",
      "epoch=131 lr=3.8942125684116036e-05 loss=0.08173386007547379\n",
      "epoch=132 lr=3.883193858200684e-05 loss=0.081647127866745\n",
      "epoch=133 lr=3.8716465496690944e-05 loss=0.0815071165561676\n",
      "epoch=134 lr=3.859573189401999e-05 loss=0.08147221058607101\n",
      "epoch=135 lr=3.8469785067718476e-05 loss=0.08145289123058319\n",
      "epoch=136 lr=3.833865048363805e-05 loss=0.08150055259466171\n",
      "epoch=137 lr=3.8202368159545586e-05 loss=0.08177012950181961\n",
      "epoch=138 lr=3.8060978113207966e-05 loss=0.08160659670829773\n",
      "epoch=139 lr=3.791452036239207e-05 loss=0.0814320519566536\n",
      "epoch=140 lr=3.776303128688596e-05 loss=0.08120737224817276\n",
      "epoch=141 lr=3.760655818041414e-05 loss=0.08121152967214584\n",
      "epoch=142 lr=3.7445137422764674e-05 loss=0.08124125003814697\n",
      "epoch=143 lr=3.7278827221598476e-05 loss=0.08128488808870316\n",
      "epoch=144 lr=3.710766031872481e-05 loss=0.08108100295066833\n",
      "epoch=145 lr=3.693169492180459e-05 loss=0.08138883113861084\n",
      "epoch=146 lr=3.675097832456231e-05 loss=0.08106806874275208\n",
      "epoch=147 lr=3.656555782072246e-05 loss=0.08085615932941437\n",
      "epoch=148 lr=3.637548797996715e-05 loss=0.08084773272275925\n",
      "epoch=149 lr=3.618081973399967e-05 loss=0.08098548650741577\n",
      "epoch=150 lr=3.598161129048094e-05 loss=0.08072782307863235\n",
      "epoch=151 lr=3.577791721909307e-05 loss=0.0807228535413742\n",
      "epoch=152 lr=3.556979572749697e-05 loss=0.08078335970640182\n",
      "epoch=153 lr=3.535730138537474e-05 loss=0.08087658137083054\n",
      "epoch=154 lr=3.514050331432372e-05 loss=0.08048451691865921\n",
      "epoch=155 lr=3.49194451700896e-05 loss=0.08066511899232864\n",
      "epoch=156 lr=3.469419971224852e-05 loss=0.08069107681512833\n",
      "epoch=157 lr=3.446483606239781e-05 loss=0.08064887672662735\n",
      "epoch=158 lr=3.4231408790219575e-05 loss=0.08028585463762283\n",
      "epoch=159 lr=3.3993987017311156e-05 loss=0.0802907794713974\n",
      "epoch=160 lr=3.375263622729108e-05 loss=0.08054166287183762\n",
      "epoch=161 lr=3.3507425541756675e-05 loss=0.08038027584552765\n",
      "epoch=162 lr=3.325842408230528e-05 loss=0.08021032810211182\n",
      "epoch=163 lr=3.300570824649185e-05 loss=0.08042652904987335\n",
      "epoch=164 lr=3.274933624197729e-05 loss=0.0800519585609436\n",
      "epoch=165 lr=3.248938446631655e-05 loss=0.08018163591623306\n",
      "epoch=166 lr=3.222592204110697e-05 loss=0.07990071177482605\n",
      "epoch=167 lr=3.1959036277839914e-05 loss=0.07993071526288986\n",
      "epoch=168 lr=3.168879266013391e-05 loss=0.07978863269090652\n",
      "epoch=169 lr=3.1415267585543916e-05 loss=0.07996170222759247\n",
      "epoch=170 lr=3.113853745162487e-05 loss=0.07995752990245819\n",
      "epoch=171 lr=3.085868229391053e-05 loss=0.07990874350070953\n",
      "epoch=172 lr=3.057577850995585e-05 loss=0.07967771589756012\n",
      "epoch=173 lr=3.0289906135294586e-05 loss=0.07971809059381485\n",
      "epoch=174 lr=3.0001148843439296e-05 loss=0.0796566754579544\n",
      "epoch=175 lr=2.9709581212955527e-05 loss=0.07942468672990799\n",
      "epoch=176 lr=2.9415281460387632e-05 loss=0.07945834845304489\n",
      "epoch=177 lr=2.9118338716216385e-05 loss=0.07945135980844498\n",
      "epoch=178 lr=2.881885302485898e-05 loss=0.07944317907094955\n",
      "epoch=179 lr=2.8516884412965737e-05 loss=0.07929804921150208\n",
      "epoch=180 lr=2.8212525648996234e-05 loss=0.0791928619146347\n",
      "epoch=181 lr=2.7905860406463034e-05 loss=0.07925307005643845\n",
      "epoch=182 lr=2.75969705398893e-05 loss=0.07905494421720505\n",
      "epoch=183 lr=2.728595609369222e-05 loss=0.07901769876480103\n",
      "epoch=184 lr=2.6972897103405558e-05 loss=0.07903199642896652\n",
      "epoch=185 lr=2.6657879061531276e-05 loss=0.0788295567035675\n",
      "epoch=186 lr=2.6340994736528955e-05 loss=0.07907552272081375\n",
      "epoch=187 lr=2.6022331439889967e-05 loss=0.07879389077425003\n",
      "epoch=188 lr=2.5701976483105682e-05 loss=0.07876011729240417\n",
      "epoch=189 lr=2.5380020815646276e-05 loss=0.07867168635129929\n",
      "epoch=190 lr=2.5056555386981927e-05 loss=0.07860483974218369\n",
      "epoch=191 lr=2.4731671146582812e-05 loss=0.07866086065769196\n",
      "epoch=192 lr=2.4405460862908512e-05 loss=0.07848525047302246\n",
      "epoch=193 lr=2.4078004571492784e-05 loss=0.07862772047519684\n",
      "epoch=194 lr=2.3749413230689242e-05 loss=0.07842084765434265\n",
      "epoch=195 lr=2.3419768695021048e-05 loss=0.07825013250112534\n",
      "epoch=196 lr=2.308916373294778e-05 loss=0.07828468829393387\n",
      "epoch=197 lr=2.2757696569897234e-05 loss=0.07835362106561661\n",
      "epoch=198 lr=2.2425452698371373e-05 loss=0.0783260241150856\n",
      "epoch=199 lr=2.2092519429861568e-05 loss=0.07816227525472641\n",
      "epoch=200 lr=2.1759007722721435e-05 loss=0.07807103544473648\n",
      "epoch=201 lr=2.1425004888442345e-05 loss=0.07806695997714996\n",
      "epoch=202 lr=2.1090601876494475e-05 loss=0.07793515920639038\n",
      "epoch=203 lr=2.075589327432681e-05 loss=0.07788192480802536\n",
      "epoch=204 lr=2.0420971850398928e-05 loss=0.07784659415483475\n",
      "epoch=205 lr=2.008593401114922e-05 loss=0.07797537744045258\n",
      "epoch=206 lr=1.9750872525037266e-05 loss=0.07776566594839096\n",
      "epoch=207 lr=1.9415880160522647e-05 loss=0.07761611044406891\n",
      "epoch=208 lr=1.9081055143033154e-05 loss=0.07755095511674881\n",
      "epoch=209 lr=1.874647568911314e-05 loss=0.07758081704378128\n",
      "epoch=210 lr=1.8412260033073835e-05 loss=0.07750420272350311\n",
      "epoch=211 lr=1.8078491848427802e-05 loss=0.07733199000358582\n",
      "epoch=212 lr=1.774526208464522e-05 loss=0.07725705206394196\n",
      "epoch=213 lr=1.7412667148164473e-05 loss=0.07729509472846985\n",
      "epoch=214 lr=1.708079616946634e-05 loss=0.07720137387514114\n",
      "epoch=215 lr=1.674973827903159e-05 loss=0.07712603360414505\n",
      "epoch=216 lr=1.6419602616224438e-05 loss=0.07725665718317032\n",
      "epoch=217 lr=1.6090471035568044e-05 loss=0.07704689353704453\n",
      "epoch=218 lr=1.5762439943500794e-05 loss=0.07702665776014328\n",
      "epoch=219 lr=1.5435598470503464e-05 loss=0.07680519670248032\n",
      "epoch=220 lr=1.511003756604623e-05 loss=0.07694040983915329\n",
      "epoch=221 lr=1.4785851817578077e-05 loss=0.07689909636974335\n",
      "epoch=222 lr=1.4463129446085077e-05 loss=0.07682166248559952\n",
      "epoch=223 lr=1.4141962310532108e-05 loss=0.07668165117502213\n",
      "epoch=224 lr=1.3822439541399945e-05 loss=0.07656940817832947\n",
      "epoch=225 lr=1.3504642083717044e-05 loss=0.0767744928598404\n",
      "epoch=226 lr=1.318867907684762e-05 loss=0.0765053853392601\n",
      "epoch=227 lr=1.2874626918346621e-05 loss=0.07644669711589813\n",
      "epoch=228 lr=1.2562577467178926e-05 loss=0.07641707360744476\n",
      "epoch=229 lr=1.2252617125341203e-05 loss=0.07649111747741699\n",
      "epoch=230 lr=1.1944830475840718e-05 loss=0.07647287100553513\n",
      "epoch=231 lr=1.1639305739663541e-05 loss=0.07626831531524658\n",
      "epoch=232 lr=1.133612749981694e-05 loss=0.07616283744573593\n",
      "epoch=233 lr=1.1035375791834667e-05 loss=0.07624471932649612\n",
      "epoch=234 lr=1.0737148841144517e-05 loss=0.07614436000585556\n",
      "epoch=235 lr=1.0441522135806736e-05 loss=0.07615530490875244\n",
      "epoch=236 lr=1.0148580258828588e-05 loss=0.0760815218091011\n",
      "epoch=237 lr=9.858404155238532e-06 loss=0.07603650540113449\n",
      "epoch=238 lr=9.571076589054428e-06 loss=0.07588515430688858\n",
      "epoch=239 lr=9.286676686315332e-06 loss=0.07589379698038101\n",
      "epoch=240 lr=9.005284482554998e-06 loss=0.07570710778236389\n",
      "epoch=241 lr=8.726973646844272e-06 loss=0.0757644921541214\n",
      "epoch=242 lr=8.451832400169224e-06 loss=0.07566524296998978\n",
      "epoch=243 lr=8.179936230590101e-06 loss=0.07567209750413895\n",
      "epoch=244 lr=7.911357897683047e-06 loss=0.07563567161560059\n",
      "epoch=245 lr=7.646172889508307e-06 loss=0.07553929090499878\n",
      "epoch=246 lr=7.384458058368182e-06 loss=0.07560957968235016\n",
      "epoch=247 lr=7.126283890102059e-06 loss=0.0754794031381607\n",
      "epoch=248 lr=6.87172359903343e-06 loss=0.07540281862020493\n",
      "epoch=249 lr=6.62085085423314e-06 loss=0.07529501616954803\n",
      "epoch=250 lr=6.373735686793225e-06 loss=0.07521078735589981\n",
      "epoch=251 lr=6.1304372138693e-06 loss=0.07542195171117783\n",
      "epoch=252 lr=5.891041382710682e-06 loss=0.07515565305948257\n",
      "epoch=253 lr=5.655605036736233e-06 loss=0.07529058307409286\n",
      "epoch=254 lr=5.424200026027393e-06 loss=0.07519297301769257\n",
      "epoch=255 lr=5.196880920266267e-06 loss=0.07520414888858795\n",
      "epoch=256 lr=4.973724571755156e-06 loss=0.07520712167024612\n",
      "epoch=257 lr=4.754778274218552e-06 loss=0.07513530552387238\n",
      "epoch=258 lr=4.540117970464053e-06 loss=0.07497373223304749\n",
      "epoch=259 lr=4.329796411184361e-06 loss=0.07511777430772781\n",
      "epoch=260 lr=4.123878170503303e-06 loss=0.07504121214151382\n",
      "epoch=261 lr=3.922415544366231e-06 loss=0.07494932413101196\n",
      "epoch=262 lr=3.725468332049786e-06 loss=0.074896439909935\n",
      "epoch=263 lr=3.533090875862399e-06 loss=0.07485692948102951\n",
      "epoch=264 lr=3.345333425386343e-06 loss=0.07495750486850739\n",
      "epoch=265 lr=3.1622535061615054e-06 loss=0.07473168522119522\n",
      "epoch=266 lr=2.983900913022808e-06 loss=0.07485850155353546\n",
      "epoch=267 lr=2.8103208933316637e-06 loss=0.07471615076065063\n",
      "epoch=268 lr=2.6415707452542847e-06 loss=0.0748014822602272\n",
      "epoch=269 lr=2.477698217262514e-06 loss=0.07473327219486237\n",
      "epoch=270 lr=2.3187460556073347e-06 loss=0.07482635229825974\n",
      "epoch=271 lr=2.1647504127031425e-06 loss=0.07469252496957779\n",
      "epoch=272 lr=2.015765403484693e-06 loss=0.07458953559398651\n",
      "epoch=273 lr=1.8718275214268942e-06 loss=0.0746396854519844\n",
      "epoch=274 lr=1.7329816728306469e-06 loss=0.07482746243476868\n",
      "epoch=275 lr=1.5992660564734251e-06 loss=0.07458007335662842\n",
      "epoch=276 lr=1.4707140962855192e-06 loss=0.07449283450841904\n",
      "epoch=277 lr=1.34736865220475e-06 loss=0.07443839311599731\n",
      "epoch=278 lr=1.2292583733142237e-06 loss=0.07436899840831757\n",
      "epoch=279 lr=1.1164165698573925e-06 loss=0.07443805783987045\n",
      "epoch=280 lr=1.0088766657645465e-06 loss=0.07454211264848709\n",
      "epoch=281 lr=9.066674238056294e-07 loss=0.0743437334895134\n",
      "epoch=282 lr=8.098219268504181e-07 loss=0.07442692667245865\n",
      "epoch=283 lr=7.183593879744876e-07 loss=0.07442381232976913\n",
      "epoch=284 lr=6.323131742647092e-07 loss=0.07422773540019989\n",
      "epoch=285 lr=5.517071599570045e-07 loss=0.07437479496002197\n",
      "epoch=286 lr=4.765603591749823e-07 loss=0.07410585135221481\n",
      "epoch=287 lr=4.068918713073799e-07 loss=0.07422129809856415\n",
      "epoch=288 lr=3.4272554216840945e-07 loss=0.07428503781557083\n",
      "epoch=289 lr=2.840756678779144e-07 loss=0.07416900247335434\n",
      "epoch=290 lr=2.3096609425010683e-07 loss=0.07422371953725815\n",
      "epoch=291 lr=1.8340634255764598e-07 loss=0.07416673004627228\n",
      "epoch=292 lr=1.414083499184926e-07 loss=0.07419059425592422\n",
      "epoch=293 lr=1.0498401081804332e-07 loss=0.07413207739591599\n",
      "epoch=294 lr=7.41500372214432e-08 loss=0.07430032640695572\n",
      "epoch=295 lr=4.890880234142969e-08 loss=0.07413506507873535\n",
      "epoch=296 lr=2.9265075696116583e-08 loss=0.07415470480918884\n",
      "epoch=297 lr=1.5233160510774724e-08 loss=0.07415387779474258\n",
      "epoch=298 lr=6.808289931825584e-09 loss=0.0741974487900734\n",
      "epoch=299 lr=3.999999886872274e-09 loss=0.07420003414154053\n",
      "\n"
     ]
    }
   ],
   "source": [
    "for epoch in tqdm(range(epoch, total_epochs)):\n",
    "    epoch_loss = 0.0\n",
    "    num_samples = 0\n",
    "    all_batch_data = get_derivative_dataset(rng)\n",
    "    for minibatch in range(minibatch_per):\n",
    "        fraction = (epoch + minibatch/minibatch_per)/total_epochs\n",
    "        batch_data = (all_batch_data[0][minibatch*batch:(minibatch+1)*batch], all_batch_data[1][minibatch*batch:(minibatch+1)*batch])\n",
    "        rng += 10\n",
    "        opt_state, params = update_derivative(fraction, opt_state, batch_data, 1e-6)\n",
    "        cur_loss = loss(params, batch_data, 0.0)\n",
    "        epoch_loss += cur_loss\n",
    "        num_samples += batch\n",
    "    closs = epoch_loss/num_samples\n",
    "    print('epoch={} lr={} loss={}'.format(\n",
    "        epoch, OneCycleLR(fraction), closs)\n",
    "         )\n",
    "    if closs < best_loss:\n",
    "        best_loss = closs\n",
    "        best_params = [[copy(jax.device_get(l2)) for l2 in l1] if len(l1) > 0 else () for l1 in params]"
   ]
  },
  {
   "cell_type": "markdown",
   "metadata": {},
   "source": [
    "Look at distribution of weights to make a better model?"
   ]
  },
  {
   "cell_type": "code",
   "execution_count": 29,
   "metadata": {},
   "outputs": [],
   "source": [
    "best_params = pkl.load(\n",
    "    open('best_dblpendulum_baseline_v5_900epoch.pt', 'rb')\n",
    ")"
   ]
  },
  {
   "cell_type": "code",
   "execution_count": 30,
   "metadata": {},
   "outputs": [],
   "source": [
    "# p = get_params(opt_state)"
   ]
  },
  {
   "cell_type": "code",
   "execution_count": 31,
   "metadata": {},
   "outputs": [],
   "source": [
    "opt_state = opt_init(best_params)"
   ]
  },
  {
   "cell_type": "code",
   "execution_count": 32,
   "metadata": {},
   "outputs": [],
   "source": [
    "# pkl.dump(\n",
    "#     best_params,\n",
    "#     open('best_dblpendulum_baseline_v5_900epoch.pt', 'wb')\n",
    "# )"
   ]
  },
  {
   "cell_type": "markdown",
   "metadata": {},
   "source": [
    "### Make sure the args are the same:"
   ]
  },
  {
   "cell_type": "code",
   "execution_count": 33,
   "metadata": {},
   "outputs": [],
   "source": [
    "# opt_state = opt_init(loaded['params'])"
   ]
  },
  {
   "cell_type": "code",
   "execution_count": 34,
   "metadata": {},
   "outputs": [
    {
     "data": {
      "text/plain": [
       "DeviceArray([7, 7], dtype=uint32)"
      ]
     },
     "execution_count": 34,
     "metadata": {},
     "output_type": "execute_result"
    }
   ],
   "source": [
    "rng+7"
   ]
  },
  {
   "cell_type": "markdown",
   "metadata": {},
   "source": [
    "The seed: [8, 8] looks pretty good! Set args.n_updates=3, and the file params_for_loss_0.29429444670677185_nupdates=1.pkl."
   ]
  },
  {
   "cell_type": "code",
   "execution_count": 35,
   "metadata": {},
   "outputs": [],
   "source": [
    "plt.rc('font', family='serif')"
   ]
  },
  {
   "cell_type": "code",
   "execution_count": 36,
   "metadata": {},
   "outputs": [],
   "source": [
    "max_t = 10\n",
    "new_dataset = new_get_dataset(jax.random.PRNGKey(2),\n",
    "                              t_span=[0, max_t],\n",
    "                              fps=10, test_split=1.0,\n",
    "                              unlimited_steps=False)\n"
   ]
  },
  {
   "cell_type": "code",
   "execution_count": 37,
   "metadata": {},
   "outputs": [],
   "source": [
    "t = new_dataset['x'][0, :]\n",
    "tall = [jax.device_get(t)]\n",
    "p = get_params(opt_state)"
   ]
  },
  {
   "cell_type": "code",
   "execution_count": 38,
   "metadata": {},
   "outputs": [
    {
     "data": {
      "text/plain": [
       "(99, 4)"
      ]
     },
     "execution_count": 38,
     "metadata": {},
     "output_type": "execute_result"
    }
   ],
   "source": [
    "new_dataset['x'].shape"
   ]
  },
  {
   "cell_type": "code",
   "execution_count": 39,
   "metadata": {},
   "outputs": [],
   "source": [
    "pred_tall = jax.device_get(odeint(\n",
    "    partial(baseline_eom, learned_dynamics(p)),\n",
    "    t,\n",
    "    np.linspace(0, max_t, num=new_dataset['x'].shape[0])))"
   ]
  },
  {
   "cell_type": "code",
   "execution_count": 40,
   "metadata": {},
   "outputs": [],
   "source": [
    "@jit\n",
    "def kinetic_energy(state, m1=1, m2=1, l1=1, l2=1, g=9.8):\n",
    "    q, q_dot = jnp.split(state, 2)\n",
    "    (t1, t2), (w1, w2) = q, q_dot\n",
    "\n",
    "    T1 = 0.5 * m1 * (l1 * w1)**2\n",
    "    T2 = 0.5 * m2 * ((l1 * w1)**2 + (l2 * w2)**2 + 2 * l1 * l2 * w1 * w2 * jnp.cos(t1 - t2))\n",
    "    T = T1 + T2\n",
    "    return T\n",
    "\n",
    "@jit\n",
    "def potential_energy(state, m1=1, m2=1, l1=1, l2=1, g=9.8):\n",
    "    q, q_dot = jnp.split(state, 2)\n",
    "    (t1, t2), (w1, w2) = q, q_dot\n",
    "\n",
    "    y1 = -l1 * jnp.cos(t1)\n",
    "    y2 = y1 - l2 * jnp.cos(t2)\n",
    "    V = m1 * g * y1 + m2 * g * y2\n",
    "    return V"
   ]
  },
  {
   "cell_type": "code",
   "execution_count": 41,
   "metadata": {},
   "outputs": [
    {
     "data": {
      "text/plain": [
       "Text(0.5, 0, 'Time')"
      ]
     },
     "execution_count": 41,
     "metadata": {},
     "output_type": "execute_result"
    },
    {
     "data": {
      "image/png": "[encoded data removed]",
      "text/plain": [
       "<Figure size 432x288 with 1 Axes>"
      ]
     },
     "metadata": {
      "needs_background": "light"
     },
     "output_type": "display_data"
    }
   ],
   "source": [
    "tall = np.array(tall)\n",
    "plt.plot(new_dataset['x'][:30, 0])#[:100, 0])\n",
    "plt.plot(pred_tall[:30, 0])\n",
    "\n",
    "plt.ylabel(r'$\\theta_1$')\n",
    "plt.xlabel('Time')"
   ]
  },
  {
   "cell_type": "code",
   "execution_count": null,
   "metadata": {},
   "outputs": [],
   "source": []
  },
  {
   "cell_type": "code",
   "execution_count": null,
   "metadata": {},
   "outputs": [
    {
     "data": {
      "application/vnd.jupyter.widget-view+json": {
       "model_id": "ba2d2e69723d4378bfe552e0ed8fcd35",
       "version_major": 2,
       "version_minor": 0
      },
      "text/plain": [
       "HBox(children=(FloatProgress(value=0.0), HTML(value='')))"
      ]
     },
     "metadata": {},
     "output_type": "display_data"
    },
    {
     "name": "stdout",
     "output_type": "stream",
     "text": [
      "0 current error 0.0038181357\n",
      "1 current error 0.021209426\n",
      "2 current error 0.01846676\n",
      "3 current error 0.047700986\n",
      "4 current error 0.050402828\n",
      "5 current error 0.046946183\n",
      "6 current error 0.044238884\n",
      "7 current error 0.039473616\n",
      "8 current error 0.035828345\n",
      "9 current error 0.032732606\n",
      "10 current error 0.030316547\n",
      "11 current error 0.028577417\n",
      "12 current error 0.028252253\n",
      "13 current error 0.029273892\n",
      "14 current error 0.031878117\n",
      "15 current error 0.029994529\n",
      "16 current error 0.03498629\n",
      "17 current error 0.03309936\n",
      "18 current error 0.03261298\n",
      "19 current error 0.03116028\n",
      "20 current error 0.030652355\n",
      "21 current error 0.029808465\n",
      "22 current error 0.03206598\n",
      "23 current error 0.030886434\n",
      "24 current error 0.02967531\n",
      "25 current error 0.028906314\n",
      "26 current error 0.02900661\n",
      "27 current error 0.028143957\n",
      "28 current error 0.027396614\n",
      "29 current error 0.026806256\n",
      "30 current error 0.026434598\n",
      "31 current error 0.025650725\n",
      "32 current error 0.024904592\n",
      "33 current error 0.02522585\n",
      "34 current error 0.089925386\n",
      "35 current error 0.08756612\n",
      "36 current error 0.08539982\n",
      "37 current error 0.08411583\n",
      "38 current error 0.08209654\n",
      "39 current error 0.08006577\n",
      "40 current error 0.07837987\n",
      "41 current error 0.07682229\n",
      "42 current error 0.07506938\n",
      "43 current error 0.07363075\n"
     ]
    }
   ],
   "source": [
    "all_errors = []\n",
    "for i in tqdm(range(100)):\n",
    "    max_t = 100\n",
    "    new_dataset = new_get_dataset(jax.random.PRNGKey(i),\n",
    "                                  t_span=[0, max_t],\n",
    "                                  fps=10, test_split=1.0,\n",
    "                                  unlimited_steps=False)\n",
    "    t = new_dataset['x'][0, :]\n",
    "    tall = [jax.device_get(t)]\n",
    "    p = best_params\n",
    "    pred_tall = jax.device_get(odeint(\n",
    "        partial(baseline_eom, learned_dynamics(p)),\n",
    "        t,\n",
    "        np.linspace(0, max_t, num=new_dataset['x'].shape[0]),\n",
    "        mxsteps=100))\n",
    "\n",
    "    total_true_energy = (\n",
    "        jax.vmap(kinetic_energy, 0, 0)(new_dataset['x'][:]) + \\\n",
    "        jax.vmap(potential_energy, 0, 0)(new_dataset['x'][:])\n",
    "    )\n",
    "    total_predicted_energy = (\n",
    "        jax.vmap(kinetic_energy, 0, 0)(pred_tall[:]) + \\\n",
    "        jax.vmap(potential_energy, 0, 0)(pred_tall[:])\n",
    "    )\n",
    "\n",
    "    scale=29.4\n",
    "\n",
    "    # translation = jnp.min(total_true_energy) + 1\n",
    "    # total_true_energy -= translation\n",
    "    # total_predicted_energy -= translation\n",
    "\n",
    "    cur_error = jnp.abs((total_predicted_energy-total_true_energy)[-1])/scale\n",
    "    all_errors.append(cur_error)\n",
    "    \n",
    "    print(i, 'current error', jnp.average(all_errors))"
   ]
  },
  {
   "cell_type": "markdown",
   "metadata": {},
   "source": [
    "# Can't run the 44th system. Just freezes..."
   ]
  },
  {
   "cell_type": "code",
   "execution_count": null,
   "metadata": {},
   "outputs": [],
   "source": []
  },
  {
   "cell_type": "code",
   "execution_count": null,
   "metadata": {},
   "outputs": [],
   "source": []
  },
  {
   "cell_type": "markdown",
   "metadata": {},
   "source": [
    "## Make plots:"
   ]
  },
  {
   "cell_type": "code",
   "execution_count": 74,
   "metadata": {},
   "outputs": [
    {
     "data": {
      "text/plain": [
       "(-0.06, 0.01)"
      ]
     },
     "execution_count": 74,
     "metadata": {},
     "output_type": "execute_result"
    },
    {
     "data": {
      "image/png": "[encoded data removed]",
      "text/plain": [
       "<Figure size 432x288 with 1 Axes>"
      ]
     },
     "metadata": {
      "needs_background": "light"
     },
     "output_type": "display_data"
    }
   ],
   "source": [
    "total_true_energy = (\n",
    "    jax.vmap(kinetic_energy, 0, 0)(new_dataset['x'][:]) + \\\n",
    "    jax.vmap(potential_energy, 0, 0)(new_dataset['x'][:])\n",
    ")\n",
    "total_predicted_energy = (\n",
    "    jax.vmap(kinetic_energy, 0, 0)(pred_tall[:]) + \\\n",
    "    jax.vmap(potential_energy, 0, 0)(pred_tall[:])\n",
    ")\n",
    "scale=29.4\n",
    "\n",
    "# translation = jnp.min(total_true_energy) + 1\n",
    "# total_true_energy -= translation\n",
    "# total_predicted_energy -= translation\n",
    "\n",
    "plt.plot(\n",
    "    (total_predicted_energy-total_true_energy)/scale\n",
    ")\n",
    "\n",
    "plt.ylabel('Absolute Error in Total Energy/Max Potential Energy')\n",
    "plt.xlabel('Time')\n",
    "plt.ylim(-0.06, 0.01)"
   ]
  },
  {
   "cell_type": "code",
   "execution_count": 75,
   "metadata": {},
   "outputs": [],
   "source": [
    "# np.save('baseline_dblpend_energy.npy', total_predicted_energy)\n",
    "# np.save('baseline_dblpend_prediction.npy', pred_tall)"
   ]
  },
  {
   "cell_type": "code",
   "execution_count": 108,
   "metadata": {},
   "outputs": [],
   "source": [
    "rng = jax.random.PRNGKey(int(1e9))"
   ]
  },
  {
   "cell_type": "code",
   "execution_count": 109,
   "metadata": {},
   "outputs": [
    {
     "name": "stdout",
     "output_type": "stream",
     "text": [
      "(100000, 4)\n"
     ]
    }
   ],
   "source": [
    "batch_data = get_derivative_dataset(rng)[0][:100000], get_derivative_dataset(rng)[1][:100000]\n",
    "print(batch_data[0].shape)"
   ]
  },
  {
   "cell_type": "code",
   "execution_count": 110,
   "metadata": {},
   "outputs": [
    {
     "data": {
      "text/plain": [
       "DeviceArray(0.07387472, dtype=float32)"
      ]
     },
     "execution_count": 110,
     "metadata": {},
     "output_type": "execute_result"
    }
   ],
   "source": [
    "loss(best_params, batch_data, 0.0)/len(batch_data[0])"
   ]
  },
  {
   "cell_type": "code",
   "execution_count": null,
   "metadata": {},
   "outputs": [],
   "source": []
  },
  {
   "cell_type": "code",
   "execution_count": null,
   "metadata": {},
   "outputs": [],
   "source": []
  },
  {
   "cell_type": "code",
   "execution_count": null,
   "metadata": {},
   "outputs": [],
   "source": []
  },
  {
   "cell_type": "code",
   "execution_count": null,
   "metadata": {},
   "outputs": [],
   "source": []
  },
  {
   "cell_type": "code",
   "execution_count": 16,
   "metadata": {},
   "outputs": [],
   "source": [
    "best_loss = np.inf\n",
    "best_params = None"
   ]
  },
  {
   "cell_type": "code",
   "execution_count": null,
   "metadata": {},
   "outputs": [
    {
     "name": "stdout",
     "output_type": "stream",
     "text": [
      "Running 0\n",
      "Cur best 0.5416298\n",
      "iteration=1, train_loss=3.281229, test_loss=3.362365\n",
      "iteration=2, train_loss=3.338815, test_loss=3.414896\n",
      "iteration=3, train_loss=3.173423, test_loss=3.245358\n",
      "iteration=5, train_loss=2.876028, test_loss=2.953962\n",
      "iteration=8, train_loss=2.617690, test_loss=2.711931\n",
      "iteration=12, train_loss=2.461916, test_loss=2.569056\n",
      "iteration=14, train_loss=2.420607, test_loss=2.529519\n",
      "iteration=16, train_loss=2.393510, test_loss=2.502541\n",
      "iteration=24, train_loss=2.345873, test_loss=2.449337\n",
      "iteration=69, train_loss=2.283767, test_loss=2.380207\n",
      "iteration=71, train_loss=2.279208, test_loss=2.375960\n",
      "iteration=100, train_loss=2.052558, test_loss=2.182241\n",
      "iteration=126, train_loss=2.150693, test_loss=2.242196\n",
      "iteration=138, train_loss=2.043466, test_loss=2.179271\n",
      "iteration=139, train_loss=2.103001, test_loss=2.250430\n",
      "iteration=159, train_loss=1.884455, test_loss=2.035448\n",
      "iteration=200, train_loss=2.981948, test_loss=3.082102\n",
      "iteration=300, train_loss=2.960814, test_loss=3.060463\n",
      "iteration=400, train_loss=2.960811, test_loss=3.060462\n",
      "iteration=500, train_loss=2.960812, test_loss=3.060462\n",
      "iteration=600, train_loss=2.960812, test_loss=3.060462\n",
      "iteration=700, train_loss=2.960812, test_loss=3.060462\n",
      "iteration=800, train_loss=2.960811, test_loss=3.060461\n",
      "iteration=900, train_loss=2.960811, test_loss=3.060461\n",
      "Running 1\n",
      "Cur best 0.5416298\n",
      "iteration=1, train_loss=3.317755, test_loss=3.405537\n",
      "iteration=7, train_loss=3.069434, test_loss=3.143141\n",
      "iteration=9, train_loss=2.917306, test_loss=3.000417\n",
      "iteration=15, train_loss=2.608413, test_loss=2.708017\n",
      "iteration=18, train_loss=2.543802, test_loss=2.646056\n",
      "iteration=32, train_loss=2.374668, test_loss=2.479213\n",
      "iteration=39, train_loss=2.299356, test_loss=2.407058\n",
      "iteration=43, train_loss=2.278494, test_loss=2.383728\n",
      "iteration=48, train_loss=2.254509, test_loss=2.356943\n",
      "iteration=56, train_loss=2.220623, test_loss=2.325905\n",
      "iteration=79, train_loss=2.060705, test_loss=2.196907\n",
      "iteration=81, train_loss=2.041281, test_loss=2.188952\n",
      "iteration=100, train_loss=2.084676, test_loss=2.204079\n",
      "iteration=125, train_loss=2.075690, test_loss=2.199195\n",
      "iteration=200, train_loss=3.000287, test_loss=3.060724\n",
      "iteration=300, train_loss=2.658924, test_loss=2.740549\n",
      "iteration=400, train_loss=2.534858, test_loss=2.626127\n",
      "iteration=500, train_loss=2.471405, test_loss=2.568029\n",
      "iteration=600, train_loss=2.436610, test_loss=2.535066\n",
      "iteration=700, train_loss=2.397138, test_loss=2.495735\n",
      "iteration=800, train_loss=2.320425, test_loss=2.424311\n",
      "iteration=900, train_loss=2.121181, test_loss=2.235008\n",
      "iteration=919, train_loss=2.059577, test_loss=2.177489\n",
      "Running 2\n",
      "Cur best 0.5416298\n",
      "iteration=1, train_loss=3.440591, test_loss=3.480830\n",
      "iteration=2, train_loss=2.827830, test_loss=2.907219\n",
      "iteration=9, train_loss=2.746610, test_loss=2.831154\n",
      "iteration=13, train_loss=2.650030, test_loss=2.734251\n",
      "iteration=18, train_loss=2.537922, test_loss=2.626945\n",
      "iteration=40, train_loss=2.310189, test_loss=2.429695\n",
      "iteration=42, train_loss=2.259042, test_loss=2.373740\n",
      "iteration=50, train_loss=2.158052, test_loss=2.284200\n",
      "iteration=100, train_loss=2.599460, test_loss=2.704235\n",
      "iteration=134, train_loss=2.432410, test_loss=2.542955\n",
      "iteration=200, train_loss=2.345119, test_loss=2.447702\n",
      "iteration=240, train_loss=2.313213, test_loss=2.408730\n",
      "iteration=270, train_loss=2.267631, test_loss=2.355745\n",
      "iteration=300, train_loss=2.167197, test_loss=2.254341\n",
      "iteration=321, train_loss=2.142529, test_loss=2.229394\n",
      "iteration=400, train_loss=1.977052, test_loss=2.082325\n",
      "iteration=466, train_loss=1.770378, test_loss=1.895221\n",
      "iteration=500, train_loss=1.714534, test_loss=1.860020\n",
      "iteration=504, train_loss=1.720593, test_loss=1.862275\n",
      "iteration=559, train_loss=1.666239, test_loss=1.814709\n",
      "iteration=582, train_loss=1.630734, test_loss=1.769616\n",
      "iteration=600, train_loss=1.634274, test_loss=1.775872\n",
      "iteration=700, train_loss=1.544320, test_loss=1.685645\n",
      "iteration=712, train_loss=1.545025, test_loss=1.697033\n",
      "iteration=800, train_loss=1.527132, test_loss=1.672148\n",
      "iteration=808, train_loss=1.677876, test_loss=1.650595\n",
      "iteration=848, train_loss=1.447197, test_loss=1.600824\n",
      "iteration=900, train_loss=1.371689, test_loss=1.529193\n",
      "iteration=941, train_loss=1.347298, test_loss=1.505083\n",
      "iteration=1000, train_loss=1.319070, test_loss=1.476217\n",
      "iteration=1051, train_loss=1.266694, test_loss=1.438258\n",
      "iteration=1175, train_loss=1.226607, test_loss=1.381197\n",
      "iteration=1188, train_loss=1.246742, test_loss=1.393102\n",
      "iteration=1226, train_loss=1.175629, test_loss=1.330247\n",
      "iteration=1481, train_loss=1.119713, test_loss=1.259370\n",
      "iteration=1500, train_loss=1.069470, test_loss=1.215181\n",
      "iteration=1611, train_loss=1.071569, test_loss=1.210487\n",
      "iteration=1736, train_loss=1.024607, test_loss=1.155848\n",
      "iteration=1839, train_loss=1.002461, test_loss=1.130287\n",
      "iteration=2000, train_loss=0.970661, test_loss=1.104429\n",
      "iteration=2022, train_loss=0.947728, test_loss=1.085750\n",
      "iteration=2095, train_loss=0.972037, test_loss=1.094629\n",
      "iteration=2351, train_loss=0.924950, test_loss=1.063900\n",
      "iteration=2500, train_loss=0.945857, test_loss=1.077084\n",
      "iteration=2568, train_loss=0.932887, test_loss=1.063079\n",
      "iteration=2901, train_loss=0.957002, test_loss=1.103113\n",
      "iteration=2992, train_loss=0.892175, test_loss=1.031748\n",
      "iteration=3000, train_loss=0.901037, test_loss=1.032903\n",
      "iteration=3302, train_loss=0.900294, test_loss=1.039103\n",
      "iteration=3500, train_loss=0.931067, test_loss=1.058354\n",
      "iteration=3940, train_loss=0.926068, test_loss=1.055898\n",
      "iteration=4000, train_loss=0.893681, test_loss=1.028090\n",
      "iteration=4500, train_loss=0.896116, test_loss=1.031149\n",
      "iteration=4533, train_loss=0.897025, test_loss=1.026571\n",
      "iteration=5000, train_loss=0.901224, test_loss=1.030433\n",
      "iteration=5500, train_loss=0.935792, test_loss=1.066033\n",
      "iteration=5503, train_loss=0.875628, test_loss=1.012658\n",
      "iteration=6000, train_loss=0.886833, test_loss=1.021481\n",
      "iteration=6500, train_loss=0.868955, test_loss=1.005378\n",
      "Running 3\n",
      "Cur best 0.5416298\n",
      "iteration=1, train_loss=164639319464549901665380073472.000000, test_loss=3081212275934353162240.000000\n",
      "iteration=3, train_loss=5.067006, test_loss=5.148108\n",
      "iteration=10, train_loss=2.743804, test_loss=2.803879\n",
      "iteration=11, train_loss=2.773528, test_loss=2.827923\n",
      "iteration=12, train_loss=2.837285, test_loss=2.890387\n",
      "iteration=16, train_loss=3.127988, test_loss=3.174890\n",
      "iteration=100, train_loss=4.512383, test_loss=4.532230\n",
      "iteration=200, train_loss=4.513072, test_loss=4.532910\n",
      "iteration=300, train_loss=4.513071, test_loss=4.532909\n",
      "iteration=400, train_loss=4.513073, test_loss=4.532909\n",
      "iteration=500, train_loss=4.513072, test_loss=4.532909\n",
      "iteration=600, train_loss=4.513072, test_loss=4.532908\n",
      "iteration=700, train_loss=4.513072, test_loss=4.532909\n",
      "iteration=800, train_loss=4.513072, test_loss=4.532908\n",
      "iteration=900, train_loss=4.513072, test_loss=4.532908\n",
      "Running 4\n",
      "Cur best 0.5416298\n"
     ]
    }
   ],
   "source": [
    "for _i in range(1000):\n",
    "    print('Running', _i)\n",
    "    print('Cur best', str(best_loss))\n",
    "\n",
    "    init_random_params, nn_forward_fn = extended_mlp(args)\n",
    "    import HyperparameterSearch\n",
    "    HyperparameterSearch.nn_forward_fn = nn_forward_fn\n",
    "    _, init_params = init_random_params(rng+1, (-1, 4))\n",
    "    rng += 1\n",
    "    model = (nn_forward_fn, init_params)\n",
    "    opt_init, opt_update, get_params = optimizers.adam(3e-4)##lambda i: jnp.select([i<10000, i>= 10000], [args.lr, args.lr2]))\n",
    "    opt_state = opt_init(init_params)\n",
    "    from jax.tree_util import tree_flatten\n",
    "    from HyperparameterSearch import make_loss, train\n",
    "    loss = make_loss(args)\n",
    "    from copy import deepcopy as copy\n",
    "    train(args, model, data, rng);\n",
    "    from jax.tree_util import tree_flatten\n",
    "\n",
    "    @jax.jit\n",
    "    def update_derivative(i, opt_state, batch, l2reg):\n",
    "        params = get_params(opt_state)\n",
    "        param_update = jax.grad(loss, 0)(params, batch, l2reg)\n",
    "        leaves, _ = tree_flatten(param_update)\n",
    "        infinities = sum((~jnp.isfinite(param)).sum() for param in leaves)\n",
    "\n",
    "        def true_fun(x):\n",
    "            #No introducing NaNs.\n",
    "            return opt_update(i, param_update, opt_state), params\n",
    "\n",
    "        def false_fun(x):\n",
    "            #No introducing NaNs.\n",
    "            return opt_state, params\n",
    "\n",
    "        return jax.lax.cond(infinities==0, 0, true_fun, 0, false_fun)\n",
    "\n",
    "\n",
    "    best_small_loss = np.inf\n",
    "    (nn_forward_fn, init_params) = model\n",
    "    data = {k: jax.device_put(v) for k,v in data.items()}\n",
    "    iteration = 0\n",
    "    train_losses, test_losses = [], []\n",
    "    lr = args.lr\n",
    "    opt_init, opt_update, get_params = optimizers.adam(lr)\n",
    "    opt_state = opt_init(init_params)\n",
    "    bad_iterations = 0\n",
    "    offset = 0\n",
    "    \n",
    "    while iteration < 20000:\n",
    "        iteration += 1\n",
    "        rand_idx = jax.random.randint(rng, (args.batch_size,), 0, len(data['x']))\n",
    "        rng += 1\n",
    "\n",
    "        batch = (data['x'][rand_idx], data['dx'][rand_idx])\n",
    "        opt_state, params = update_derivative(iteration+offset, opt_state, batch, args.l2reg)\n",
    "        small_loss = loss(params, batch, 0.0)\n",
    "\n",
    "        new_small_loss = False\n",
    "        if small_loss < best_small_loss:\n",
    "\n",
    "            best_small_loss = small_loss\n",
    "            new_small_loss = True\n",
    "        \n",
    "        if jnp.isnan(small_loss).sum() or new_small_loss or (iteration % 500 == 0) or (iteration < 1000 and iteration % 100 == 0):\n",
    "            params = get_params(opt_state)\n",
    "            train_loss = loss(params, (data['x'], data['dx']), 0.0)/len(data['x'])\n",
    "            train_losses.append(train_loss)\n",
    "            test_loss = loss(params, (data['test_x'], data['test_dx']), 0.0)/len(data['test_x'])\n",
    "            test_losses.append(test_loss)\n",
    "            \n",
    "            if iteration >= 1000 and test_loss > 1.5:\n",
    "                #Only good seeds allowed!\n",
    "                break\n",
    "\n",
    "            if test_loss < best_loss:\n",
    "                best_loss = test_loss\n",
    "                best_params = copy(params)\n",
    "                bad_iterations = 0\n",
    "                offset += iteration\n",
    "                iteration = 0 #Keep going since this one is so good!\n",
    "\n",
    "            if jnp.isnan(test_loss).sum():\n",
    "                break\n",
    "                lr = lr/2\n",
    "                opt_init, opt_update, get_params = optimizers.adam(lr)\n",
    "                opt_state = opt_init(best_params)\n",
    "                bad_iterations = 0\n",
    "\n",
    "            print(f\"iteration={iteration}, train_loss={train_loss:.6f}, test_loss={test_loss:.6f}\")\n",
    "\n",
    "        bad_iterations += 1\n",
    "    \n",
    "    import pickle as pkl\n",
    "    if best_loss < np.inf:\n",
    "        pkl.dump({'params': best_params, 'args': args},\n",
    "             open('params_for_loss_{}_nupdates=1.pkl'.format(best_loss), 'wb'))"
   ]
  },
  {
   "cell_type": "code",
   "execution_count": 19,
   "metadata": {},
   "outputs": [],
   "source": [
    "import importlib"
   ]
  },
  {
   "cell_type": "code",
   "execution_count": 22,
   "metadata": {},
   "outputs": [],
   "source": [
    "import lnn"
   ]
  },
  {
   "cell_type": "code",
   "execution_count": 24,
   "metadata": {},
   "outputs": [
    {
     "data": {
      "text/plain": [
       "<module 'lnn' from '../lnn.py'>"
      ]
     },
     "execution_count": 24,
     "metadata": {},
     "output_type": "execute_result"
    }
   ],
   "source": [
    "importlib.reload(lnn)"
   ]
  },
  {
   "cell_type": "code",
   "execution_count": 25,
   "metadata": {},
   "outputs": [],
   "source": [
    "from lnn import lagrangian_eom_rk4"
   ]
  },
  {
   "cell_type": "code",
   "execution_count": 236,
   "metadata": {},
   "outputs": [
    {
     "data": {
      "text/plain": [
       "DeviceArray(1.8673568, dtype=float32)"
      ]
     },
     "execution_count": 236,
     "metadata": {},
     "output_type": "execute_result"
    }
   ],
   "source": [
    "loss(best_params, (data['test_x'], data['test_dx']), 0.0)/len(data['test_x'])"
   ]
  },
  {
   "cell_type": "code",
   "execution_count": null,
   "metadata": {},
   "outputs": [],
   "source": []
  },
  {
   "cell_type": "code",
   "execution_count": null,
   "metadata": {},
   "outputs": [],
   "source": []
  },
  {
   "cell_type": "code",
   "execution_count": null,
   "metadata": {},
   "outputs": [],
   "source": [
    "best_loss"
   ]
  },
  {
   "cell_type": "code",
   "execution_count": null,
   "metadata": {},
   "outputs": [],
   "source": []
  },
  {
   "cell_type": "code",
   "execution_count": null,
   "metadata": {},
   "outputs": [],
   "source": []
  }
 ],
 "metadata": {
  "kernelspec": {
   "display_name": "main2",
   "language": "python",
   "name": "main2"
  },
  "language_info": {
   "codemirror_mode": {
    "name": "ipython",
    "version": 3
   },
   "file_extension": ".py",
   "mimetype": "text/x-python",
   "name": "python",
   "nbconvert_exporter": "python",
   "pygments_lexer": "ipython3",
   "version": "3.7.6"
  }
 },
 "nbformat": 4,
 "nbformat_minor": 4
}
