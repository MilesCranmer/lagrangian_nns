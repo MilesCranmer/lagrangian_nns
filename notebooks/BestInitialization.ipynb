{
 "cells": [
  {
   "cell_type": "code",
   "execution_count": 1,
   "metadata": {},
   "outputs": [],
   "source": [
    "import jax\n",
    "import jax.numpy as jnp\n",
    "import numpy as np # get rid of this eventually\n",
    "import argparse\n",
    "from jax import jit\n",
    "from jax.experimental.ode import odeint\n",
    "from functools import partial # reduces arguments to function by making some subset implicit\n",
    "\n",
    "from jax.example_libraries import stax\n",
    "from jax.experimental import optimizers\n",
    "\n",
    "import os, sys, time\n",
    "sys.path.append('..')"
   ]
  },
  {
   "cell_type": "markdown",
   "metadata": {},
   "source": [
    "## Set up LNN:"
   ]
  },
  {
   "cell_type": "code",
   "execution_count": 2,
   "metadata": {},
   "outputs": [],
   "source": [
    "sys.path.append('../experiment_dblpend/')\n",
    "\n",
    "from lnn import raw_lagrangian_eom\n",
    "from data import get_dataset\n",
    "from models import mlp as make_mlp\n",
    "from utils import wrap_coords"
   ]
  },
  {
   "cell_type": "code",
   "execution_count": 3,
   "metadata": {},
   "outputs": [],
   "source": [
    "sys.path.append('../hyperopt')"
   ]
  },
  {
   "cell_type": "code",
   "execution_count": 4,
   "metadata": {},
   "outputs": [],
   "source": [
    "from HyperparameterSearch import learned_dynamics"
   ]
  },
  {
   "cell_type": "code",
   "execution_count": 5,
   "metadata": {},
   "outputs": [],
   "source": [
    "from HyperparameterSearch import extended_mlp"
   ]
  },
  {
   "cell_type": "code",
   "execution_count": 6,
   "metadata": {},
   "outputs": [],
   "source": [
    "class ObjectView(object):\n",
    "    def __init__(self, d): self.__dict__ = d"
   ]
  },
  {
   "cell_type": "code",
   "execution_count": 7,
   "metadata": {},
   "outputs": [],
   "source": [
    "from data import get_trajectory"
   ]
  },
  {
   "cell_type": "code",
   "execution_count": 8,
   "metadata": {},
   "outputs": [],
   "source": [
    "from data import get_trajectory_analytic"
   ]
  },
  {
   "cell_type": "code",
   "execution_count": 9,
   "metadata": {},
   "outputs": [],
   "source": [
    "from physics import analytical_fn\n",
    "\n",
    "vfnc = jax.jit(jax.vmap(analytical_fn))\n",
    "vget = partial(jax.jit, backend='cpu')(jax.vmap(partial(get_trajectory_analytic, mxsteps=100), (0, None), 0))"
   ]
  },
  {
   "cell_type": "code",
   "execution_count": 10,
   "metadata": {},
   "outputs": [],
   "source": [
    "import pickle as pkl"
   ]
  },
  {
   "cell_type": "markdown",
   "metadata": {},
   "source": [
    "## Here are our model parameters"
   ]
  },
  {
   "cell_type": "code",
   "execution_count": 11,
   "metadata": {},
   "outputs": [],
   "source": [
    "args = ObjectView({'dataset_size': 200,\n",
    " 'fps': 10,\n",
    " 'samples': 100,\n",
    " 'num_epochs': 80000,\n",
    " 'seed': 0,\n",
    " 'loss': 'l1',\n",
    " 'act': 'softplus',\n",
    " 'hidden_dim': 30,\n",
    " 'output_dim': 1,\n",
    " 'layers': 3,\n",
    " 'n_updates': 1,\n",
    " 'lr': 0.001,\n",
    " 'lr2': 2e-05,\n",
    " 'dt': 0.1,\n",
    " 'model': 'gln',\n",
    " 'batch_size': 68,\n",
    " 'l2reg': 5.7e-07,\n",
    "})\n",
    "# args = loaded['args']\n",
    "rng = jax.random.PRNGKey(args.seed)"
   ]
  },
  {
   "cell_type": "code",
   "execution_count": 12,
   "metadata": {},
   "outputs": [],
   "source": [
    "from jax.experimental.ode import odeint"
   ]
  },
  {
   "cell_type": "code",
   "execution_count": 13,
   "metadata": {},
   "outputs": [],
   "source": [
    "from HyperparameterSearch import new_get_dataset"
   ]
  },
  {
   "cell_type": "code",
   "execution_count": 14,
   "metadata": {},
   "outputs": [],
   "source": [
    "from matplotlib import pyplot as plt"
   ]
  },
  {
   "cell_type": "code",
   "execution_count": 15,
   "metadata": {},
   "outputs": [],
   "source": [
    "vfnc = jax.jit(jax.vmap(analytical_fn, 0, 0))\n",
    "vget = partial(jax.jit, backend='cpu')(jax.vmap(partial(get_trajectory_analytic, mxsteps=100), (0, None), 0))\n",
    "\n",
    "batch = 60\n",
    "\n",
    "@jax.jit\n",
    "def get_derivative_dataset(rng):\n",
    "    # randomly sample inputs\n",
    "\n",
    "    y0 = jnp.concatenate([\n",
    "        jax.random.uniform(rng, (batch, 2))*2.0*np.pi,\n",
    "        (jax.random.uniform(rng+1, (batch, 2))-0.5)*10*2\n",
    "    ], axis=1)\n",
    "    \n",
    "    return y0, vfnc(y0)"
   ]
  },
  {
   "cell_type": "code",
   "execution_count": 16,
   "metadata": {},
   "outputs": [],
   "source": [
    "best_params = None\n",
    "best_loss = np.inf"
   ]
  },
  {
   "cell_type": "code",
   "execution_count": 17,
   "metadata": {},
   "outputs": [],
   "source": [
    "init_random_params, nn_forward_fn = extended_mlp(args)\n",
    "import HyperparameterSearch\n",
    "HyperparameterSearch.nn_forward_fn = nn_forward_fn\n",
    "_, init_params = init_random_params(rng+1, (-1, 4))\n",
    "rng += 1\n",
    "model = (nn_forward_fn, init_params)\n",
    "opt_init, opt_update, get_params = optimizers.adam(args.lr)\n",
    "opt_state = opt_init(init_params)\n",
    "from jax.tree_util import tree_flatten\n",
    "from HyperparameterSearch import make_loss, train\n",
    "from copy import deepcopy as copy\n",
    "# train(args, model, data, rng);\n",
    "from jax.tree_util import tree_flatten\n"
   ]
  },
  {
   "cell_type": "markdown",
   "metadata": {},
   "source": [
    "Current std:"
   ]
  },
  {
   "cell_type": "code",
   "execution_count": 18,
   "metadata": {},
   "outputs": [],
   "source": [
    "from jax.ops import index_update"
   ]
  },
  {
   "cell_type": "code",
   "execution_count": 19,
   "metadata": {},
   "outputs": [],
   "source": [
    "\n",
    "HyperparameterSearch.nn_forward_fn = nn_forward_fn"
   ]
  },
  {
   "cell_type": "markdown",
   "metadata": {},
   "source": [
    "## Let's score the qdotdot output over normally distributed input for 256 batch size:"
   ]
  },
  {
   "cell_type": "code",
   "execution_count": 20,
   "metadata": {},
   "outputs": [],
   "source": [
    "from jax import grad, vmap"
   ]
  },
  {
   "cell_type": "code",
   "execution_count": 142,
   "metadata": {},
   "outputs": [],
   "source": [
    "normal = True\n",
    "n = 256\n",
    "\n",
    "@jax.jit\n",
    "def custom_init(stds, rng2):\n",
    "    new_params = []\n",
    "    i = 0\n",
    "    for l1 in init_params:\n",
    "        if (len(l1)) == 0: new_params.append(()); continue\n",
    "        new_l1 = []\n",
    "        for l2 in l1:\n",
    "            if len(l2.shape) == 1:\n",
    "                new_l1.append(jnp.zeros_like(l2))\n",
    "            else:\n",
    "                if normal:\n",
    "                    new_l1.append(jax.random.normal(rng2, l2.shape)*stds[i])\n",
    "#                     n1 = l2.shape[0]\n",
    "#                     n2 = l2.shape[1]\n",
    "#                     power = stds[0]\n",
    "#                     base_scale = stds[1]\n",
    "#                     s = base_scale/(n1+n2)**power\n",
    "#                     new_l1.append(jax.random.normal(rng2, l2.shape)*s)\n",
    "                else:\n",
    "                    new_l1.append(jax.random.uniform(rng2, l2.shape, minval=-0.5, maxval=0.5)*stds[i])\n",
    "                rng2+=1\n",
    "                i += 1\n",
    "\n",
    "        new_params.append(new_l1)\n",
    "        \n",
    "    return new_params\n",
    "\n",
    "@jax.jit\n",
    "def j_score_init(stds, rng2):\n",
    "    \n",
    "    new_params = custom_init(stds, rng2)\n",
    "    \n",
    "    rand_input = jax.random.normal(rng2, [n, 4])\n",
    "    rng2 += 1\n",
    "\n",
    "    outputs = jax.vmap(\n",
    "        partial(\n",
    "        raw_lagrangian_eom,\n",
    "        learned_dynamics(new_params)))(rand_input)[:, 2:]\n",
    "\n",
    "    #KL-divergence to mu=0, std=1:\n",
    "    mu = jnp.average(outputs, axis=0)\n",
    "    std = jnp.std(outputs, axis=0)\n",
    "    \n",
    "    KL = jnp.sum((mu**2 + std**2 - 1)/2.0  - jnp.log(std))\n",
    "    \n",
    "    \n",
    "    def total_output(p):\n",
    "        return vmap(partial(raw_lagrangian_eom, learned_dynamics(p)))(rand_input).sum()\n",
    "\n",
    "    d_params = grad(total_output)(new_params)\n",
    "    \n",
    "    for l1 in d_params:\n",
    "        if (len(l1)) == 0: continue\n",
    "        new_l1 = []\n",
    "        for l2 in l1:\n",
    "            if len(l2.shape) == 1: continue\n",
    "            \n",
    "            mu = jnp.average(l2)\n",
    "            std = jnp.std(l2)\n",
    "            KL += (mu**2 + std**2 - 1)/2.0 - jnp.log(std)\n",
    "            \n",
    "    #HACK\n",
    "#     KL += jnp.sum(stds**2)\n",
    "    return jnp.log10(KL)\n"
   ]
  },
  {
   "cell_type": "code",
   "execution_count": 143,
   "metadata": {},
   "outputs": [],
   "source": [
    "cur_std = jnp.array(\n",
    "[ 0.01]*(args.layers+1)\n",
    ")\n",
    "\n",
    "rng2 = jax.random.PRNGKey(0)"
   ]
  },
  {
   "cell_type": "code",
   "execution_count": 144,
   "metadata": {},
   "outputs": [
    {
     "data": {
      "text/plain": [
       "DeviceArray(12.223649, dtype=float32)"
      ]
     },
     "execution_count": 144,
     "metadata": {},
     "output_type": "execute_result"
    }
   ],
   "source": [
    "j_score_init(cur_std, rng2)"
   ]
  },
  {
   "cell_type": "code",
   "execution_count": 145,
   "metadata": {},
   "outputs": [],
   "source": [
    "# @jax.jit\n",
    "\n",
    "vv = jax.jit(vmap(j_score_init, (None, 0), 0))\n",
    "\n",
    "rng2 = jax.random.PRNGKey(0)\n",
    "def score_init(stds):\n",
    "    global rng2\n",
    "    stds = jnp.array(stds)\n",
    "    stds = jnp.exp(stds)\n",
    "    q75, q50, q25 = np.percentile(vv(stds, jax.random.split(rng2, num=10)), [75, 50, 25])\n",
    "    rng2 += 30\n",
    "    \n",
    "\n",
    "    return q50, q75-q25"
   ]
  },
  {
   "cell_type": "code",
   "execution_count": 146,
   "metadata": {},
   "outputs": [
    {
     "data": {
      "text/plain": [
       "(10.72271728515625, 3.0607597827911377)"
      ]
     },
     "execution_count": 146,
     "metadata": {},
     "output_type": "execute_result"
    }
   ],
   "source": [
    "score_init(cur_std)"
   ]
  },
  {
   "cell_type": "code",
   "execution_count": 147,
   "metadata": {},
   "outputs": [],
   "source": [
    "# from bayes_opt import BayesianOptimization\n",
    "\n",
    "# # Bounded region of parameter space\n",
    "pbounds = {'s%d'%(i,): (-15, 15) for i in range(len(cur_std))}\n"
   ]
  },
  {
   "cell_type": "code",
   "execution_count": 148,
   "metadata": {},
   "outputs": [],
   "source": [
    "def bb(**kwargs):\n",
    "    out, std = score_init([kwargs[q] for q in ['s%d'%(i,) for i in range(len(cur_std))]])\n",
    "#     if out is None or not out > -30:\n",
    "#         return -30.0\n",
    "    return -out, std"
   ]
  },
  {
   "cell_type": "markdown",
   "metadata": {},
   "source": [
    "Let's fit the best distribution:"
   ]
  },
  {
   "cell_type": "markdown",
   "metadata": {},
   "source": [
    "# Let's redo that with Bayes:"
   ]
  },
  {
   "cell_type": "markdown",
   "metadata": {},
   "source": [
    "# Bayesian:"
   ]
  },
  {
   "cell_type": "markdown",
   "metadata": {},
   "source": [
    "# Old stuff:"
   ]
  },
  {
   "cell_type": "code",
   "execution_count": 149,
   "metadata": {},
   "outputs": [],
   "source": [
    "import hyperopt\n",
    "from hyperopt import hp, fmin, tpe, Trials\n",
    "\n",
    "\n",
    "def run_trial(args):\n",
    "    loss, std = bb(**args)\n",
    "    if loss == np.nan:\n",
    "        return {\n",
    "        'status': 'fail', # or 'fail' if nan loss\n",
    "        'loss': np.inf\n",
    "    }\n",
    "\n",
    "    return {\n",
    "        'status': 'ok', # or 'fail' if nan loss\n",
    "        'loss': -loss,\n",
    "        'loss_variance': std,\n",
    "    }\n",
    "\n",
    "\n",
    "#TODO: Declare your hyperparameter priors here:\n",
    "space = {\n",
    "    **{'s%d'%(i,): hp.normal('s%d'%(i,), -2, 5) for i in range(len(cur_std)-1)\n",
    "    },\n",
    "    **{'s%d'%(len(cur_std)-1,): hp.normal('s%d'%(len(cur_std)-1,), 3, 8)}\n",
    "}"
   ]
  },
  {
   "cell_type": "code",
   "execution_count": 150,
   "metadata": {},
   "outputs": [],
   "source": [
    "trials = Trials()"
   ]
  },
  {
   "cell_type": "code",
   "execution_count": 154,
   "metadata": {},
   "outputs": [
    {
     "name": "stdout",
     "output_type": "stream",
     "text": [
      "100%|██████████| 5000/5000 [02:31<00:00, 33.10trial/s, best loss: 5.579362630844116]\n"
     ]
    }
   ],
   "source": [
    "best = fmin(run_trial,\n",
    "    space=space,\n",
    "    algo=tpe.suggest,\n",
    "    max_evals=5000,\n",
    "    trials=trials,\n",
    "    verbose=1\n",
    "    )"
   ]
  },
  {
   "cell_type": "code",
   "execution_count": 155,
   "metadata": {},
   "outputs": [
    {
     "data": {
      "text/plain": [
       "5000"
      ]
     },
     "execution_count": 155,
     "metadata": {},
     "output_type": "execute_result"
    }
   ],
   "source": [
    "def k(t):\n",
    "    if 'loss' not in t['result']:\n",
    "        return np.inf\n",
    "    return t['result']['loss']\n",
    "\n",
    "sorted_trials = sorted(trials.trials, key=k)\n",
    "len(trials.trials)"
   ]
  },
  {
   "cell_type": "code",
   "execution_count": 156,
   "metadata": {},
   "outputs": [
    {
     "data": {
      "text/plain": [
       "array([ 0.83585603, -1.01970397, -1.08897794, 16.29924023])"
      ]
     },
     "execution_count": 156,
     "metadata": {},
     "output_type": "execute_result"
    }
   ],
   "source": [
    "q = np.array(\n",
    "    [[s['misc']['vals']['s%d'%(i,)][0] for i in range(len(cur_std))] for s in sorted_trials[:100]]\n",
    ")\n",
    "q[0]"
   ]
  },
  {
   "cell_type": "markdown",
   "metadata": {},
   "source": [
    "## 4 layers, 1000 hidden: {(4, 1000), (1000, 1000), (1000, 1000), (1000, 1)}\n",
    "\n",
    "## median top 10/2000: array([-1.47842217, -4.37217279, -3.37083752, 11.13480387])\n",
    "\n",
    "(unconverged)\n",
    "\n",
    "## 4 layers, 100 hidden:  {(4, 100), (100, 100), (100, 100), (100, 1)}\n",
    "\n",
    "## median top 30/5000: array([-1.70680816, -2.40340615, -2.17201716, 10.55268474])\n",
    "\n",
    "(unconverged)\n",
    "\n",
    "## 3 layers, 100 hidden:\n",
    "\n",
    "## median top 100/7000: array([-1.69875614, -2.74589338,  3.75818009])\n",
    "\n",
    "(unverged converged)\n",
    "\n",
    "## 3 layers, 30 hidden:"
   ]
  },
  {
   "cell_type": "markdown",
   "metadata": {},
   "source": [
    "# Use Eureqa to get the scalings!"
   ]
  },
  {
   "cell_type": "code",
   "execution_count": 157,
   "metadata": {},
   "outputs": [],
   "source": [
    "simple_data = np.array(\n",
    "[\n",
    "    [t['misc']['vals']['s%d'%(i,)][0] for i in range(len(cur_std))] + [t['result']['loss']]\n",
    "for t in trials.trials if 'loss' in t['result'] and np.isfinite(t['result']['loss'])])"
   ]
  },
  {
   "cell_type": "code",
   "execution_count": 158,
   "metadata": {},
   "outputs": [],
   "source": [
    "# np.save('sdata.npy', simple_data)"
   ]
  },
  {
   "cell_type": "code",
   "execution_count": 159,
   "metadata": {},
   "outputs": [],
   "source": [
    "from sklearn.gaussian_process import GaussianProcessRegressor, kernels"
   ]
  },
  {
   "cell_type": "code",
   "execution_count": 178,
   "metadata": {},
   "outputs": [],
   "source": [
    "gp = GaussianProcessRegressor(alpha=3, n_restarts_optimizer=20, normalize_y=True)"
   ]
  },
  {
   "cell_type": "code",
   "execution_count": 179,
   "metadata": {},
   "outputs": [
    {
     "data": {
      "text/plain": [
       "5.579362630844116"
      ]
     },
     "execution_count": 179,
     "metadata": {},
     "output_type": "execute_result"
    }
   ],
   "source": [
    "simple_data[:, -1].min()"
   ]
  },
  {
   "cell_type": "code",
   "execution_count": 180,
   "metadata": {},
   "outputs": [
    {
     "data": {
      "text/plain": [
       "GaussianProcessRegressor(alpha=3, copy_X_train=True, kernel=None,\n",
       "                         n_restarts_optimizer=20, normalize_y=True,\n",
       "                         optimizer='fmin_l_bfgs_b', random_state=None)"
      ]
     },
     "execution_count": 180,
     "metadata": {},
     "output_type": "execute_result"
    }
   ],
   "source": [
    "gp.fit(simple_data[:, :-1], simple_data[:, -1])"
   ]
  },
  {
   "cell_type": "code",
   "execution_count": 181,
   "metadata": {},
   "outputs": [
    {
     "data": {
      "text/plain": [
       "(4, 30, array([-2.12770715, -1.99764457, -1.29472256,  6.1514019 ]))"
      ]
     },
     "execution_count": 181,
     "metadata": {},
     "output_type": "execute_result"
    }
   ],
   "source": [
    "args.layers+1, args.hidden_dim, q[gp.predict(q).argmin()]"
   ]
  },
  {
   "cell_type": "markdown",
   "metadata": {},
   "source": [
    "# New runs with noise added:\n",
    "\n",
    "## layers, hidden, log(std): (4, 30, array([-2.12770715, -1.99764457, -1.29472256,  6.1514019 ]))"
   ]
  },
  {
   "cell_type": "code",
   "execution_count": null,
   "metadata": {},
   "outputs": [],
   "source": []
  },
  {
   "cell_type": "code",
   "execution_count": null,
   "metadata": {},
   "outputs": [],
   "source": []
  },
  {
   "cell_type": "code",
   "execution_count": null,
   "metadata": {},
   "outputs": [],
   "source": []
  },
  {
   "cell_type": "markdown",
   "metadata": {},
   "source": [
    "## predicted with GP for 3 layers, 100 hidden, {(4, 100), (100, 100), (100, 1)}\n",
    "\n",
    "array([-1.95669793, -2.39555616,  1.92755129])\n",
    "\n",
    "## predicted with GP for 3 layers, 50 hidden, {(4, 50), (50, 50), (50, 1)}\n",
    "\n",
    "array([-1.77223004, -3.2154843 , 10.38542243])\n",
    "\n",
    "\n",
    "## predicted with GP for 3 layers, 30 hidden:\n",
    "\n",
    "array([-1.47298021, -4.10931435,  2.60899782])\n",
    "\n",
    "\n",
    "\n",
    "\n"
   ]
  },
  {
   "cell_type": "code",
   "execution_count": 406,
   "metadata": {},
   "outputs": [
    {
     "data": {
      "text/plain": [
       "<matplotlib.collections.PathCollection at 0x2aaba88f3e10>"
      ]
     },
     "execution_count": 406,
     "metadata": {},
     "output_type": "execute_result"
    },
    {
     "data": {
      "image/png": "[encoded data removed]",
      "text/plain": [
       "<Figure size 432x288 with 1 Axes>"
      ]
     },
     "metadata": {
      "needs_background": "light"
     },
     "output_type": "display_data"
    }
   ],
   "source": [
    "plt.scatter(simple_data[:, 0], simple_data[:, 1], c=simple_data[:, -1])\n",
    "# plt.ylim(-5, 2)\n",
    "# plt.xlim(-5, 2)"
   ]
  },
  {
   "cell_type": "code",
   "execution_count": 408,
   "metadata": {},
   "outputs": [],
   "source": [
    "# num= 50\n",
    "# x = np.linspace(-12, 2, num=num)\n",
    "# y = np.linspace(-12, 2, num=num)\n",
    "# X,Y = np.meshgrid(x, y) # grid of point\n",
    "# Z = gp.predict(np.stack((X.ravel(), Y.ravel()), axis=1)).reshape(*[num]*2) # evaluation of the function on the grid\n",
    "\n",
    "# im = plt.imshow(np.log10(Z), cmap='viridis', extent=[-12, 2, -12, 2], origin='lower')\n",
    "# plt.colorbar()"
   ]
  },
  {
   "cell_type": "code",
   "execution_count": null,
   "metadata": {},
   "outputs": [],
   "source": []
  },
  {
   "cell_type": "code",
   "execution_count": null,
   "metadata": {},
   "outputs": [],
   "source": []
  },
  {
   "cell_type": "code",
   "execution_count": null,
   "metadata": {},
   "outputs": [],
   "source": []
  },
  {
   "cell_type": "code",
   "execution_count": 29,
   "metadata": {},
   "outputs": [],
   "source": [
    "from bayes_opt import BayesianOptimization"
   ]
  },
  {
   "cell_type": "code",
   "execution_count": 30,
   "metadata": {},
   "outputs": [],
   "source": [
    "optimizer = BayesianOptimization(\n",
    "    f=bb,\n",
    "    pbounds=pbounds,\n",
    "    random_state=1,\n",
    ")"
   ]
  },
  {
   "cell_type": "code",
   "execution_count": 31,
   "metadata": {},
   "outputs": [
    {
     "name": "stdout",
     "output_type": "stream",
     "text": [
      "|   iter    |  target   |    s0     |    s1     |    s2     |    s3     |\n",
      "-------------------------------------------------------------------------\n",
      "| \u001b[0m 1       \u001b[0m | \u001b[0m-19.02   \u001b[0m | \u001b[0m-2.489   \u001b[0m | \u001b[0m 6.61    \u001b[0m | \u001b[0m-15.0    \u001b[0m | \u001b[0m-5.93    \u001b[0m |\n",
      "| \u001b[0m 2       \u001b[0m | \u001b[0m-30.0    \u001b[0m | \u001b[0m-10.6    \u001b[0m | \u001b[0m-12.23   \u001b[0m | \u001b[0m-9.412   \u001b[0m | \u001b[0m-4.633   \u001b[0m |\n",
      "| \u001b[95m 3       \u001b[0m | \u001b[95m-12.14   \u001b[0m | \u001b[95m-3.097   \u001b[0m | \u001b[95m 1.165   \u001b[0m | \u001b[95m-2.424   \u001b[0m | \u001b[95m 5.557   \u001b[0m |\n",
      "| \u001b[0m 4       \u001b[0m | \u001b[0m-22.75   \u001b[0m | \u001b[0m-8.866   \u001b[0m | \u001b[0m 11.34   \u001b[0m | \u001b[0m-14.18   \u001b[0m | \u001b[0m 5.114   \u001b[0m |\n",
      "| \u001b[0m 5       \u001b[0m | \u001b[0m-18.32   \u001b[0m | \u001b[0m-2.481   \u001b[0m | \u001b[0m 1.761   \u001b[0m | \u001b[0m-10.79   \u001b[0m | \u001b[0m-9.057   \u001b[0m |\n",
      "| \u001b[0m 6       \u001b[0m | \u001b[0m-30.0    \u001b[0m | \u001b[0m 9.022   \u001b[0m | \u001b[0m 14.05   \u001b[0m | \u001b[0m-5.597   \u001b[0m | \u001b[0m 5.77    \u001b[0m |\n",
      "| \u001b[0m 7       \u001b[0m | \u001b[0m-30.0    \u001b[0m | \u001b[0m 11.29   \u001b[0m | \u001b[0m 11.84   \u001b[0m | \u001b[0m-12.45   \u001b[0m | \u001b[0m-13.83   \u001b[0m |\n",
      "| \u001b[0m 8       \u001b[0m | \u001b[0m-23.0    \u001b[0m | \u001b[0m-9.905   \u001b[0m | \u001b[0m 11.34   \u001b[0m | \u001b[0m-12.05   \u001b[0m | \u001b[0m-2.367   \u001b[0m |\n",
      "| \u001b[0m 9       \u001b[0m | \u001b[0m-30.0    \u001b[0m | \u001b[0m 13.74   \u001b[0m | \u001b[0m 0.995   \u001b[0m | \u001b[0m 5.756   \u001b[0m | \u001b[0m-5.535   \u001b[0m |\n",
      "| \u001b[0m 10      \u001b[0m | \u001b[0m-30.0    \u001b[0m | \u001b[0m 5.595   \u001b[0m | \u001b[0m 10.04   \u001b[0m | \u001b[0m-14.45   \u001b[0m | \u001b[0m 7.504   \u001b[0m |\n",
      "| \u001b[0m 11      \u001b[0m | \u001b[0m-30.0    \u001b[0m | \u001b[0m 14.67   \u001b[0m | \u001b[0m 7.445   \u001b[0m | \u001b[0m-6.587   \u001b[0m | \u001b[0m 8.678   \u001b[0m |\n",
      "| \u001b[0m 12      \u001b[0m | \u001b[0m-25.32   \u001b[0m | \u001b[0m-11.9    \u001b[0m | \u001b[0m-1.563   \u001b[0m | \u001b[0m 12.26   \u001b[0m | \u001b[0m-6.192   \u001b[0m |\n",
      "| \u001b[0m 13      \u001b[0m | \u001b[0m-20.77   \u001b[0m | \u001b[0m-6.367   \u001b[0m | \u001b[0m-11.1    \u001b[0m | \u001b[0m-14.42   \u001b[0m | \u001b[0m 5.365   \u001b[0m |\n",
      "| \u001b[0m 14      \u001b[0m | \u001b[0m-23.7    \u001b[0m | \u001b[0m-8.651   \u001b[0m | \u001b[0m-7.034   \u001b[0m | \u001b[0m-0.2528  \u001b[0m | \u001b[0m-13.4    \u001b[0m |\n",
      "| \u001b[0m 15      \u001b[0m | \u001b[0m-18.32   \u001b[0m | \u001b[0m 2.224   \u001b[0m | \u001b[0m-10.6    \u001b[0m | \u001b[0m 2.679   \u001b[0m | \u001b[0m 5.993   \u001b[0m |\n",
      "| \u001b[0m 16      \u001b[0m | \u001b[0m-24.88   \u001b[0m | \u001b[0m-11.93   \u001b[0m | \u001b[0m-2.578   \u001b[0m | \u001b[0m 5.832   \u001b[0m | \u001b[0m-2.575   \u001b[0m |\n",
      "| \u001b[0m 17      \u001b[0m | \u001b[0m-27.36   \u001b[0m | \u001b[0m-13.5    \u001b[0m | \u001b[0m 1.077   \u001b[0m | \u001b[0m 4.914   \u001b[0m | \u001b[0m 0.4467  \u001b[0m |\n",
      "| \u001b[0m 18      \u001b[0m | \u001b[0m-30.0    \u001b[0m | \u001b[0m 13.34   \u001b[0m | \u001b[0m 2.597   \u001b[0m | \u001b[0m 12.1    \u001b[0m | \u001b[0m-10.88   \u001b[0m |\n",
      "| \u001b[0m 19      \u001b[0m | \u001b[0m-23.24   \u001b[0m | \u001b[0m-10.82   \u001b[0m | \u001b[0m 9.222   \u001b[0m | \u001b[0m-3.07    \u001b[0m | \u001b[0m-10.04   \u001b[0m |\n",
      "| \u001b[0m 20      \u001b[0m | \u001b[0m-30.0    \u001b[0m | \u001b[0m 12.83   \u001b[0m | \u001b[0m-4.567   \u001b[0m | \u001b[0m 7.524   \u001b[0m | \u001b[0m 6.78    \u001b[0m |\n",
      "| \u001b[0m 21      \u001b[0m | \u001b[0m-30.0    \u001b[0m | \u001b[0m 11.5    \u001b[0m | \u001b[0m 3.71    \u001b[0m | \u001b[0m 7.528   \u001b[0m | \u001b[0m-4.533   \u001b[0m |\n",
      "| \u001b[0m 22      \u001b[0m | \u001b[0m-15.84   \u001b[0m | \u001b[0m-6.902   \u001b[0m | \u001b[0m 11.88   \u001b[0m | \u001b[0m-2.157   \u001b[0m | \u001b[0m 13.95   \u001b[0m |\n",
      "| \u001b[0m 23      \u001b[0m | \u001b[0m-17.55   \u001b[0m | \u001b[0m 4.903   \u001b[0m | \u001b[0m 3.651   \u001b[0m | \u001b[0m-11.56   \u001b[0m | \u001b[0m 13.48   \u001b[0m |\n",
      "| \u001b[0m 24      \u001b[0m | \u001b[0m-16.76   \u001b[0m | \u001b[0m-1.503   \u001b[0m | \u001b[0m 2.352   \u001b[0m | \u001b[0m-2.756   \u001b[0m | \u001b[0m-7.889   \u001b[0m |\n",
      "| \u001b[0m 25      \u001b[0m | \u001b[0m-22.98   \u001b[0m | \u001b[0m 12.1    \u001b[0m | \u001b[0m 2.21    \u001b[0m | \u001b[0m-14.91   \u001b[0m | \u001b[0m 3.514   \u001b[0m |\n",
      "| \u001b[0m 26      \u001b[0m | \u001b[0m-13.04   \u001b[0m | \u001b[0m-5.201   \u001b[0m | \u001b[0m 0.8117  \u001b[0m | \u001b[0m 11.58   \u001b[0m | \u001b[0m-4.282   \u001b[0m |\n",
      "| \u001b[0m 27      \u001b[0m | \u001b[0m-30.0    \u001b[0m | \u001b[0m 12.26   \u001b[0m | \u001b[0m 3.701   \u001b[0m | \u001b[0m-14.53   \u001b[0m | \u001b[0m 12.88   \u001b[0m |\n",
      "| \u001b[0m 28      \u001b[0m | \u001b[0m-30.0    \u001b[0m | \u001b[0m 5.727   \u001b[0m | \u001b[0m 14.92   \u001b[0m | \u001b[0m-9.83    \u001b[0m | \u001b[0m-10.89   \u001b[0m |\n",
      "| \u001b[0m 29      \u001b[0m | \u001b[0m-30.0    \u001b[0m | \u001b[0m 12.98   \u001b[0m | \u001b[0m 5.905   \u001b[0m | \u001b[0m-13.02   \u001b[0m | \u001b[0m 7.664   \u001b[0m |\n",
      "| \u001b[0m 30      \u001b[0m | \u001b[0m-30.0    \u001b[0m | \u001b[0m 7.616   \u001b[0m | \u001b[0m 12.69   \u001b[0m | \u001b[0m 6.346   \u001b[0m | \u001b[0m-11.27   \u001b[0m |\n",
      "| \u001b[0m 31      \u001b[0m | \u001b[0m-30.0    \u001b[0m | \u001b[0m-14.4    \u001b[0m | \u001b[0m-14.21   \u001b[0m | \u001b[0m-14.15   \u001b[0m | \u001b[0m-7.614   \u001b[0m |\n",
      "| \u001b[0m 32      \u001b[0m | \u001b[0m-30.0    \u001b[0m | \u001b[0m 10.8    \u001b[0m | \u001b[0m 1.165   \u001b[0m | \u001b[0m 1.585   \u001b[0m | \u001b[0m 10.26   \u001b[0m |\n",
      "| \u001b[0m 33      \u001b[0m | \u001b[0m-23.87   \u001b[0m | \u001b[0m-11.27   \u001b[0m | \u001b[0m-6.624   \u001b[0m | \u001b[0m 2.573   \u001b[0m | \u001b[0m 14.09   \u001b[0m |\n",
      "| \u001b[0m 34      \u001b[0m | \u001b[0m-20.67   \u001b[0m | \u001b[0m 1.831   \u001b[0m | \u001b[0m-14.44   \u001b[0m | \u001b[0m 9.019   \u001b[0m | \u001b[0m-8.011   \u001b[0m |\n",
      "| \u001b[0m 35      \u001b[0m | \u001b[0m-30.0    \u001b[0m | \u001b[0m 9.213   \u001b[0m | \u001b[0m-3.364   \u001b[0m | \u001b[0m 10.91   \u001b[0m | \u001b[0m 7.414   \u001b[0m |\n",
      "| \u001b[0m 36      \u001b[0m | \u001b[0m-19.49   \u001b[0m | \u001b[0m 1.687   \u001b[0m | \u001b[0m-10.91   \u001b[0m | \u001b[0m-13.2    \u001b[0m | \u001b[0m-11.36   \u001b[0m |\n",
      "| \u001b[0m 37      \u001b[0m | \u001b[0m-30.0    \u001b[0m | \u001b[0m-13.66   \u001b[0m | \u001b[0m-11.78   \u001b[0m | \u001b[0m-8.229   \u001b[0m | \u001b[0m 6.39    \u001b[0m |\n",
      "| \u001b[0m 38      \u001b[0m | \u001b[0m-20.98   \u001b[0m | \u001b[0m 1.792   \u001b[0m | \u001b[0m-14.62   \u001b[0m | \u001b[0m-12.84   \u001b[0m | \u001b[0m 14.02   \u001b[0m |\n",
      "| \u001b[0m 39      \u001b[0m | \u001b[0m-16.78   \u001b[0m | \u001b[0m 2.043   \u001b[0m | \u001b[0m-8.901   \u001b[0m | \u001b[0m-7.43    \u001b[0m | \u001b[0m 7.315   \u001b[0m |\n",
      "| \u001b[0m 40      \u001b[0m | \u001b[0m-19.95   \u001b[0m | \u001b[0m-9.137   \u001b[0m | \u001b[0m 2.441   \u001b[0m | \u001b[0m 14.1    \u001b[0m | \u001b[0m 10.4    \u001b[0m |\n",
      "| \u001b[0m 41      \u001b[0m | \u001b[0m-17.6    \u001b[0m | \u001b[0m-7.805   \u001b[0m | \u001b[0m-0.1869  \u001b[0m | \u001b[0m 3.599   \u001b[0m | \u001b[0m 9.869   \u001b[0m |\n",
      "| \u001b[0m 42      \u001b[0m | \u001b[0m-30.0    \u001b[0m | \u001b[0m-10.3    \u001b[0m | \u001b[0m-14.44   \u001b[0m | \u001b[0m-12.9    \u001b[0m | \u001b[0m-0.4096  \u001b[0m |\n",
      "| \u001b[0m 43      \u001b[0m | \u001b[0m-15.0    \u001b[0m | \u001b[0m 3.19    \u001b[0m | \u001b[0m 2.066   \u001b[0m | \u001b[0m-5.479   \u001b[0m | \u001b[0m 14.66   \u001b[0m |\n",
      "| \u001b[95m 44      \u001b[0m | \u001b[95m-11.6    \u001b[0m | \u001b[95m 2.392   \u001b[0m | \u001b[95m-3.596   \u001b[0m | \u001b[95m 1.528   \u001b[0m | \u001b[95m 7.36    \u001b[0m |\n",
      "| \u001b[0m 45      \u001b[0m | \u001b[0m-19.99   \u001b[0m | \u001b[0m 5.077   \u001b[0m | \u001b[0m-7.052   \u001b[0m | \u001b[0m-13.01   \u001b[0m | \u001b[0m-3.897   \u001b[0m |\n",
      "| \u001b[0m 46      \u001b[0m | \u001b[0m-22.57   \u001b[0m | \u001b[0m 3.892   \u001b[0m | \u001b[0m-8.695   \u001b[0m | \u001b[0m 7.583   \u001b[0m | \u001b[0m-13.0    \u001b[0m |\n",
      "| \u001b[0m 47      \u001b[0m | \u001b[0m-17.34   \u001b[0m | \u001b[0m-7.191   \u001b[0m | \u001b[0m 9.143   \u001b[0m | \u001b[0m-9.197   \u001b[0m | \u001b[0m 4.184   \u001b[0m |\n",
      "| \u001b[0m 48      \u001b[0m | \u001b[0m-21.49   \u001b[0m | \u001b[0m 0.7401  \u001b[0m | \u001b[0m 12.74   \u001b[0m | \u001b[0m-7.101   \u001b[0m | \u001b[0m-13.02   \u001b[0m |\n",
      "| \u001b[0m 49      \u001b[0m | \u001b[0m-30.0    \u001b[0m | \u001b[0m 7.052   \u001b[0m | \u001b[0m 8.165   \u001b[0m | \u001b[0m 12.23   \u001b[0m | \u001b[0m 12.96   \u001b[0m |\n",
      "| \u001b[0m 50      \u001b[0m | \u001b[0m-30.0    \u001b[0m | \u001b[0m-14.58   \u001b[0m | \u001b[0m-7.969   \u001b[0m | \u001b[0m 3.503   \u001b[0m | \u001b[0m 13.47   \u001b[0m |\n",
      "| \u001b[0m 51      \u001b[0m | \u001b[0m-30.0    \u001b[0m | \u001b[0m 13.51   \u001b[0m | \u001b[0m 1.7     \u001b[0m | \u001b[0m 12.47   \u001b[0m | \u001b[0m 4.247   \u001b[0m |\n",
      "| \u001b[0m 52      \u001b[0m | \u001b[0m-11.69   \u001b[0m | \u001b[0m-3.3     \u001b[0m | \u001b[0m-0.4203  \u001b[0m | \u001b[0m 3.129   \u001b[0m | \u001b[0m 1.486   \u001b[0m |\n",
      "| \u001b[0m 53      \u001b[0m | \u001b[0m-30.0    \u001b[0m | \u001b[0m 12.79   \u001b[0m | \u001b[0m 12.56   \u001b[0m | \u001b[0m-3.154   \u001b[0m | \u001b[0m 13.9    \u001b[0m |\n",
      "| \u001b[0m 54      \u001b[0m | \u001b[0m-21.85   \u001b[0m | \u001b[0m-9.781   \u001b[0m | \u001b[0m-11.21   \u001b[0m | \u001b[0m-10.95   \u001b[0m | \u001b[0m 0.1699  \u001b[0m |\n",
      "| \u001b[0m 55      \u001b[0m | \u001b[0m-29.63   \u001b[0m | \u001b[0m-14.35   \u001b[0m | \u001b[0m 13.44   \u001b[0m | \u001b[0m 9.813   \u001b[0m | \u001b[0m-14.55   \u001b[0m |\n",
      "| \u001b[0m 56      \u001b[0m | \u001b[0m-21.06   \u001b[0m | \u001b[0m-9.714   \u001b[0m | \u001b[0m-5.038   \u001b[0m | \u001b[0m-11.07   \u001b[0m | \u001b[0m 9.285   \u001b[0m |\n",
      "| \u001b[0m 57      \u001b[0m | \u001b[0m-12.6    \u001b[0m | \u001b[0m-4.658   \u001b[0m | \u001b[0m 13.2    \u001b[0m | \u001b[0m 2.46    \u001b[0m | \u001b[0m 11.36   \u001b[0m |\n",
      "| \u001b[0m 58      \u001b[0m | \u001b[0m-30.0    \u001b[0m | \u001b[0m 10.34   \u001b[0m | \u001b[0m 12.16   \u001b[0m | \u001b[0m-1.204   \u001b[0m | \u001b[0m 1.39    \u001b[0m |\n",
      "| \u001b[0m 59      \u001b[0m | \u001b[0m-26.71   \u001b[0m | \u001b[0m 8.958   \u001b[0m | \u001b[0m-6.428   \u001b[0m | \u001b[0m-0.2924  \u001b[0m | \u001b[0m 2.973   \u001b[0m |\n",
      "| \u001b[0m 60      \u001b[0m | \u001b[0m-28.34   \u001b[0m | \u001b[0m-14.53   \u001b[0m | \u001b[0m 2.804   \u001b[0m | \u001b[0m-1.99    \u001b[0m | \u001b[0m 9.221   \u001b[0m |\n",
      "| \u001b[0m 61      \u001b[0m | \u001b[0m-17.61   \u001b[0m | \u001b[0m-5.543   \u001b[0m | \u001b[0m 11.79   \u001b[0m | \u001b[0m 2.336   \u001b[0m | \u001b[0m-9.48    \u001b[0m |\n",
      "| \u001b[0m 62      \u001b[0m | \u001b[0m-21.1    \u001b[0m | \u001b[0m 8.638   \u001b[0m | \u001b[0m 3.361   \u001b[0m | \u001b[0m-13.38   \u001b[0m | \u001b[0m-2.394   \u001b[0m |\n",
      "| \u001b[0m 63      \u001b[0m | \u001b[0m-30.0    \u001b[0m | \u001b[0m 5.372   \u001b[0m | \u001b[0m 12.56   \u001b[0m | \u001b[0m-14.99   \u001b[0m | \u001b[0m 14.3    \u001b[0m |\n",
      "| \u001b[95m 64      \u001b[0m | \u001b[95m-11.49   \u001b[0m | \u001b[95m-3.703   \u001b[0m | \u001b[95m 14.21   \u001b[0m | \u001b[95m 3.141   \u001b[0m | \u001b[95m 9.865   \u001b[0m |\n",
      "| \u001b[0m 65      \u001b[0m | \u001b[0m-14.13   \u001b[0m | \u001b[0m 2.241   \u001b[0m | \u001b[0m 3.842   \u001b[0m | \u001b[0m-6.433   \u001b[0m | \u001b[0m 2.605   \u001b[0m |\n",
      "| \u001b[0m 66      \u001b[0m | \u001b[0m-30.0    \u001b[0m | \u001b[0m 7.501   \u001b[0m | \u001b[0m 10.75   \u001b[0m | \u001b[0m 7.652   \u001b[0m | \u001b[0m 5.942   \u001b[0m |\n",
      "| \u001b[0m 67      \u001b[0m | \u001b[0m-30.0    \u001b[0m | \u001b[0m 10.93   \u001b[0m | \u001b[0m-5.32    \u001b[0m | \u001b[0m 5.124   \u001b[0m | \u001b[0m-1.474   \u001b[0m |\n",
      "| \u001b[0m 68      \u001b[0m | \u001b[0m-12.63   \u001b[0m | \u001b[0m-3.537   \u001b[0m | \u001b[0m-2.676   \u001b[0m | \u001b[0m-2.956   \u001b[0m | \u001b[0m-5.478   \u001b[0m |\n",
      "| \u001b[0m 69      \u001b[0m | \u001b[0m-13.19   \u001b[0m | \u001b[0m 3.658   \u001b[0m | \u001b[0m-2.093   \u001b[0m | \u001b[0m 14.21   \u001b[0m | \u001b[0m 5.334   \u001b[0m |\n",
      "| \u001b[0m 70      \u001b[0m | \u001b[0m-20.07   \u001b[0m | \u001b[0m-9.043   \u001b[0m | \u001b[0m-2.199   \u001b[0m | \u001b[0m-4.7     \u001b[0m | \u001b[0m 8.929   \u001b[0m |\n",
      "| \u001b[0m 71      \u001b[0m | \u001b[0m-30.0    \u001b[0m | \u001b[0m 11.4    \u001b[0m | \u001b[0m 12.12   \u001b[0m | \u001b[0m 4.882   \u001b[0m | \u001b[0m-6.894   \u001b[0m |\n",
      "| \u001b[0m 72      \u001b[0m | \u001b[0m-16.88   \u001b[0m | \u001b[0m-7.429   \u001b[0m | \u001b[0m 10.65   \u001b[0m | \u001b[0m 0.8314  \u001b[0m | \u001b[0m 9.065   \u001b[0m |\n",
      "| \u001b[95m 73      \u001b[0m | \u001b[95m-9.559   \u001b[0m | \u001b[95m 2.175   \u001b[0m | \u001b[95m 6.994   \u001b[0m | \u001b[95m 0.5703  \u001b[0m | \u001b[95m 8.127   \u001b[0m |\n",
      "| \u001b[0m 74      \u001b[0m | \u001b[0m-20.15   \u001b[0m | \u001b[0m 2.066   \u001b[0m | \u001b[0m-1.029   \u001b[0m | \u001b[0m-4.719   \u001b[0m | \u001b[0m-12.95   \u001b[0m |\n",
      "| \u001b[0m 75      \u001b[0m | \u001b[0m-17.03   \u001b[0m | \u001b[0m-3.662   \u001b[0m | \u001b[0m-12.61   \u001b[0m | \u001b[0m 14.48   \u001b[0m | \u001b[0m-9.552   \u001b[0m |\n",
      "| \u001b[0m 76      \u001b[0m | \u001b[0m-30.0    \u001b[0m | \u001b[0m 9.356   \u001b[0m | \u001b[0m 11.25   \u001b[0m | \u001b[0m 5.652   \u001b[0m | \u001b[0m 2.085   \u001b[0m |\n",
      "| \u001b[0m 77      \u001b[0m | \u001b[0m-21.64   \u001b[0m | \u001b[0m-10.17   \u001b[0m | \u001b[0m-0.9936  \u001b[0m | \u001b[0m-4.645   \u001b[0m | \u001b[0m-8.249   \u001b[0m |\n",
      "| \u001b[0m 78      \u001b[0m | \u001b[0m-12.7    \u001b[0m | \u001b[0m 2.775   \u001b[0m | \u001b[0m-5.632   \u001b[0m | \u001b[0m 12.49   \u001b[0m | \u001b[0m 12.29   \u001b[0m |\n",
      "| \u001b[0m 79      \u001b[0m | \u001b[0m-19.55   \u001b[0m | \u001b[0m-7.286   \u001b[0m | \u001b[0m-11.67   \u001b[0m | \u001b[0m-9.211   \u001b[0m | \u001b[0m-0.01247 \u001b[0m |\n",
      "| \u001b[0m 80      \u001b[0m | \u001b[0m-15.86   \u001b[0m | \u001b[0m 6.858   \u001b[0m | \u001b[0m-8.754   \u001b[0m | \u001b[0m-7.559   \u001b[0m | \u001b[0m 10.55   \u001b[0m |\n",
      "| \u001b[0m 81      \u001b[0m | \u001b[0m-19.32   \u001b[0m | \u001b[0m-2.525   \u001b[0m | \u001b[0m 3.501   \u001b[0m | \u001b[0m-7.99    \u001b[0m | \u001b[0m-11.94   \u001b[0m |\n",
      "| \u001b[0m 82      \u001b[0m | \u001b[0m-17.1    \u001b[0m | \u001b[0m 0.4757  \u001b[0m | \u001b[0m-0.6858  \u001b[0m | \u001b[0m-10.42   \u001b[0m | \u001b[0m 3.654   \u001b[0m |\n",
      "| \u001b[0m 83      \u001b[0m | \u001b[0m-16.93   \u001b[0m | \u001b[0m 1.32    \u001b[0m | \u001b[0m 4.624   \u001b[0m | \u001b[0m-10.66   \u001b[0m | \u001b[0m 7.546   \u001b[0m |\n",
      "| \u001b[0m 84      \u001b[0m | \u001b[0m-23.66   \u001b[0m | \u001b[0m-8.339   \u001b[0m | \u001b[0m 0.5806  \u001b[0m | \u001b[0m 8.559   \u001b[0m | \u001b[0m-14.33   \u001b[0m |\n",
      "| \u001b[0m 85      \u001b[0m | \u001b[0m-13.61   \u001b[0m | \u001b[0m-5.269   \u001b[0m | \u001b[0m 11.19   \u001b[0m | \u001b[0m 10.34   \u001b[0m | \u001b[0m 1.153   \u001b[0m |\n",
      "| \u001b[0m 86      \u001b[0m | \u001b[0m-30.0    \u001b[0m | \u001b[0m 11.0    \u001b[0m | \u001b[0m 13.49   \u001b[0m | \u001b[0m 9.792   \u001b[0m | \u001b[0m 10.62   \u001b[0m |\n",
      "| \u001b[0m 87      \u001b[0m | \u001b[0m-24.91   \u001b[0m | \u001b[0m-12.04   \u001b[0m | \u001b[0m 4.539   \u001b[0m | \u001b[0m 6.106   \u001b[0m | \u001b[0m 3.307   \u001b[0m |\n",
      "| \u001b[0m 88      \u001b[0m | \u001b[0m-22.61   \u001b[0m | \u001b[0m 8.988   \u001b[0m | \u001b[0m-13.96   \u001b[0m | \u001b[0m 8.107   \u001b[0m | \u001b[0m 6.952   \u001b[0m |\n",
      "| \u001b[0m 89      \u001b[0m | \u001b[0m-16.9    \u001b[0m | \u001b[0m-7.209   \u001b[0m | \u001b[0m-7.288   \u001b[0m | \u001b[0m 3.969   \u001b[0m | \u001b[0m-4.641   \u001b[0m |\n",
      "| \u001b[0m 90      \u001b[0m | \u001b[0m-30.0    \u001b[0m | \u001b[0m 8.898   \u001b[0m | \u001b[0m-1.616   \u001b[0m | \u001b[0m 8.482   \u001b[0m | \u001b[0m 14.71   \u001b[0m |\n",
      "| \u001b[0m 91      \u001b[0m | \u001b[0m-17.63   \u001b[0m | \u001b[0m-5.993   \u001b[0m | \u001b[0m-10.71   \u001b[0m | \u001b[0m 12.04   \u001b[0m | \u001b[0m 1.247   \u001b[0m |\n",
      "| \u001b[0m 92      \u001b[0m | \u001b[0m-30.0    \u001b[0m | \u001b[0m 14.24   \u001b[0m | \u001b[0m 4.098   \u001b[0m | \u001b[0m 14.82   \u001b[0m | \u001b[0m 1.382   \u001b[0m |\n",
      "| \u001b[0m 93      \u001b[0m | \u001b[0m-22.17   \u001b[0m | \u001b[0m 0.7928  \u001b[0m | \u001b[0m-10.94   \u001b[0m | \u001b[0m-4.329   \u001b[0m | \u001b[0m-14.21   \u001b[0m |\n",
      "| \u001b[0m 94      \u001b[0m | \u001b[0m-24.24   \u001b[0m | \u001b[0m-10.19   \u001b[0m | \u001b[0m 7.369   \u001b[0m | \u001b[0m-14.09   \u001b[0m | \u001b[0m-4.004   \u001b[0m |\n",
      "| \u001b[0m 95      \u001b[0m | \u001b[0m-30.0    \u001b[0m | \u001b[0m 10.87   \u001b[0m | \u001b[0m 5.78    \u001b[0m | \u001b[0m 5.728   \u001b[0m | \u001b[0m-9.341   \u001b[0m |\n",
      "| \u001b[0m 96      \u001b[0m | \u001b[0m-16.75   \u001b[0m | \u001b[0m-1.743   \u001b[0m | \u001b[0m 2.447   \u001b[0m | \u001b[0m 14.69   \u001b[0m | \u001b[0m-8.883   \u001b[0m |\n",
      "| \u001b[0m 97      \u001b[0m | \u001b[0m-17.57   \u001b[0m | \u001b[0m-7.568   \u001b[0m | \u001b[0m-7.135   \u001b[0m | \u001b[0m 7.505   \u001b[0m | \u001b[0m-1.291   \u001b[0m |\n",
      "| \u001b[0m 98      \u001b[0m | \u001b[0m-27.31   \u001b[0m | \u001b[0m-13.29   \u001b[0m | \u001b[0m 0.2555  \u001b[0m | \u001b[0m-8.641   \u001b[0m | \u001b[0m 8.958   \u001b[0m |\n",
      "| \u001b[0m 99      \u001b[0m | \u001b[0m-21.05   \u001b[0m | \u001b[0m-6.08    \u001b[0m | \u001b[0m-14.17   \u001b[0m | \u001b[0m 2.803   \u001b[0m | \u001b[0m 10.32   \u001b[0m |\n",
      "| \u001b[0m 100     \u001b[0m | \u001b[0m-11.36   \u001b[0m | \u001b[0m-3.57    \u001b[0m | \u001b[0m 7.496   \u001b[0m | \u001b[0m 0.3342  \u001b[0m | \u001b[0m 1.229   \u001b[0m |\n",
      "| \u001b[0m 101     \u001b[0m | \u001b[0m-30.0    \u001b[0m | \u001b[0m 13.78   \u001b[0m | \u001b[0m 9.119   \u001b[0m | \u001b[0m-14.03   \u001b[0m | \u001b[0m 6.282   \u001b[0m |\n",
      "| \u001b[0m 102     \u001b[0m | \u001b[0m-16.75   \u001b[0m | \u001b[0m-1.05    \u001b[0m | \u001b[0m 13.43   \u001b[0m | \u001b[0m-8.357   \u001b[0m | \u001b[0m-6.988   \u001b[0m |\n",
      "| \u001b[0m 103     \u001b[0m | \u001b[0m-25.76   \u001b[0m | \u001b[0m-12.56   \u001b[0m | \u001b[0m-2.141   \u001b[0m | \u001b[0m-11.73   \u001b[0m | \u001b[0m 4.014   \u001b[0m |\n",
      "| \u001b[0m 104     \u001b[0m | \u001b[0m-30.0    \u001b[0m | \u001b[0m 9.089   \u001b[0m | \u001b[0m 5.904   \u001b[0m | \u001b[0m 7.986   \u001b[0m | \u001b[0m-4.726   \u001b[0m |\n",
      "| \u001b[0m 105     \u001b[0m | \u001b[0m-30.0    \u001b[0m | \u001b[0m 10.38   \u001b[0m | \u001b[0m-2.137   \u001b[0m | \u001b[0m 9.72    \u001b[0m | \u001b[0m 3.795   \u001b[0m |\n",
      "| \u001b[0m 106     \u001b[0m | \u001b[0m-30.0    \u001b[0m | \u001b[0m-10.7    \u001b[0m | \u001b[0m-12.65   \u001b[0m | \u001b[0m-14.45   \u001b[0m | \u001b[0m-13.0    \u001b[0m |\n",
      "| \u001b[0m 107     \u001b[0m | \u001b[0m-17.86   \u001b[0m | \u001b[0m-1.242   \u001b[0m | \u001b[0m-11.6    \u001b[0m | \u001b[0m-14.17   \u001b[0m | \u001b[0m 7.646   \u001b[0m |\n",
      "| \u001b[0m 108     \u001b[0m | \u001b[0m-11.85   \u001b[0m | \u001b[0m-3.154   \u001b[0m | \u001b[0m 7.408   \u001b[0m | \u001b[0m-1.428   \u001b[0m | \u001b[0m-1.497   \u001b[0m |\n",
      "| \u001b[0m 109     \u001b[0m | \u001b[0m-11.69   \u001b[0m | \u001b[0m-0.6578  \u001b[0m | \u001b[0m-0.7799  \u001b[0m | \u001b[0m 9.095   \u001b[0m | \u001b[0m-2.928   \u001b[0m |\n",
      "| \u001b[0m 110     \u001b[0m | \u001b[0m-21.02   \u001b[0m | \u001b[0m 12.14   \u001b[0m | \u001b[0m-13.89   \u001b[0m | \u001b[0m 8.216   \u001b[0m | \u001b[0m-11.23   \u001b[0m |\n",
      "| \u001b[0m 111     \u001b[0m | \u001b[0m-26.34   \u001b[0m | \u001b[0m 3.555   \u001b[0m | \u001b[0m-14.69   \u001b[0m | \u001b[0m 1.159   \u001b[0m | \u001b[0m-14.91   \u001b[0m |\n",
      "| \u001b[0m 112     \u001b[0m | \u001b[0m-30.0    \u001b[0m | \u001b[0m 13.54   \u001b[0m | \u001b[0m 12.16   \u001b[0m | \u001b[0m 8.879   \u001b[0m | \u001b[0m 12.46   \u001b[0m |\n",
      "| \u001b[0m 113     \u001b[0m | \u001b[0m-22.65   \u001b[0m | \u001b[0m-10.63   \u001b[0m | \u001b[0m-10.27   \u001b[0m | \u001b[0m-9.371   \u001b[0m | \u001b[0m 3.675   \u001b[0m |\n",
      "| \u001b[0m 114     \u001b[0m | \u001b[0m-30.0    \u001b[0m | \u001b[0m 12.17   \u001b[0m | \u001b[0m 14.7    \u001b[0m | \u001b[0m 6.334   \u001b[0m | \u001b[0m 6.954   \u001b[0m |\n",
      "| \u001b[0m 115     \u001b[0m | \u001b[0m-30.0    \u001b[0m | \u001b[0m 12.28   \u001b[0m | \u001b[0m-2.974   \u001b[0m | \u001b[0m-7.504   \u001b[0m | \u001b[0m-9.797   \u001b[0m |\n",
      "| \u001b[0m 116     \u001b[0m | \u001b[0m-23.19   \u001b[0m | \u001b[0m-11.42   \u001b[0m | \u001b[0m 9.378   \u001b[0m | \u001b[0m-10.6    \u001b[0m | \u001b[0m-7.071   \u001b[0m |\n",
      "| \u001b[0m 117     \u001b[0m | \u001b[0m-30.0    \u001b[0m | \u001b[0m 9.573   \u001b[0m | \u001b[0m-5.682   \u001b[0m | \u001b[0m 14.47   \u001b[0m | \u001b[0m-7.001   \u001b[0m |\n",
      "| \u001b[0m 118     \u001b[0m | \u001b[0m-12.86   \u001b[0m | \u001b[0m 1.01    \u001b[0m | \u001b[0m-5.566   \u001b[0m | \u001b[0m 12.32   \u001b[0m | \u001b[0m-4.003   \u001b[0m |\n",
      "| \u001b[0m 119     \u001b[0m | \u001b[0m-22.85   \u001b[0m | \u001b[0m-1.992   \u001b[0m | \u001b[0m 0.3688  \u001b[0m | \u001b[0m 13.17   \u001b[0m | \u001b[0m-14.07   \u001b[0m |\n",
      "| \u001b[0m 120     \u001b[0m | \u001b[0m-30.0    \u001b[0m | \u001b[0m 6.506   \u001b[0m | \u001b[0m 11.73   \u001b[0m | \u001b[0m-14.18   \u001b[0m | \u001b[0m 0.6615  \u001b[0m |\n",
      "| \u001b[0m 121     \u001b[0m | \u001b[0m-12.93   \u001b[0m | \u001b[0m-5.22    \u001b[0m | \u001b[0m 10.78   \u001b[0m | \u001b[0m 1.755   \u001b[0m | \u001b[0m 5.707   \u001b[0m |\n",
      "| \u001b[0m 122     \u001b[0m | \u001b[0m-22.22   \u001b[0m | \u001b[0m-1.414   \u001b[0m | \u001b[0m 3.849   \u001b[0m | \u001b[0m-6.297   \u001b[0m | \u001b[0m-14.72   \u001b[0m |\n",
      "| \u001b[0m 123     \u001b[0m | \u001b[0m-13.34   \u001b[0m | \u001b[0m 2.303   \u001b[0m | \u001b[0m-5.657   \u001b[0m | \u001b[0m 0.518   \u001b[0m | \u001b[0m 12.49   \u001b[0m |\n",
      "| \u001b[0m 124     \u001b[0m | \u001b[0m-11.38   \u001b[0m | \u001b[0m-2.206   \u001b[0m | \u001b[0m-7.578   \u001b[0m | \u001b[0m-3.861   \u001b[0m | \u001b[0m 12.96   \u001b[0m |\n",
      "| \u001b[0m 125     \u001b[0m | \u001b[0m-30.0    \u001b[0m | \u001b[0m 13.11   \u001b[0m | \u001b[0m 10.33   \u001b[0m | \u001b[0m 12.61   \u001b[0m | \u001b[0m-8.163   \u001b[0m |\n",
      "| \u001b[0m 126     \u001b[0m | \u001b[0m-30.0    \u001b[0m | \u001b[0m-12.38   \u001b[0m | \u001b[0m-8.181   \u001b[0m | \u001b[0m-5.569   \u001b[0m | \u001b[0m-9.757   \u001b[0m |\n",
      "| \u001b[0m 127     \u001b[0m | \u001b[0m-17.73   \u001b[0m | \u001b[0m 3.213   \u001b[0m | \u001b[0m-2.592   \u001b[0m | \u001b[0m 9.491   \u001b[0m | \u001b[0m-9.446   \u001b[0m |\n",
      "| \u001b[0m 128     \u001b[0m | \u001b[0m-16.57   \u001b[0m | \u001b[0m 6.056   \u001b[0m | \u001b[0m-7.789   \u001b[0m | \u001b[0m 2.227   \u001b[0m | \u001b[0m-4.53    \u001b[0m |\n",
      "| \u001b[0m 129     \u001b[0m | \u001b[0m-27.6    \u001b[0m | \u001b[0m-13.29   \u001b[0m | \u001b[0m-8.136   \u001b[0m | \u001b[0m 4.923   \u001b[0m | \u001b[0m-0.0825  \u001b[0m |\n",
      "| \u001b[0m 130     \u001b[0m | \u001b[0m-16.63   \u001b[0m | \u001b[0m 0.5705  \u001b[0m | \u001b[0m-9.758   \u001b[0m | \u001b[0m 2.121   \u001b[0m | \u001b[0m 14.9    \u001b[0m |\n",
      "| \u001b[0m 131     \u001b[0m | \u001b[0m-30.0    \u001b[0m | \u001b[0m 9.505   \u001b[0m | \u001b[0m 2.831   \u001b[0m | \u001b[0m 14.28   \u001b[0m | \u001b[0m 12.05   \u001b[0m |\n",
      "| \u001b[0m 132     \u001b[0m | \u001b[0m-30.0    \u001b[0m | \u001b[0m 2.868   \u001b[0m | \u001b[0m-14.03   \u001b[0m | \u001b[0m-12.19   \u001b[0m | \u001b[0m-13.04   \u001b[0m |\n",
      "| \u001b[0m 133     \u001b[0m | \u001b[0m-15.16   \u001b[0m | \u001b[0m-1.448   \u001b[0m | \u001b[0m-3.737   \u001b[0m | \u001b[0m 14.26   \u001b[0m | \u001b[0m-9.961   \u001b[0m |\n",
      "| \u001b[0m 134     \u001b[0m | \u001b[0m-30.0    \u001b[0m | \u001b[0m 14.18   \u001b[0m | \u001b[0m 8.024   \u001b[0m | \u001b[0m 9.727   \u001b[0m | \u001b[0m 3.978   \u001b[0m |\n",
      "| \u001b[0m 135     \u001b[0m | \u001b[0m-24.85   \u001b[0m | \u001b[0m 5.062   \u001b[0m | \u001b[0m-0.6935  \u001b[0m | \u001b[0m-14.61   \u001b[0m | \u001b[0m-4.41    \u001b[0m |\n",
      "| \u001b[0m 136     \u001b[0m | \u001b[0m-10.67   \u001b[0m | \u001b[0m-0.2378  \u001b[0m | \u001b[0m 6.903   \u001b[0m | \u001b[0m-0.9411  \u001b[0m | \u001b[0m-1.278   \u001b[0m |\n",
      "| \u001b[0m 137     \u001b[0m | \u001b[0m-25.51   \u001b[0m | \u001b[0m-10.87   \u001b[0m | \u001b[0m-14.67   \u001b[0m | \u001b[0m 7.748   \u001b[0m | \u001b[0m-5.401   \u001b[0m |\n",
      "| \u001b[0m 138     \u001b[0m | \u001b[0m-30.0    \u001b[0m | \u001b[0m 14.53   \u001b[0m | \u001b[0m-8.393   \u001b[0m | \u001b[0m-4.839   \u001b[0m | \u001b[0m 0.7169  \u001b[0m |\n",
      "| \u001b[0m 139     \u001b[0m | \u001b[0m-19.2    \u001b[0m | \u001b[0m 7.647   \u001b[0m | \u001b[0m-1.084   \u001b[0m | \u001b[0m-11.26   \u001b[0m | \u001b[0m-5.625   \u001b[0m |\n",
      "| \u001b[0m 140     \u001b[0m | \u001b[0m-19.74   \u001b[0m | \u001b[0m 0.1356  \u001b[0m | \u001b[0m 5.215   \u001b[0m | \u001b[0m 8.104   \u001b[0m | \u001b[0m-11.09   \u001b[0m |\n",
      "| \u001b[0m 141     \u001b[0m | \u001b[0m-29.14   \u001b[0m | \u001b[0m-14.31   \u001b[0m | \u001b[0m 0.5725  \u001b[0m | \u001b[0m 9.3     \u001b[0m | \u001b[0m-14.62   \u001b[0m |\n",
      "| \u001b[0m 142     \u001b[0m | \u001b[0m-30.0    \u001b[0m | \u001b[0m 5.174   \u001b[0m | \u001b[0m 5.604   \u001b[0m | \u001b[0m-1.523   \u001b[0m | \u001b[0m 12.44   \u001b[0m |\n",
      "| \u001b[0m 143     \u001b[0m | \u001b[0m-25.49   \u001b[0m | \u001b[0m 4.331   \u001b[0m | \u001b[0m-14.84   \u001b[0m | \u001b[0m-0.4671  \u001b[0m | \u001b[0m 10.78   \u001b[0m |\n",
      "| \u001b[0m 144     \u001b[0m | \u001b[0m-30.0    \u001b[0m | \u001b[0m 9.912   \u001b[0m | \u001b[0m 4.475   \u001b[0m | \u001b[0m 5.211   \u001b[0m | \u001b[0m 2.355   \u001b[0m |\n",
      "| \u001b[0m 145     \u001b[0m | \u001b[0m-15.38   \u001b[0m | \u001b[0m-6.776   \u001b[0m | \u001b[0m 1.816   \u001b[0m | \u001b[0m 5.152   \u001b[0m | \u001b[0m-4.427   \u001b[0m |\n",
      "| \u001b[0m 146     \u001b[0m | \u001b[0m-20.77   \u001b[0m | \u001b[0m 10.67   \u001b[0m | \u001b[0m-9.149   \u001b[0m | \u001b[0m 7.42    \u001b[0m | \u001b[0m-6.312   \u001b[0m |\n",
      "| \u001b[0m 147     \u001b[0m | \u001b[0m-30.0    \u001b[0m | \u001b[0m 8.214   \u001b[0m | \u001b[0m-2.168   \u001b[0m | \u001b[0m 9.231   \u001b[0m | \u001b[0m-4.394   \u001b[0m |\n",
      "| \u001b[0m 148     \u001b[0m | \u001b[0m-18.59   \u001b[0m | \u001b[0m-8.589   \u001b[0m | \u001b[0m 8.019   \u001b[0m | \u001b[0m-5.741   \u001b[0m | \u001b[0m 6.997   \u001b[0m |\n",
      "| \u001b[0m 149     \u001b[0m | \u001b[0m-17.97   \u001b[0m | \u001b[0m 7.334   \u001b[0m | \u001b[0m-8.358   \u001b[0m | \u001b[0m-8.577   \u001b[0m | \u001b[0m-9.032   \u001b[0m |\n",
      "| \u001b[0m 150     \u001b[0m | \u001b[0m-30.0    \u001b[0m | \u001b[0m-10.72   \u001b[0m | \u001b[0m-3.688   \u001b[0m | \u001b[0m-14.2    \u001b[0m | \u001b[0m-11.67   \u001b[0m |\n",
      "| \u001b[0m 151     \u001b[0m | \u001b[0m-30.0    \u001b[0m | \u001b[0m 5.237   \u001b[0m | \u001b[0m 8.993   \u001b[0m | \u001b[0m-12.58   \u001b[0m | \u001b[0m-8.049   \u001b[0m |\n",
      "| \u001b[0m 152     \u001b[0m | \u001b[0m-19.82   \u001b[0m | \u001b[0m-8.771   \u001b[0m | \u001b[0m 12.52   \u001b[0m | \u001b[0m 6.339   \u001b[0m | \u001b[0m 1.617   \u001b[0m |\n",
      "| \u001b[0m 153     \u001b[0m | \u001b[0m-15.21   \u001b[0m | \u001b[0m-5.864   \u001b[0m | \u001b[0m 10.05   \u001b[0m | \u001b[0m-1.941   \u001b[0m | \u001b[0m 12.7    \u001b[0m |\n",
      "| \u001b[0m 154     \u001b[0m | \u001b[0m-19.72   \u001b[0m | \u001b[0m 6.182   \u001b[0m | \u001b[0m-0.6591  \u001b[0m | \u001b[0m-11.21   \u001b[0m | \u001b[0m 14.28   \u001b[0m |\n",
      "| \u001b[0m 155     \u001b[0m | \u001b[0m-21.8    \u001b[0m | \u001b[0m-10.2    \u001b[0m | \u001b[0m-8.922   \u001b[0m | \u001b[0m-2.065   \u001b[0m | \u001b[0m-2.874   \u001b[0m |\n",
      "| \u001b[0m 156     \u001b[0m | \u001b[0m-21.97   \u001b[0m | \u001b[0m-10.6    \u001b[0m | \u001b[0m 6.88    \u001b[0m | \u001b[0m-9.338   \u001b[0m | \u001b[0m 4.317   \u001b[0m |\n",
      "| \u001b[0m 157     \u001b[0m | \u001b[0m-16.47   \u001b[0m | \u001b[0m 7.629   \u001b[0m | \u001b[0m-8.678   \u001b[0m | \u001b[0m 3.029   \u001b[0m | \u001b[0m 7.468   \u001b[0m |\n",
      "| \u001b[0m 158     \u001b[0m | \u001b[0m-20.6    \u001b[0m | \u001b[0m 4.147   \u001b[0m | \u001b[0m 2.914   \u001b[0m | \u001b[0m-6.136   \u001b[0m | \u001b[0m 6.948   \u001b[0m |\n",
      "| \u001b[0m 159     \u001b[0m | \u001b[0m-30.0    \u001b[0m | \u001b[0m 13.36   \u001b[0m | \u001b[0m-2.233   \u001b[0m | \u001b[0m 8.465   \u001b[0m | \u001b[0m-13.32   \u001b[0m |\n",
      "| \u001b[0m 160     \u001b[0m | \u001b[0m-17.19   \u001b[0m | \u001b[0m 10.06   \u001b[0m | \u001b[0m-9.232   \u001b[0m | \u001b[0m-3.147   \u001b[0m | \u001b[0m-5.998   \u001b[0m |\n",
      "| \u001b[0m 161     \u001b[0m | \u001b[0m-25.67   \u001b[0m | \u001b[0m-12.6    \u001b[0m | \u001b[0m 12.14   \u001b[0m | \u001b[0m-3.895   \u001b[0m | \u001b[0m 0.9209  \u001b[0m |\n",
      "| \u001b[0m 162     \u001b[0m | \u001b[0m-20.3    \u001b[0m | \u001b[0m-0.1765  \u001b[0m | \u001b[0m-11.04   \u001b[0m | \u001b[0m-8.806   \u001b[0m | \u001b[0m-12.71   \u001b[0m |\n",
      "| \u001b[0m 163     \u001b[0m | \u001b[0m-19.38   \u001b[0m | \u001b[0m 0.2377  \u001b[0m | \u001b[0m-7.154   \u001b[0m | \u001b[0m-4.288   \u001b[0m | \u001b[0m-11.76   \u001b[0m |\n",
      "| \u001b[0m 164     \u001b[0m | \u001b[0m-19.36   \u001b[0m | \u001b[0m 8.627   \u001b[0m | \u001b[0m-11.8    \u001b[0m | \u001b[0m 14.57   \u001b[0m | \u001b[0m-9.685   \u001b[0m |\n",
      "| \u001b[0m 165     \u001b[0m | \u001b[0m-20.41   \u001b[0m | \u001b[0m 2.172   \u001b[0m | \u001b[0m-13.65   \u001b[0m | \u001b[0m 8.613   \u001b[0m | \u001b[0m-9.312   \u001b[0m |\n",
      "| \u001b[0m 166     \u001b[0m | \u001b[0m-17.4    \u001b[0m | \u001b[0m 0.8371  \u001b[0m | \u001b[0m 7.202   \u001b[0m | \u001b[0m-10.5    \u001b[0m | \u001b[0m 1.533   \u001b[0m |\n",
      "| \u001b[0m 167     \u001b[0m | \u001b[0m-20.68   \u001b[0m | \u001b[0m-8.501   \u001b[0m | \u001b[0m 7.776   \u001b[0m | \u001b[0m 6.687   \u001b[0m | \u001b[0m-9.704   \u001b[0m |\n",
      "| \u001b[0m 168     \u001b[0m | \u001b[0m-22.15   \u001b[0m | \u001b[0m 10.86   \u001b[0m | \u001b[0m-14.41   \u001b[0m | \u001b[0m 10.81   \u001b[0m | \u001b[0m 1.767   \u001b[0m |\n",
      "| \u001b[0m 169     \u001b[0m | \u001b[0m-10.13   \u001b[0m | \u001b[0m-2.903   \u001b[0m | \u001b[0m 7.762   \u001b[0m | \u001b[0m 6.508   \u001b[0m | \u001b[0m 14.62   \u001b[0m |\n",
      "| \u001b[0m 170     \u001b[0m | \u001b[0m-21.44   \u001b[0m | \u001b[0m-6.657   \u001b[0m | \u001b[0m-14.89   \u001b[0m | \u001b[0m 13.02   \u001b[0m | \u001b[0m 10.74   \u001b[0m |\n",
      "| \u001b[0m 171     \u001b[0m | \u001b[0m-30.0    \u001b[0m | \u001b[0m 6.866   \u001b[0m | \u001b[0m 0.5007  \u001b[0m | \u001b[0m 6.209   \u001b[0m | \u001b[0m 8.416   \u001b[0m |\n",
      "| \u001b[0m 172     \u001b[0m | \u001b[0m-11.85   \u001b[0m | \u001b[0m-3.754   \u001b[0m | \u001b[0m 8.11    \u001b[0m | \u001b[0m 7.519   \u001b[0m | \u001b[0m 3.396   \u001b[0m |\n",
      "| \u001b[0m 173     \u001b[0m | \u001b[0m-19.53   \u001b[0m | \u001b[0m-2.944   \u001b[0m | \u001b[0m 5.919   \u001b[0m | \u001b[0m-14.91   \u001b[0m | \u001b[0m 8.247   \u001b[0m |\n",
      "| \u001b[0m 174     \u001b[0m | \u001b[0m-20.95   \u001b[0m | \u001b[0m 11.89   \u001b[0m | \u001b[0m-7.821   \u001b[0m | \u001b[0m-11.38   \u001b[0m | \u001b[0m-8.391   \u001b[0m |\n",
      "| \u001b[0m 175     \u001b[0m | \u001b[0m-15.46   \u001b[0m | \u001b[0m-5.937   \u001b[0m | \u001b[0m 11.49   \u001b[0m | \u001b[0m 1.295   \u001b[0m | \u001b[0m-6.399   \u001b[0m |\n",
      "| \u001b[0m 176     \u001b[0m | \u001b[0m-23.19   \u001b[0m | \u001b[0m-10.85   \u001b[0m | \u001b[0m-6.296   \u001b[0m | \u001b[0m 3.416   \u001b[0m | \u001b[0m-5.276   \u001b[0m |\n",
      "| \u001b[0m 177     \u001b[0m | \u001b[0m-9.643   \u001b[0m | \u001b[0m-1.279   \u001b[0m | \u001b[0m-1.676   \u001b[0m | \u001b[0m 9.844   \u001b[0m | \u001b[0m-2.21    \u001b[0m |\n",
      "| \u001b[0m 178     \u001b[0m | \u001b[0m-14.82   \u001b[0m | \u001b[0m-4.629   \u001b[0m | \u001b[0m 5.249   \u001b[0m | \u001b[0m-8.356   \u001b[0m | \u001b[0m-0.9826  \u001b[0m |\n",
      "| \u001b[0m 179     \u001b[0m | \u001b[0m-14.17   \u001b[0m | \u001b[0m-5.557   \u001b[0m | \u001b[0m 3.806   \u001b[0m | \u001b[0m 11.32   \u001b[0m | \u001b[0m-1.569   \u001b[0m |\n",
      "| \u001b[0m 180     \u001b[0m | \u001b[0m-30.0    \u001b[0m | \u001b[0m 8.534   \u001b[0m | \u001b[0m-1.291   \u001b[0m | \u001b[0m 4.687   \u001b[0m | \u001b[0m-11.04   \u001b[0m |\n",
      "| \u001b[0m 181     \u001b[0m | \u001b[0m-10.87   \u001b[0m | \u001b[0m-2.011   \u001b[0m | \u001b[0m 12.28   \u001b[0m | \u001b[0m 3.164   \u001b[0m | \u001b[0m 8.003   \u001b[0m |\n",
      "| \u001b[0m 182     \u001b[0m | \u001b[0m-20.23   \u001b[0m | \u001b[0m 0.141   \u001b[0m | \u001b[0m-0.05833 \u001b[0m | \u001b[0m 10.29   \u001b[0m | \u001b[0m-12.97   \u001b[0m |\n",
      "| \u001b[0m 183     \u001b[0m | \u001b[0m-17.97   \u001b[0m | \u001b[0m 2.198   \u001b[0m | \u001b[0m 13.28   \u001b[0m | \u001b[0m 0.5358  \u001b[0m | \u001b[0m-9.166   \u001b[0m |\n",
      "| \u001b[0m 184     \u001b[0m | \u001b[0m-30.0    \u001b[0m | \u001b[0m 10.44   \u001b[0m | \u001b[0m-7.451   \u001b[0m | \u001b[0m 6.022   \u001b[0m | \u001b[0m 1.208   \u001b[0m |\n",
      "| \u001b[0m 185     \u001b[0m | \u001b[0m-30.0    \u001b[0m | \u001b[0m 13.47   \u001b[0m | \u001b[0m 3.73    \u001b[0m | \u001b[0m 10.14   \u001b[0m | \u001b[0m-14.76   \u001b[0m |\n",
      "| \u001b[0m 186     \u001b[0m | \u001b[0m-20.36   \u001b[0m | \u001b[0m 14.68   \u001b[0m | \u001b[0m-12.67   \u001b[0m | \u001b[0m-5.336   \u001b[0m | \u001b[0m 13.38   \u001b[0m |\n",
      "| \u001b[0m 187     \u001b[0m | \u001b[0m-29.53   \u001b[0m | \u001b[0m-14.73   \u001b[0m | \u001b[0m 9.682   \u001b[0m | \u001b[0m 10.84   \u001b[0m | \u001b[0m-1.805   \u001b[0m |\n",
      "| \u001b[0m 188     \u001b[0m | \u001b[0m-20.49   \u001b[0m | \u001b[0m-7.328   \u001b[0m | \u001b[0m 9.081   \u001b[0m | \u001b[0m-0.6641  \u001b[0m | \u001b[0m-10.97   \u001b[0m |\n",
      "| \u001b[0m 189     \u001b[0m | \u001b[0m-30.0    \u001b[0m | \u001b[0m 12.84   \u001b[0m | \u001b[0m 11.88   \u001b[0m | \u001b[0m-0.2536  \u001b[0m | \u001b[0m 10.7    \u001b[0m |\n",
      "| \u001b[0m 190     \u001b[0m | \u001b[0m-13.13   \u001b[0m | \u001b[0m-2.443   \u001b[0m | \u001b[0m 5.504   \u001b[0m | \u001b[0m-3.06    \u001b[0m | \u001b[0m 0.1723  \u001b[0m |\n",
      "| \u001b[0m 191     \u001b[0m | \u001b[0m-22.61   \u001b[0m | \u001b[0m-9.313   \u001b[0m | \u001b[0m 13.95   \u001b[0m | \u001b[0m-6.174   \u001b[0m | \u001b[0m-11.9    \u001b[0m |\n",
      "| \u001b[0m 192     \u001b[0m | \u001b[0m-25.12   \u001b[0m | \u001b[0m-10.67   \u001b[0m | \u001b[0m-14.58   \u001b[0m | \u001b[0m 6.478   \u001b[0m | \u001b[0m 1.935   \u001b[0m |\n",
      "| \u001b[0m 193     \u001b[0m | \u001b[0m-30.0    \u001b[0m | \u001b[0m 8.837   \u001b[0m | \u001b[0m 0.2124  \u001b[0m | \u001b[0m 8.755   \u001b[0m | \u001b[0m 5.873   \u001b[0m |\n",
      "| \u001b[0m 194     \u001b[0m | \u001b[0m-30.0    \u001b[0m | \u001b[0m 8.335   \u001b[0m | \u001b[0m-2.806   \u001b[0m | \u001b[0m 4.433   \u001b[0m | \u001b[0m-9.606   \u001b[0m |\n",
      "| \u001b[0m 195     \u001b[0m | \u001b[0m-16.59   \u001b[0m | \u001b[0m-5.345   \u001b[0m | \u001b[0m-9.822   \u001b[0m | \u001b[0m-2.741   \u001b[0m | \u001b[0m-7.757   \u001b[0m |\n",
      "| \u001b[0m 196     \u001b[0m | \u001b[0m-10.92   \u001b[0m | \u001b[0m-2.792   \u001b[0m | \u001b[0m 14.26   \u001b[0m | \u001b[0m-5.39    \u001b[0m | \u001b[0m 14.47   \u001b[0m |\n",
      "| \u001b[0m 197     \u001b[0m | \u001b[0m-12.52   \u001b[0m | \u001b[0m 4.089   \u001b[0m | \u001b[0m-3.747   \u001b[0m | \u001b[0m 10.72   \u001b[0m | \u001b[0m 3.588   \u001b[0m |\n",
      "| \u001b[0m 198     \u001b[0m | \u001b[0m-17.15   \u001b[0m | \u001b[0m-7.439   \u001b[0m | \u001b[0m 8.786   \u001b[0m | \u001b[0m-2.012   \u001b[0m | \u001b[0m-4.275   \u001b[0m |\n",
      "| \u001b[0m 199     \u001b[0m | \u001b[0m-13.4    \u001b[0m | \u001b[0m-5.092   \u001b[0m | \u001b[0m 5.921   \u001b[0m | \u001b[0m-6.94    \u001b[0m | \u001b[0m 9.248   \u001b[0m |\n",
      "| \u001b[0m 200     \u001b[0m | \u001b[0m-14.08   \u001b[0m | \u001b[0m-6.141   \u001b[0m | \u001b[0m 1.324   \u001b[0m | \u001b[0m-0.3624  \u001b[0m | \u001b[0m 10.66   \u001b[0m |\n",
      "| \u001b[0m 201     \u001b[0m | \u001b[0m-27.78   \u001b[0m | \u001b[0m 11.65   \u001b[0m | \u001b[0m-9.468   \u001b[0m | \u001b[0m 2.56    \u001b[0m | \u001b[0m 11.95   \u001b[0m |\n",
      "| \u001b[0m 202     \u001b[0m | \u001b[0m-14.64   \u001b[0m | \u001b[0m-1.616   \u001b[0m | \u001b[0m 12.66   \u001b[0m | \u001b[0m-6.63    \u001b[0m | \u001b[0m 3.265   \u001b[0m |\n",
      "| \u001b[0m 203     \u001b[0m | \u001b[0m-21.8    \u001b[0m | \u001b[0m 5.474   \u001b[0m | \u001b[0m-8.154   \u001b[0m | \u001b[0m-14.59   \u001b[0m | \u001b[0m-2.498   \u001b[0m |\n",
      "| \u001b[0m 204     \u001b[0m | \u001b[0m-30.0    \u001b[0m | \u001b[0m 13.15   \u001b[0m | \u001b[0m-4.709   \u001b[0m | \u001b[0m 8.392   \u001b[0m | \u001b[0m-9.758   \u001b[0m |\n",
      "| \u001b[0m 205     \u001b[0m | \u001b[0m-16.22   \u001b[0m | \u001b[0m-4.741   \u001b[0m | \u001b[0m-10.66   \u001b[0m | \u001b[0m 6.503   \u001b[0m | \u001b[0m 5.979   \u001b[0m |\n",
      "| \u001b[0m 206     \u001b[0m | \u001b[0m-16.58   \u001b[0m | \u001b[0m 5.655   \u001b[0m | \u001b[0m-7.398   \u001b[0m | \u001b[0m 5.771   \u001b[0m | \u001b[0m-8.181   \u001b[0m |\n",
      "| \u001b[0m 207     \u001b[0m | \u001b[0m-17.91   \u001b[0m | \u001b[0m-2.261   \u001b[0m | \u001b[0m-3.842   \u001b[0m | \u001b[0m-4.341   \u001b[0m | \u001b[0m-13.27   \u001b[0m |\n",
      "| \u001b[0m 208     \u001b[0m | \u001b[0m-26.32   \u001b[0m | \u001b[0m 3.949   \u001b[0m | \u001b[0m 6.219   \u001b[0m | \u001b[0m 3.408   \u001b[0m | \u001b[0m 4.449   \u001b[0m |\n",
      "| \u001b[0m 209     \u001b[0m | \u001b[0m-21.22   \u001b[0m | \u001b[0m-9.902   \u001b[0m | \u001b[0m-10.52   \u001b[0m | \u001b[0m 0.4253  \u001b[0m | \u001b[0m 11.26   \u001b[0m |\n",
      "| \u001b[0m 210     \u001b[0m | \u001b[0m-20.33   \u001b[0m | \u001b[0m-9.481   \u001b[0m | \u001b[0m-1.115   \u001b[0m | \u001b[0m-2.132   \u001b[0m | \u001b[0m-0.08132 \u001b[0m |\n",
      "| \u001b[0m 211     \u001b[0m | \u001b[0m-22.45   \u001b[0m | \u001b[0m-10.15   \u001b[0m | \u001b[0m-4.727   \u001b[0m | \u001b[0m-7.144   \u001b[0m | \u001b[0m 10.34   \u001b[0m |\n",
      "| \u001b[0m 212     \u001b[0m | \u001b[0m-30.0    \u001b[0m | \u001b[0m 9.01    \u001b[0m | \u001b[0m-2.201   \u001b[0m | \u001b[0m 3.21    \u001b[0m | \u001b[0m-10.64   \u001b[0m |\n",
      "| \u001b[0m 213     \u001b[0m | \u001b[0m-13.8    \u001b[0m | \u001b[0m 0.2884  \u001b[0m | \u001b[0m-6.092   \u001b[0m | \u001b[0m 10.79   \u001b[0m | \u001b[0m 5.148   \u001b[0m |\n",
      "| \u001b[0m 214     \u001b[0m | \u001b[0m-20.64   \u001b[0m | \u001b[0m 4.004   \u001b[0m | \u001b[0m-11.26   \u001b[0m | \u001b[0m-0.8824  \u001b[0m | \u001b[0m 14.6    \u001b[0m |\n",
      "| \u001b[0m 215     \u001b[0m | \u001b[0m-30.0    \u001b[0m | \u001b[0m 13.45   \u001b[0m | \u001b[0m 4.353   \u001b[0m | \u001b[0m-10.45   \u001b[0m | \u001b[0m 4.174   \u001b[0m |\n",
      "| \u001b[0m 216     \u001b[0m | \u001b[0m-10.53   \u001b[0m | \u001b[0m 1.97    \u001b[0m | \u001b[0m-0.94    \u001b[0m | \u001b[0m-2.159   \u001b[0m | \u001b[0m 2.978   \u001b[0m |\n",
      "| \u001b[0m 217     \u001b[0m | \u001b[0m-30.0    \u001b[0m | \u001b[0m 10.5    \u001b[0m | \u001b[0m 7.534   \u001b[0m | \u001b[0m 2.381   \u001b[0m | \u001b[0m 12.74   \u001b[0m |\n",
      "| \u001b[0m 218     \u001b[0m | \u001b[0m-27.32   \u001b[0m | \u001b[0m-13.06   \u001b[0m | \u001b[0m 14.74   \u001b[0m | \u001b[0m-13.41   \u001b[0m | \u001b[0m-9.015   \u001b[0m |\n",
      "| \u001b[0m 219     \u001b[0m | \u001b[0m-18.52   \u001b[0m | \u001b[0m-2.317   \u001b[0m | \u001b[0m-11.77   \u001b[0m | \u001b[0m 3.71    \u001b[0m | \u001b[0m-13.56   \u001b[0m |\n",
      "| \u001b[0m 220     \u001b[0m | \u001b[0m-20.12   \u001b[0m | \u001b[0m-6.461   \u001b[0m | \u001b[0m-13.17   \u001b[0m | \u001b[0m 6.106   \u001b[0m | \u001b[0m 5.054   \u001b[0m |\n",
      "| \u001b[0m 221     \u001b[0m | \u001b[0m-14.59   \u001b[0m | \u001b[0m-3.643   \u001b[0m | \u001b[0m-9.354   \u001b[0m | \u001b[0m 7.41    \u001b[0m | \u001b[0m-4.789   \u001b[0m |\n",
      "| \u001b[0m 222     \u001b[0m | \u001b[0m-30.0    \u001b[0m | \u001b[0m 8.859   \u001b[0m | \u001b[0m-0.363   \u001b[0m | \u001b[0m 0.7701  \u001b[0m | \u001b[0m-14.15   \u001b[0m |\n",
      "| \u001b[0m 223     \u001b[0m | \u001b[0m-14.85   \u001b[0m | \u001b[0m 4.327   \u001b[0m | \u001b[0m-4.48    \u001b[0m | \u001b[0m-8.124   \u001b[0m | \u001b[0m-1.983   \u001b[0m |\n",
      "| \u001b[0m 224     \u001b[0m | \u001b[0m-11.31   \u001b[0m | \u001b[0m-3.526   \u001b[0m | \u001b[0m-0.9063  \u001b[0m | \u001b[0m 14.38   \u001b[0m | \u001b[0m-4.069   \u001b[0m |\n",
      "| \u001b[0m 225     \u001b[0m | \u001b[0m-30.0    \u001b[0m | \u001b[0m 8.232   \u001b[0m | \u001b[0m 1.583   \u001b[0m | \u001b[0m 11.67   \u001b[0m | \u001b[0m-4.351   \u001b[0m |\n",
      "| \u001b[0m 226     \u001b[0m | \u001b[0m-21.52   \u001b[0m | \u001b[0m-7.634   \u001b[0m | \u001b[0m 12.33   \u001b[0m | \u001b[0m-13.69   \u001b[0m | \u001b[0m 13.52   \u001b[0m |\n",
      "| \u001b[0m 227     \u001b[0m | \u001b[0m-20.27   \u001b[0m | \u001b[0m 1.692   \u001b[0m | \u001b[0m-3.709   \u001b[0m | \u001b[0m 14.85   \u001b[0m | \u001b[0m-13.25   \u001b[0m |\n",
      "| \u001b[0m 228     \u001b[0m | \u001b[0m-20.13   \u001b[0m | \u001b[0m 0.5012  \u001b[0m | \u001b[0m-14.07   \u001b[0m | \u001b[0m 2.135   \u001b[0m | \u001b[0m-9.586   \u001b[0m |\n",
      "| \u001b[0m 229     \u001b[0m | \u001b[0m-26.1    \u001b[0m | \u001b[0m 3.929   \u001b[0m | \u001b[0m 14.43   \u001b[0m | \u001b[0m 11.25   \u001b[0m | \u001b[0m-1.445   \u001b[0m |\n",
      "| \u001b[0m 230     \u001b[0m | \u001b[0m-30.0    \u001b[0m | \u001b[0m 6.254   \u001b[0m | \u001b[0m 8.324   \u001b[0m | \u001b[0m-0.1547  \u001b[0m | \u001b[0m 0.856   \u001b[0m |\n",
      "| \u001b[0m 231     \u001b[0m | \u001b[0m-22.28   \u001b[0m | \u001b[0m-10.48   \u001b[0m | \u001b[0m-3.918   \u001b[0m | \u001b[0m-10.73   \u001b[0m | \u001b[0m 6.807   \u001b[0m |\n",
      "| \u001b[0m 232     \u001b[0m | \u001b[0m-10.44   \u001b[0m | \u001b[0m-0.6896  \u001b[0m | \u001b[0m-1.534   \u001b[0m | \u001b[0m 11.58   \u001b[0m | \u001b[0m 0.8286  \u001b[0m |\n",
      "| \u001b[0m 233     \u001b[0m | \u001b[0m-16.68   \u001b[0m | \u001b[0m-2.727   \u001b[0m | \u001b[0m-6.933   \u001b[0m | \u001b[0m-12.84   \u001b[0m | \u001b[0m-2.456   \u001b[0m |\n",
      "| \u001b[0m 234     \u001b[0m | \u001b[0m-28.97   \u001b[0m | \u001b[0m-14.23   \u001b[0m | \u001b[0m-6.265   \u001b[0m | \u001b[0m 0.1053  \u001b[0m | \u001b[0m 13.98   \u001b[0m |\n",
      "| \u001b[0m 235     \u001b[0m | \u001b[0m-25.48   \u001b[0m | \u001b[0m-11.72   \u001b[0m | \u001b[0m 5.191   \u001b[0m | \u001b[0m-0.002029\u001b[0m | \u001b[0m 8.313   \u001b[0m |\n",
      "| \u001b[0m 236     \u001b[0m | \u001b[0m-23.5    \u001b[0m | \u001b[0m-10.69   \u001b[0m | \u001b[0m-12.5    \u001b[0m | \u001b[0m-3.023   \u001b[0m | \u001b[0m 8.909   \u001b[0m |\n",
      "| \u001b[0m 237     \u001b[0m | \u001b[0m-19.95   \u001b[0m | \u001b[0m-9.25    \u001b[0m | \u001b[0m 8.033   \u001b[0m | \u001b[0m-6.291   \u001b[0m | \u001b[0m-8.493   \u001b[0m |\n",
      "| \u001b[0m 238     \u001b[0m | \u001b[0m-29.48   \u001b[0m | \u001b[0m-14.5    \u001b[0m | \u001b[0m-3.04    \u001b[0m | \u001b[0m-3.568   \u001b[0m | \u001b[0m 4.78    \u001b[0m |\n",
      "| \u001b[0m 239     \u001b[0m | \u001b[0m-30.0    \u001b[0m | \u001b[0m-12.87   \u001b[0m | \u001b[0m-10.42   \u001b[0m | \u001b[0m-14.5    \u001b[0m | \u001b[0m-11.59   \u001b[0m |\n",
      "| \u001b[0m 240     \u001b[0m | \u001b[0m-12.77   \u001b[0m | \u001b[0m 4.554   \u001b[0m | \u001b[0m-2.92    \u001b[0m | \u001b[0m-5.369   \u001b[0m | \u001b[0m 1.737   \u001b[0m |\n",
      "| \u001b[0m 241     \u001b[0m | \u001b[0m-30.0    \u001b[0m | \u001b[0m 14.8    \u001b[0m | \u001b[0m 10.03   \u001b[0m | \u001b[0m 5.989   \u001b[0m | \u001b[0m 12.55   \u001b[0m |\n",
      "| \u001b[0m 242     \u001b[0m | \u001b[0m-30.0    \u001b[0m | \u001b[0m-13.81   \u001b[0m | \u001b[0m-12.89   \u001b[0m | \u001b[0m-0.7798  \u001b[0m | \u001b[0m-4.525   \u001b[0m |\n",
      "| \u001b[0m 243     \u001b[0m | \u001b[0m-30.0    \u001b[0m | \u001b[0m 13.12   \u001b[0m | \u001b[0m-0.3131  \u001b[0m | \u001b[0m 1.189   \u001b[0m | \u001b[0m 11.86   \u001b[0m |\n",
      "| \u001b[0m 244     \u001b[0m | \u001b[0m-15.69   \u001b[0m | \u001b[0m-1.601   \u001b[0m | \u001b[0m 11.31   \u001b[0m | \u001b[0m-7.393   \u001b[0m | \u001b[0m-6.786   \u001b[0m |\n",
      "| \u001b[0m 245     \u001b[0m | \u001b[0m-15.13   \u001b[0m | \u001b[0m-5.149   \u001b[0m | \u001b[0m 1.427   \u001b[0m | \u001b[0m-8.396   \u001b[0m | \u001b[0m 5.143   \u001b[0m |\n",
      "| \u001b[0m 246     \u001b[0m | \u001b[0m-23.53   \u001b[0m | \u001b[0m-10.72   \u001b[0m | \u001b[0m-12.18   \u001b[0m | \u001b[0m 11.11   \u001b[0m | \u001b[0m-7.894   \u001b[0m |\n",
      "| \u001b[0m 247     \u001b[0m | \u001b[0m-21.37   \u001b[0m | \u001b[0m-3.42    \u001b[0m | \u001b[0m 2.146   \u001b[0m | \u001b[0m 0.7741  \u001b[0m | \u001b[0m-12.72   \u001b[0m |\n",
      "| \u001b[0m 248     \u001b[0m | \u001b[0m-30.0    \u001b[0m | \u001b[0m 11.22   \u001b[0m | \u001b[0m 13.53   \u001b[0m | \u001b[0m 9.375   \u001b[0m | \u001b[0m-6.486   \u001b[0m |\n",
      "| \u001b[0m 249     \u001b[0m | \u001b[0m-11.9    \u001b[0m | \u001b[0m 0.8354  \u001b[0m | \u001b[0m-4.817   \u001b[0m | \u001b[0m 1.64    \u001b[0m | \u001b[0m 14.23   \u001b[0m |\n",
      "| \u001b[0m 250     \u001b[0m | \u001b[0m-13.92   \u001b[0m | \u001b[0m-5.649   \u001b[0m | \u001b[0m 5.064   \u001b[0m | \u001b[0m-5.221   \u001b[0m | \u001b[0m 8.234   \u001b[0m |\n",
      "| \u001b[0m 251     \u001b[0m | \u001b[0m-13.57   \u001b[0m | \u001b[0m-5.226   \u001b[0m | \u001b[0m 11.69   \u001b[0m | \u001b[0m 7.551   \u001b[0m | \u001b[0m 7.879   \u001b[0m |\n",
      "| \u001b[0m 252     \u001b[0m | \u001b[0m-16.74   \u001b[0m | \u001b[0m-0.9156  \u001b[0m | \u001b[0m-8.677   \u001b[0m | \u001b[0m-13.76   \u001b[0m | \u001b[0m-5.345   \u001b[0m |\n",
      "| \u001b[0m 253     \u001b[0m | \u001b[0m-28.3    \u001b[0m | \u001b[0m-13.89   \u001b[0m | \u001b[0m 5.816   \u001b[0m | \u001b[0m 5.111   \u001b[0m | \u001b[0m-2.086   \u001b[0m |\n",
      "| \u001b[0m 254     \u001b[0m | \u001b[0m-21.59   \u001b[0m | \u001b[0m 8.034   \u001b[0m | \u001b[0m 1.08    \u001b[0m | \u001b[0m-13.8    \u001b[0m | \u001b[0m-10.96   \u001b[0m |\n",
      "| \u001b[0m 255     \u001b[0m | \u001b[0m-22.84   \u001b[0m | \u001b[0m-9.198   \u001b[0m | \u001b[0m-4.93    \u001b[0m | \u001b[0m-13.43   \u001b[0m | \u001b[0m 3.154   \u001b[0m |\n",
      "| \u001b[0m 256     \u001b[0m | \u001b[0m-11.68   \u001b[0m | \u001b[0m 0.3618  \u001b[0m | \u001b[0m 3.524   \u001b[0m | \u001b[0m-2.029   \u001b[0m | \u001b[0m 10.43   \u001b[0m |\n",
      "| \u001b[0m 257     \u001b[0m | \u001b[0m-9.957   \u001b[0m | \u001b[0m-0.6418  \u001b[0m | \u001b[0m 7.169   \u001b[0m | \u001b[0m 0.3508  \u001b[0m | \u001b[0m 8.156   \u001b[0m |\n",
      "| \u001b[95m 258     \u001b[0m | \u001b[95m-7.15    \u001b[0m | \u001b[95m-1.271   \u001b[0m | \u001b[95m-2.813   \u001b[0m | \u001b[95m-1.098   \u001b[0m | \u001b[95m 10.62   \u001b[0m |\n",
      "| \u001b[0m 259     \u001b[0m | \u001b[0m-7.43    \u001b[0m | \u001b[0m-1.395   \u001b[0m | \u001b[0m-2.664   \u001b[0m | \u001b[0m-2.088   \u001b[0m | \u001b[0m 11.36   \u001b[0m |\n",
      "| \u001b[0m 260     \u001b[0m | \u001b[0m-9.549   \u001b[0m | \u001b[0m-1.103   \u001b[0m | \u001b[0m-2.367   \u001b[0m | \u001b[0m-1.58    \u001b[0m | \u001b[0m 9.615   \u001b[0m |\n",
      "| \u001b[0m 261     \u001b[0m | \u001b[0m-7.695   \u001b[0m | \u001b[0m-1.892   \u001b[0m | \u001b[0m-3.424   \u001b[0m | \u001b[0m-0.4887  \u001b[0m | \u001b[0m 12.14   \u001b[0m |\n",
      "| \u001b[0m 262     \u001b[0m | \u001b[0m-10.27   \u001b[0m | \u001b[0m-0.9738  \u001b[0m | \u001b[0m-2.541   \u001b[0m | \u001b[0m-0.9354  \u001b[0m | \u001b[0m 11.85   \u001b[0m |\n",
      "| \u001b[0m 263     \u001b[0m | \u001b[0m-9.087   \u001b[0m | \u001b[0m-2.496   \u001b[0m | \u001b[0m-4.469   \u001b[0m | \u001b[0m-1.57    \u001b[0m | \u001b[0m 10.81   \u001b[0m |\n",
      "| \u001b[0m 264     \u001b[0m | \u001b[0m-8.746   \u001b[0m | \u001b[0m-2.515   \u001b[0m | \u001b[0m-2.738   \u001b[0m | \u001b[0m-1.678   \u001b[0m | \u001b[0m 11.29   \u001b[0m |\n",
      "| \u001b[0m 265     \u001b[0m | \u001b[0m-10.37   \u001b[0m | \u001b[0m-1.126   \u001b[0m | \u001b[0m-4.068   \u001b[0m | \u001b[0m-1.659   \u001b[0m | \u001b[0m 11.32   \u001b[0m |\n",
      "| \u001b[0m 266     \u001b[0m | \u001b[0m-8.25    \u001b[0m | \u001b[0m-2.309   \u001b[0m | \u001b[0m-3.708   \u001b[0m | \u001b[0m 1.181   \u001b[0m | \u001b[0m 10.83   \u001b[0m |\n",
      "| \u001b[0m 267     \u001b[0m | \u001b[0m-8.551   \u001b[0m | \u001b[0m-2.231   \u001b[0m | \u001b[0m-3.124   \u001b[0m | \u001b[0m-0.1824  \u001b[0m | \u001b[0m 10.87   \u001b[0m |\n",
      "| \u001b[0m 268     \u001b[0m | \u001b[0m-9.319   \u001b[0m | \u001b[0m-2.634   \u001b[0m | \u001b[0m-4.476   \u001b[0m | \u001b[0m 0.6627  \u001b[0m | \u001b[0m 12.47   \u001b[0m |\n",
      "| \u001b[0m 269     \u001b[0m | \u001b[0m-7.832   \u001b[0m | \u001b[0m-1.806   \u001b[0m | \u001b[0m-1.839   \u001b[0m | \u001b[0m-3.309   \u001b[0m | \u001b[0m 11.4    \u001b[0m |\n",
      "| \u001b[0m 270     \u001b[0m | \u001b[0m-7.893   \u001b[0m | \u001b[0m-1.811   \u001b[0m | \u001b[0m-1.911   \u001b[0m | \u001b[0m-2.851   \u001b[0m | \u001b[0m 11.18   \u001b[0m |\n",
      "| \u001b[0m 271     \u001b[0m | \u001b[0m-8.119   \u001b[0m | \u001b[0m-1.908   \u001b[0m | \u001b[0m-2.172   \u001b[0m | \u001b[0m-3.498   \u001b[0m | \u001b[0m 11.77   \u001b[0m |\n",
      "| \u001b[0m 272     \u001b[0m | \u001b[0m-8.647   \u001b[0m | \u001b[0m-1.803   \u001b[0m | \u001b[0m-2.103   \u001b[0m | \u001b[0m-2.663   \u001b[0m | \u001b[0m 11.11   \u001b[0m |\n",
      "| \u001b[0m 273     \u001b[0m | \u001b[0m-12.91   \u001b[0m | \u001b[0m-1.629   \u001b[0m | \u001b[0m-0.7833  \u001b[0m | \u001b[0m-4.211   \u001b[0m | \u001b[0m 11.82   \u001b[0m |\n",
      "| \u001b[0m 274     \u001b[0m | \u001b[0m-8.51    \u001b[0m | \u001b[0m-2.156   \u001b[0m | \u001b[0m-3.017   \u001b[0m | \u001b[0m-3.226   \u001b[0m | \u001b[0m 11.46   \u001b[0m |\n",
      "| \u001b[0m 275     \u001b[0m | \u001b[0m-8.989   \u001b[0m | \u001b[0m-1.899   \u001b[0m | \u001b[0m-2.533   \u001b[0m | \u001b[0m-2.552   \u001b[0m | \u001b[0m 11.55   \u001b[0m |\n",
      "| \u001b[0m 276     \u001b[0m | \u001b[0m-7.772   \u001b[0m | \u001b[0m-1.419   \u001b[0m | \u001b[0m-3.589   \u001b[0m | \u001b[0m 0.7831  \u001b[0m | \u001b[0m 10.58   \u001b[0m |\n",
      "| \u001b[0m 277     \u001b[0m | \u001b[0m-9.322   \u001b[0m | \u001b[0m-1.114   \u001b[0m | \u001b[0m-3.69    \u001b[0m | \u001b[0m 1.434   \u001b[0m | \u001b[0m 10.1    \u001b[0m |\n",
      "| \u001b[0m 278     \u001b[0m | \u001b[0m-8.339   \u001b[0m | \u001b[0m-1.801   \u001b[0m | \u001b[0m-3.604   \u001b[0m | \u001b[0m 0.2439  \u001b[0m | \u001b[0m 11.16   \u001b[0m |\n",
      "| \u001b[0m 279     \u001b[0m | \u001b[0m-8.035   \u001b[0m | \u001b[0m-1.737   \u001b[0m | \u001b[0m-2.497   \u001b[0m | \u001b[0m-2.94    \u001b[0m | \u001b[0m 10.89   \u001b[0m |\n",
      "| \u001b[0m 280     \u001b[0m | \u001b[0m-7.583   \u001b[0m | \u001b[0m-1.789   \u001b[0m | \u001b[0m-3.163   \u001b[0m | \u001b[0m-0.2109  \u001b[0m | \u001b[0m 10.71   \u001b[0m |\n",
      "| \u001b[95m 281     \u001b[0m | \u001b[95m-7.131   \u001b[0m | \u001b[95m-1.766   \u001b[0m | \u001b[95m-3.086   \u001b[0m | \u001b[95m-0.2441  \u001b[0m | \u001b[95m 10.58   \u001b[0m |\n",
      "| \u001b[0m 282     \u001b[0m | \u001b[0m-8.207   \u001b[0m | \u001b[0m-1.767   \u001b[0m | \u001b[0m-2.963   \u001b[0m | \u001b[0m-0.1634  \u001b[0m | \u001b[0m 10.36   \u001b[0m |\n",
      "| \u001b[0m 283     \u001b[0m | \u001b[0m-7.544   \u001b[0m | \u001b[0m-1.764   \u001b[0m | \u001b[0m-3.215   \u001b[0m | \u001b[0m-0.351   \u001b[0m | \u001b[0m 10.64   \u001b[0m |\n",
      "| \u001b[0m 284     \u001b[0m | \u001b[0m-7.951   \u001b[0m | \u001b[0m-1.765   \u001b[0m | \u001b[0m-3.257   \u001b[0m | \u001b[0m-0.3612  \u001b[0m | \u001b[0m 10.61   \u001b[0m |\n",
      "| \u001b[0m 285     \u001b[0m | \u001b[0m-7.402   \u001b[0m | \u001b[0m-1.76    \u001b[0m | \u001b[0m-3.13    \u001b[0m | \u001b[0m-0.3512  \u001b[0m | \u001b[0m 10.68   \u001b[0m |\n",
      "| \u001b[0m 286     \u001b[0m | \u001b[0m-7.377   \u001b[0m | \u001b[0m-1.757   \u001b[0m | \u001b[0m-3.105   \u001b[0m | \u001b[0m-0.4009  \u001b[0m | \u001b[0m 10.68   \u001b[0m |\n",
      "| \u001b[0m 287     \u001b[0m | \u001b[0m-7.415   \u001b[0m | \u001b[0m-1.758   \u001b[0m | \u001b[0m-3.074   \u001b[0m | \u001b[0m-0.4558  \u001b[0m | \u001b[0m 10.68   \u001b[0m |\n",
      "| \u001b[0m 288     \u001b[0m | \u001b[0m-8.247   \u001b[0m | \u001b[0m-1.762   \u001b[0m | \u001b[0m-3.041   \u001b[0m | \u001b[0m-0.5027  \u001b[0m | \u001b[0m 10.68   \u001b[0m |\n",
      "| \u001b[0m 289     \u001b[0m | \u001b[0m-7.999   \u001b[0m | \u001b[0m-1.751   \u001b[0m | \u001b[0m-3.258   \u001b[0m | \u001b[0m-0.2685  \u001b[0m | \u001b[0m 10.65   \u001b[0m |\n",
      "| \u001b[0m 290     \u001b[0m | \u001b[0m-8.394   \u001b[0m | \u001b[0m-1.747   \u001b[0m | \u001b[0m-2.999   \u001b[0m | \u001b[0m-0.1815  \u001b[0m | \u001b[0m 10.74   \u001b[0m |\n",
      "| \u001b[0m 291     \u001b[0m | \u001b[0m-7.677   \u001b[0m | \u001b[0m-1.818   \u001b[0m | \u001b[0m-3.406   \u001b[0m | \u001b[0m-0.3207  \u001b[0m | \u001b[0m 10.54   \u001b[0m |\n",
      "| \u001b[0m 292     \u001b[0m | \u001b[0m-8.534   \u001b[0m | \u001b[0m-1.823   \u001b[0m | \u001b[0m-3.433   \u001b[0m | \u001b[0m-0.298   \u001b[0m | \u001b[0m 10.52   \u001b[0m |\n",
      "| \u001b[0m 293     \u001b[0m | \u001b[0m-8.18    \u001b[0m | \u001b[0m-1.794   \u001b[0m | \u001b[0m-2.938   \u001b[0m | \u001b[0m-0.6708  \u001b[0m | \u001b[0m 10.73   \u001b[0m |\n",
      "| \u001b[0m 294     \u001b[0m | \u001b[0m-7.435   \u001b[0m | \u001b[0m-1.758   \u001b[0m | \u001b[0m-3.157   \u001b[0m | \u001b[0m-0.06068 \u001b[0m | \u001b[0m 10.84   \u001b[0m |\n",
      "| \u001b[0m 295     \u001b[0m | \u001b[0m-7.918   \u001b[0m | \u001b[0m-1.758   \u001b[0m | \u001b[0m-3.111   \u001b[0m | \u001b[0m 0.0895  \u001b[0m | \u001b[0m 10.91   \u001b[0m |\n",
      "| \u001b[0m 296     \u001b[0m | \u001b[0m-7.915   \u001b[0m | \u001b[0m-1.758   \u001b[0m | \u001b[0m-3.156   \u001b[0m | \u001b[0m-0.007031\u001b[0m | \u001b[0m 10.88   \u001b[0m |\n",
      "| \u001b[0m 297     \u001b[0m | \u001b[0m-7.692   \u001b[0m | \u001b[0m-1.761   \u001b[0m | \u001b[0m-3.181   \u001b[0m | \u001b[0m-0.07628 \u001b[0m | \u001b[0m 10.86   \u001b[0m |\n",
      "| \u001b[0m 298     \u001b[0m | \u001b[0m-8.272   \u001b[0m | \u001b[0m-1.762   \u001b[0m | \u001b[0m-3.17    \u001b[0m | \u001b[0m-0.04308 \u001b[0m | \u001b[0m 10.87   \u001b[0m |\n",
      "| \u001b[0m 299     \u001b[0m | \u001b[0m-7.534   \u001b[0m | \u001b[0m-1.776   \u001b[0m | \u001b[0m-3.119   \u001b[0m | \u001b[0m-0.4176  \u001b[0m | \u001b[0m 10.75   \u001b[0m |\n",
      "| \u001b[0m 300     \u001b[0m | \u001b[0m-7.669   \u001b[0m | \u001b[0m-1.787   \u001b[0m | \u001b[0m-3.079   \u001b[0m | \u001b[0m-0.5072  \u001b[0m | \u001b[0m 10.74   \u001b[0m |\n",
      "| \u001b[0m 301     \u001b[0m | \u001b[0m-7.538   \u001b[0m | \u001b[0m-1.794   \u001b[0m | \u001b[0m-3.056   \u001b[0m | \u001b[0m-0.5515  \u001b[0m | \u001b[0m 10.74   \u001b[0m |\n",
      "| \u001b[0m 302     \u001b[0m | \u001b[0m-8.015   \u001b[0m | \u001b[0m-1.806   \u001b[0m | \u001b[0m-3.016   \u001b[0m | \u001b[0m-0.6301  \u001b[0m | \u001b[0m 10.73   \u001b[0m |\n",
      "| \u001b[0m 303     \u001b[0m | \u001b[0m-8.295   \u001b[0m | \u001b[0m-1.793   \u001b[0m | \u001b[0m-3.093   \u001b[0m | \u001b[0m-0.4981  \u001b[0m | \u001b[0m 10.76   \u001b[0m |\n",
      "| \u001b[0m 304     \u001b[0m | \u001b[0m-7.939   \u001b[0m | \u001b[0m-1.758   \u001b[0m | \u001b[0m-3.237   \u001b[0m | \u001b[0m-0.198   \u001b[0m | \u001b[0m 10.76   \u001b[0m |\n",
      "| \u001b[0m 305     \u001b[0m | \u001b[0m-7.663   \u001b[0m | \u001b[0m-1.747   \u001b[0m | \u001b[0m-3.035   \u001b[0m | \u001b[0m-0.2139  \u001b[0m | \u001b[0m 10.66   \u001b[0m |\n",
      "| \u001b[0m 306     \u001b[0m | \u001b[0m-8.192   \u001b[0m | \u001b[0m-1.748   \u001b[0m | \u001b[0m-2.993   \u001b[0m | \u001b[0m-0.1791  \u001b[0m | \u001b[0m 10.64   \u001b[0m |\n",
      "| \u001b[0m 307     \u001b[0m | \u001b[0m-7.392   \u001b[0m | \u001b[0m-1.815   \u001b[0m | \u001b[0m-3.301   \u001b[0m | \u001b[0m-0.2465  \u001b[0m | \u001b[0m 10.82   \u001b[0m |\n",
      "| \u001b[0m 308     \u001b[0m | \u001b[0m-8.134   \u001b[0m | \u001b[0m-1.839   \u001b[0m | \u001b[0m-3.38    \u001b[0m | \u001b[0m-0.2     \u001b[0m | \u001b[0m 10.86   \u001b[0m |\n",
      "| \u001b[0m 309     \u001b[0m | \u001b[0m-8.217   \u001b[0m | \u001b[0m-1.807   \u001b[0m | \u001b[0m-3.263   \u001b[0m | \u001b[0m-0.2972  \u001b[0m | \u001b[0m 10.8    \u001b[0m |\n",
      "| \u001b[0m 310     \u001b[0m | \u001b[0m-8.264   \u001b[0m | \u001b[0m-1.792   \u001b[0m | \u001b[0m-3.026   \u001b[0m | \u001b[0m-0.4912  \u001b[0m | \u001b[0m 10.68   \u001b[0m |\n",
      "| \u001b[0m 311     \u001b[0m | \u001b[0m-7.722   \u001b[0m | \u001b[0m-1.77    \u001b[0m | \u001b[0m-3.291   \u001b[0m | \u001b[0m-0.08641 \u001b[0m | \u001b[0m 10.78   \u001b[0m |\n",
      "| \u001b[0m 312     \u001b[0m | \u001b[0m-7.573   \u001b[0m | \u001b[0m-1.776   \u001b[0m | \u001b[0m-3.312   \u001b[0m | \u001b[0m-0.0663  \u001b[0m | \u001b[0m 10.79   \u001b[0m |\n",
      "| \u001b[0m 313     \u001b[0m | \u001b[0m-7.523   \u001b[0m | \u001b[0m-1.782   \u001b[0m | \u001b[0m-3.355   \u001b[0m | \u001b[0m-0.03264 \u001b[0m | \u001b[0m 10.81   \u001b[0m |\n",
      "| \u001b[0m 314     \u001b[0m | \u001b[0m-7.429   \u001b[0m | \u001b[0m-1.787   \u001b[0m | \u001b[0m-3.407   \u001b[0m | \u001b[0m 0.000237\u001b[0m | \u001b[0m 10.84   \u001b[0m |\n",
      "| \u001b[0m 315     \u001b[0m | \u001b[0m-7.826   \u001b[0m | \u001b[0m-1.792   \u001b[0m | \u001b[0m-3.475   \u001b[0m | \u001b[0m 0.03584 \u001b[0m | \u001b[0m 10.86   \u001b[0m |\n",
      "| \u001b[0m 316     \u001b[0m | \u001b[0m-8.744   \u001b[0m | \u001b[0m-1.793   \u001b[0m | \u001b[0m-3.462   \u001b[0m | \u001b[0m 0.03174 \u001b[0m | \u001b[0m 10.86   \u001b[0m |\n",
      "| \u001b[0m 317     \u001b[0m | \u001b[0m-8.04    \u001b[0m | \u001b[0m-1.775   \u001b[0m | \u001b[0m-3.091   \u001b[0m | \u001b[0m-0.01334 \u001b[0m | \u001b[0m 10.72   \u001b[0m |\n",
      "| \u001b[0m 318     \u001b[0m | \u001b[0m-7.665   \u001b[0m | \u001b[0m-1.719   \u001b[0m | \u001b[0m-3.192   \u001b[0m | \u001b[0m-0.1581  \u001b[0m | \u001b[0m 10.65   \u001b[0m |\n",
      "| \u001b[0m 319     \u001b[0m | \u001b[0m-7.908   \u001b[0m | \u001b[0m-1.709   \u001b[0m | \u001b[0m-3.189   \u001b[0m | \u001b[0m-0.1408  \u001b[0m | \u001b[0m 10.61   \u001b[0m |\n",
      "| \u001b[0m 320     \u001b[0m | \u001b[0m-7.576   \u001b[0m | \u001b[0m-1.734   \u001b[0m | \u001b[0m-3.177   \u001b[0m | \u001b[0m-0.1343  \u001b[0m | \u001b[0m 10.64   \u001b[0m |\n",
      "| \u001b[0m 321     \u001b[0m | \u001b[0m-7.914   \u001b[0m | \u001b[0m-1.735   \u001b[0m | \u001b[0m-3.165   \u001b[0m | \u001b[0m-0.09943 \u001b[0m | \u001b[0m 10.59   \u001b[0m |\n",
      "| \u001b[0m 322     \u001b[0m | \u001b[0m-7.709   \u001b[0m | \u001b[0m-1.748   \u001b[0m | \u001b[0m-3.141   \u001b[0m | \u001b[0m-0.08986 \u001b[0m | \u001b[0m 10.65   \u001b[0m |\n",
      "| \u001b[0m 323     \u001b[0m | \u001b[0m-7.511   \u001b[0m | \u001b[0m-1.765   \u001b[0m | \u001b[0m-3.116   \u001b[0m | \u001b[0m-0.05854 \u001b[0m | \u001b[0m 10.65   \u001b[0m |\n",
      "| \u001b[0m 324     \u001b[0m | \u001b[0m-8.119   \u001b[0m | \u001b[0m-1.779   \u001b[0m | \u001b[0m-3.069   \u001b[0m | \u001b[0m 0.003157\u001b[0m | \u001b[0m 10.63   \u001b[0m |\n",
      "| \u001b[0m 325     \u001b[0m | \u001b[0m-7.854   \u001b[0m | \u001b[0m-1.729   \u001b[0m | \u001b[0m-3.228   \u001b[0m | \u001b[0m-0.1549  \u001b[0m | \u001b[0m 10.59   \u001b[0m |\n",
      "| \u001b[0m 326     \u001b[0m | \u001b[0m-8.084   \u001b[0m | \u001b[0m-1.75    \u001b[0m | \u001b[0m-3.224   \u001b[0m | \u001b[0m-0.1486  \u001b[0m | \u001b[0m 10.59   \u001b[0m |\n",
      "| \u001b[0m 327     \u001b[0m | \u001b[0m-8.104   \u001b[0m | \u001b[0m-1.826   \u001b[0m | \u001b[0m-3.135   \u001b[0m | \u001b[0m-0.07994 \u001b[0m | \u001b[0m 10.84   \u001b[0m |\n",
      "| \u001b[0m 328     \u001b[0m | \u001b[0m-7.333   \u001b[0m | \u001b[0m-1.699   \u001b[0m | \u001b[0m-3.231   \u001b[0m | \u001b[0m-0.24    \u001b[0m | \u001b[0m 10.64   \u001b[0m |\n",
      "| \u001b[0m 329     \u001b[0m | \u001b[0m-8.726   \u001b[0m | \u001b[0m-1.657   \u001b[0m | \u001b[0m-3.259   \u001b[0m | \u001b[0m-0.2317  \u001b[0m | \u001b[0m 10.59   \u001b[0m |\n",
      "| \u001b[0m 330     \u001b[0m | \u001b[0m-8.074   \u001b[0m | \u001b[0m-1.919   \u001b[0m | \u001b[0m-3.126   \u001b[0m | \u001b[0m-0.1364  \u001b[0m | \u001b[0m 10.87   \u001b[0m |\n",
      "| \u001b[0m 331     \u001b[0m | \u001b[0m-7.761   \u001b[0m | \u001b[0m-1.888   \u001b[0m | \u001b[0m-3.141   \u001b[0m | \u001b[0m-0.2461  \u001b[0m | \u001b[0m 10.82   \u001b[0m |\n",
      "| \u001b[0m 332     \u001b[0m | \u001b[0m-7.658   \u001b[0m | \u001b[0m-1.902   \u001b[0m | \u001b[0m-3.137   \u001b[0m | \u001b[0m-0.2312  \u001b[0m | \u001b[0m 10.83   \u001b[0m |\n",
      "| \u001b[0m 333     \u001b[0m | \u001b[0m-7.842   \u001b[0m | \u001b[0m-1.928   \u001b[0m | \u001b[0m-3.129   \u001b[0m | \u001b[0m-0.2095  \u001b[0m | \u001b[0m 10.85   \u001b[0m |\n",
      "| \u001b[0m 334     \u001b[0m | \u001b[0m-8.283   \u001b[0m | \u001b[0m-1.928   \u001b[0m | \u001b[0m-3.126   \u001b[0m | \u001b[0m-0.2112  \u001b[0m | \u001b[0m 10.84   \u001b[0m |\n",
      "| \u001b[0m 335     \u001b[0m | \u001b[0m-8.88    \u001b[0m | \u001b[0m-1.812   \u001b[0m | \u001b[0m-3.121   \u001b[0m | \u001b[0m-0.3948  \u001b[0m | \u001b[0m 10.74   \u001b[0m |\n",
      "| \u001b[0m 336     \u001b[0m | \u001b[0m-7.753   \u001b[0m | \u001b[0m-1.737   \u001b[0m | \u001b[0m-3.164   \u001b[0m | \u001b[0m 0.08951 \u001b[0m | \u001b[0m 10.79   \u001b[0m |\n",
      "| \u001b[0m 337     \u001b[0m | \u001b[0m-7.454   \u001b[0m | \u001b[0m-1.74    \u001b[0m | \u001b[0m-3.148   \u001b[0m | \u001b[0m 0.1193  \u001b[0m | \u001b[0m 10.8    \u001b[0m |\n",
      "| \u001b[0m 338     \u001b[0m | \u001b[0m-7.742   \u001b[0m | \u001b[0m-1.742   \u001b[0m | \u001b[0m-3.098   \u001b[0m | \u001b[0m 0.2291  \u001b[0m | \u001b[0m 10.85   \u001b[0m |\n",
      "| \u001b[0m 339     \u001b[0m | \u001b[0m-8.167   \u001b[0m | \u001b[0m-1.746   \u001b[0m | \u001b[0m-3.081   \u001b[0m | \u001b[0m 0.2648  \u001b[0m | \u001b[0m 10.86   \u001b[0m |\n",
      "| \u001b[0m 340     \u001b[0m | \u001b[0m-7.632   \u001b[0m | \u001b[0m-1.723   \u001b[0m | \u001b[0m-3.151   \u001b[0m | \u001b[0m 0.1221  \u001b[0m | \u001b[0m 10.79   \u001b[0m |\n",
      "| \u001b[0m 341     \u001b[0m | \u001b[0m-9.407   \u001b[0m | \u001b[0m-1.722   \u001b[0m | \u001b[0m-3.126   \u001b[0m | \u001b[0m 0.1646  \u001b[0m | \u001b[0m 10.81   \u001b[0m |\n",
      "| \u001b[0m 342     \u001b[0m | \u001b[0m-8.042   \u001b[0m | \u001b[0m-1.874   \u001b[0m | \u001b[0m-3.364   \u001b[0m | \u001b[0m-0.1529  \u001b[0m | \u001b[0m 10.6    \u001b[0m |\n",
      "| \u001b[0m 343     \u001b[0m | \u001b[0m-8.224   \u001b[0m | \u001b[0m-1.851   \u001b[0m | \u001b[0m-3.339   \u001b[0m | \u001b[0m-0.1912  \u001b[0m | \u001b[0m 10.65   \u001b[0m |\n",
      "| \u001b[0m 344     \u001b[0m | \u001b[0m-8.184   \u001b[0m | \u001b[0m-1.774   \u001b[0m | \u001b[0m-3.218   \u001b[0m | \u001b[0m-0.3495  \u001b[0m | \u001b[0m 10.75   \u001b[0m |\n",
      "| \u001b[0m 345     \u001b[0m | \u001b[0m-8.077   \u001b[0m | \u001b[0m-1.844   \u001b[0m | \u001b[0m-3.219   \u001b[0m | \u001b[0m-0.2218  \u001b[0m | \u001b[0m 10.62   \u001b[0m |\n",
      "| \u001b[0m 346     \u001b[0m | \u001b[0m-7.758   \u001b[0m | \u001b[0m-1.752   \u001b[0m | \u001b[0m-3.22    \u001b[0m | \u001b[0m-0.2825  \u001b[0m | \u001b[0m 10.79   \u001b[0m |\n",
      "| \u001b[0m 347     \u001b[0m | \u001b[0m-7.913   \u001b[0m | \u001b[0m-1.754   \u001b[0m | \u001b[0m-3.241   \u001b[0m | \u001b[0m-0.2686  \u001b[0m | \u001b[0m 10.8    \u001b[0m |\n",
      "| \u001b[0m 348     \u001b[0m | \u001b[0m-7.543   \u001b[0m | \u001b[0m-1.764   \u001b[0m | \u001b[0m-3.236   \u001b[0m | \u001b[0m-0.2765  \u001b[0m | \u001b[0m 10.8    \u001b[0m |\n",
      "| \u001b[0m 349     \u001b[0m | \u001b[0m-7.473   \u001b[0m | \u001b[0m-1.762   \u001b[0m | \u001b[0m-3.265   \u001b[0m | \u001b[0m-0.2671  \u001b[0m | \u001b[0m 10.83   \u001b[0m |\n",
      "| \u001b[95m 350     \u001b[0m | \u001b[95m-7.075   \u001b[0m | \u001b[95m-1.76    \u001b[0m | \u001b[95m-3.299   \u001b[0m | \u001b[95m-0.2517  \u001b[0m | \u001b[95m 10.87   \u001b[0m |\n",
      "| \u001b[0m 351     \u001b[0m | \u001b[0m-7.716   \u001b[0m | \u001b[0m-1.751   \u001b[0m | \u001b[0m-3.366   \u001b[0m | \u001b[0m-0.2236  \u001b[0m | \u001b[0m 10.93   \u001b[0m |\n",
      "| \u001b[0m 352     \u001b[0m | \u001b[0m-7.891   \u001b[0m | \u001b[0m-1.752   \u001b[0m | \u001b[0m-3.381   \u001b[0m | \u001b[0m-0.2132  \u001b[0m | \u001b[0m 10.94   \u001b[0m |\n",
      "| \u001b[0m 353     \u001b[0m | \u001b[0m-8.355   \u001b[0m | \u001b[0m-1.753   \u001b[0m | \u001b[0m-3.373   \u001b[0m | \u001b[0m-0.2189  \u001b[0m | \u001b[0m 10.93   \u001b[0m |\n",
      "| \u001b[0m 354     \u001b[0m | \u001b[0m-7.428   \u001b[0m | \u001b[0m-1.765   \u001b[0m | \u001b[0m-3.293   \u001b[0m | \u001b[0m-0.2833  \u001b[0m | \u001b[0m 10.88   \u001b[0m |\n",
      "| \u001b[0m 355     \u001b[0m | \u001b[0m-7.421   \u001b[0m | \u001b[0m-1.767   \u001b[0m | \u001b[0m-3.321   \u001b[0m | \u001b[0m-0.2765  \u001b[0m | \u001b[0m 10.91   \u001b[0m |\n",
      "| \u001b[0m 356     \u001b[0m | \u001b[0m-7.663   \u001b[0m | \u001b[0m-1.768   \u001b[0m | \u001b[0m-3.352   \u001b[0m | \u001b[0m-0.2656  \u001b[0m | \u001b[0m 10.94   \u001b[0m |\n",
      "| \u001b[0m 357     \u001b[0m | \u001b[0m-7.308   \u001b[0m | \u001b[0m-1.77    \u001b[0m | \u001b[0m-3.367   \u001b[0m | \u001b[0m-0.2581  \u001b[0m | \u001b[0m 10.96   \u001b[0m |\n",
      "| \u001b[0m 358     \u001b[0m | \u001b[0m-7.272   \u001b[0m | \u001b[0m-1.771   \u001b[0m | \u001b[0m-3.412   \u001b[0m | \u001b[0m-0.2354  \u001b[0m | \u001b[0m 11.0    \u001b[0m |\n",
      "| \u001b[0m 359     \u001b[0m | \u001b[0m-7.817   \u001b[0m | \u001b[0m-1.772   \u001b[0m | \u001b[0m-3.465   \u001b[0m | \u001b[0m-0.2042  \u001b[0m | \u001b[0m 11.05   \u001b[0m |\n",
      "| \u001b[0m 360     \u001b[0m | \u001b[0m-8.461   \u001b[0m | \u001b[0m-1.773   \u001b[0m | \u001b[0m-3.461   \u001b[0m | \u001b[0m-0.2066  \u001b[0m | \u001b[0m 11.04   \u001b[0m |\n",
      "| \u001b[0m 361     \u001b[0m | \u001b[0m-7.899   \u001b[0m | \u001b[0m-1.776   \u001b[0m | \u001b[0m-3.366   \u001b[0m | \u001b[0m-0.2833  \u001b[0m | \u001b[0m 10.98   \u001b[0m |\n",
      "| \u001b[0m 362     \u001b[0m | \u001b[0m-7.466   \u001b[0m | \u001b[0m-1.778   \u001b[0m | \u001b[0m-3.36    \u001b[0m | \u001b[0m-0.2864  \u001b[0m | \u001b[0m 10.97   \u001b[0m |\n",
      "| \u001b[0m 363     \u001b[0m | \u001b[0m-8.353   \u001b[0m | \u001b[0m-1.784   \u001b[0m | \u001b[0m-3.379   \u001b[0m | \u001b[0m-0.28    \u001b[0m | \u001b[0m 10.99   \u001b[0m |\n",
      "| \u001b[0m 364     \u001b[0m | \u001b[0m-7.721   \u001b[0m | \u001b[0m-1.77    \u001b[0m | \u001b[0m-3.339   \u001b[0m | \u001b[0m-0.2981  \u001b[0m | \u001b[0m 10.95   \u001b[0m |\n",
      "| \u001b[0m 365     \u001b[0m | \u001b[0m-7.492   \u001b[0m | \u001b[0m-1.774   \u001b[0m | \u001b[0m-3.342   \u001b[0m | \u001b[0m-0.2998  \u001b[0m | \u001b[0m 10.95   \u001b[0m |\n",
      "| \u001b[0m 366     \u001b[0m | \u001b[0m-7.894   \u001b[0m | \u001b[0m-1.781   \u001b[0m | \u001b[0m-3.356   \u001b[0m | \u001b[0m-0.2987  \u001b[0m | \u001b[0m 10.97   \u001b[0m |\n",
      "| \u001b[0m 367     \u001b[0m | \u001b[0m-10.21   \u001b[0m | \u001b[0m-1.78    \u001b[0m | \u001b[0m-3.351   \u001b[0m | \u001b[0m-0.3004  \u001b[0m | \u001b[0m 10.97   \u001b[0m |\n",
      "| \u001b[0m 368     \u001b[0m | \u001b[0m-7.677   \u001b[0m | \u001b[0m-1.67    \u001b[0m | \u001b[0m-3.219   \u001b[0m | \u001b[0m-0.2862  \u001b[0m | \u001b[0m 10.71   \u001b[0m |\n",
      "| \u001b[0m 369     \u001b[0m | \u001b[0m-7.808   \u001b[0m | \u001b[0m-1.652   \u001b[0m | \u001b[0m-3.223   \u001b[0m | \u001b[0m-0.282   \u001b[0m | \u001b[0m 10.7    \u001b[0m |\n",
      "| \u001b[0m 370     \u001b[0m | \u001b[0m-7.224   \u001b[0m | \u001b[0m-1.648   \u001b[0m | \u001b[0m-3.224   \u001b[0m | \u001b[0m-0.2787  \u001b[0m | \u001b[0m 10.7    \u001b[0m |\n",
      "| \u001b[0m 371     \u001b[0m | \u001b[0m-7.27    \u001b[0m | \u001b[0m-1.589   \u001b[0m | \u001b[0m-3.234   \u001b[0m | \u001b[0m-0.2703  \u001b[0m | \u001b[0m 10.66   \u001b[0m |\n",
      "| \u001b[0m 372     \u001b[0m | \u001b[0m-7.988   \u001b[0m | \u001b[0m-1.524   \u001b[0m | \u001b[0m-3.247   \u001b[0m | \u001b[0m-0.2578  \u001b[0m | \u001b[0m 10.63   \u001b[0m |\n",
      "| \u001b[0m 373     \u001b[0m | \u001b[0m-7.951   \u001b[0m | \u001b[0m-1.55    \u001b[0m | \u001b[0m-3.242   \u001b[0m | \u001b[0m-0.2646  \u001b[0m | \u001b[0m 10.64   \u001b[0m |\n",
      "| \u001b[0m 374     \u001b[0m | \u001b[0m-7.679   \u001b[0m | \u001b[0m-1.567   \u001b[0m | \u001b[0m-3.237   \u001b[0m | \u001b[0m-0.2704  \u001b[0m | \u001b[0m 10.65   \u001b[0m |\n",
      "| \u001b[0m 375     \u001b[0m | \u001b[0m-7.972   \u001b[0m | \u001b[0m-1.551   \u001b[0m | \u001b[0m-3.241   \u001b[0m | \u001b[0m-0.2665  \u001b[0m | \u001b[0m 10.64   \u001b[0m |\n",
      "| \u001b[95m 376     \u001b[0m | \u001b[95m-7.031   \u001b[0m | \u001b[95m-1.569   \u001b[0m | \u001b[95m-3.236   \u001b[0m | \u001b[95m-0.2707  \u001b[0m | \u001b[95m 10.65   \u001b[0m |\n",
      "| \u001b[0m 377     \u001b[0m | \u001b[0m-8.338   \u001b[0m | \u001b[0m-1.491   \u001b[0m | \u001b[0m-3.253   \u001b[0m | \u001b[0m-0.2535  \u001b[0m | \u001b[0m 10.61   \u001b[0m |\n",
      "| \u001b[0m 378     \u001b[0m | \u001b[0m-7.608   \u001b[0m | \u001b[0m-1.567   \u001b[0m | \u001b[0m-3.232   \u001b[0m | \u001b[0m-0.2839  \u001b[0m | \u001b[0m 10.65   \u001b[0m |\n",
      "| \u001b[0m 379     \u001b[0m | \u001b[0m-7.419   \u001b[0m | \u001b[0m-1.547   \u001b[0m | \u001b[0m-3.238   \u001b[0m | \u001b[0m-0.2773  \u001b[0m | \u001b[0m 10.63   \u001b[0m |\n",
      "| \u001b[0m 380     \u001b[0m | \u001b[0m-7.559   \u001b[0m | \u001b[0m-1.509   \u001b[0m | \u001b[0m-3.246   \u001b[0m | \u001b[0m-0.2687  \u001b[0m | \u001b[0m 10.61   \u001b[0m |\n",
      "| \u001b[0m 381     \u001b[0m | \u001b[0m-8.056   \u001b[0m | \u001b[0m-1.484   \u001b[0m | \u001b[0m-3.252   \u001b[0m | \u001b[0m-0.2614  \u001b[0m | \u001b[0m 10.6    \u001b[0m |\n",
      "| \u001b[0m 382     \u001b[0m | \u001b[0m-7.823   \u001b[0m | \u001b[0m-1.514   \u001b[0m | \u001b[0m-3.243   \u001b[0m | \u001b[0m-0.2722  \u001b[0m | \u001b[0m 10.62   \u001b[0m |\n",
      "| \u001b[95m 383     \u001b[0m | \u001b[95m-7.025   \u001b[0m | \u001b[95m-1.517   \u001b[0m | \u001b[95m-3.243   \u001b[0m | \u001b[95m-0.2726  \u001b[0m | \u001b[95m 10.62   \u001b[0m |\n",
      "| \u001b[0m 384     \u001b[0m | \u001b[0m-7.723   \u001b[0m | \u001b[0m-1.446   \u001b[0m | \u001b[0m-3.261   \u001b[0m | \u001b[0m-0.2537  \u001b[0m | \u001b[0m 10.57   \u001b[0m |\n",
      "| \u001b[0m 385     \u001b[0m | \u001b[0m-8.137   \u001b[0m | \u001b[0m-1.441   \u001b[0m | \u001b[0m-3.263   \u001b[0m | \u001b[0m-0.2507  \u001b[0m | \u001b[0m 10.57   \u001b[0m |\n",
      "| \u001b[0m 386     \u001b[0m | \u001b[0m-7.88    \u001b[0m | \u001b[0m-1.483   \u001b[0m | \u001b[0m-3.249   \u001b[0m | \u001b[0m-0.2688  \u001b[0m | \u001b[0m 10.6    \u001b[0m |\n",
      "| \u001b[0m 387     \u001b[0m | \u001b[0m-8.121   \u001b[0m | \u001b[0m-1.492   \u001b[0m | \u001b[0m-3.247   \u001b[0m | \u001b[0m-0.2713  \u001b[0m | \u001b[0m 10.6    \u001b[0m |\n",
      "| \u001b[0m 388     \u001b[0m | \u001b[0m-7.737   \u001b[0m | \u001b[0m-1.522   \u001b[0m | \u001b[0m-3.239   \u001b[0m | \u001b[0m-0.2832  \u001b[0m | \u001b[0m 10.61   \u001b[0m |\n",
      "| \u001b[0m 389     \u001b[0m | \u001b[0m-9.363   \u001b[0m | \u001b[0m-1.517   \u001b[0m | \u001b[0m-3.241   \u001b[0m | \u001b[0m-0.2801  \u001b[0m | \u001b[0m 10.61   \u001b[0m |\n",
      "| \u001b[0m 390     \u001b[0m | \u001b[0m-7.591   \u001b[0m | \u001b[0m-1.678   \u001b[0m | \u001b[0m-3.158   \u001b[0m | \u001b[0m-0.4087  \u001b[0m | \u001b[0m 10.69   \u001b[0m |\n",
      "| \u001b[0m 391     \u001b[0m | \u001b[0m-7.505   \u001b[0m | \u001b[0m-1.681   \u001b[0m | \u001b[0m-3.14    \u001b[0m | \u001b[0m-0.4429  \u001b[0m | \u001b[0m 10.69   \u001b[0m |\n",
      "| \u001b[0m 392     \u001b[0m | \u001b[0m-8.02    \u001b[0m | \u001b[0m-1.686   \u001b[0m | \u001b[0m-3.117   \u001b[0m | \u001b[0m-0.4849  \u001b[0m | \u001b[0m 10.68   \u001b[0m |\n",
      "| \u001b[0m 393     \u001b[0m | \u001b[0m-7.174   \u001b[0m | \u001b[0m-1.683   \u001b[0m | \u001b[0m-3.136   \u001b[0m | \u001b[0m-0.4529  \u001b[0m | \u001b[0m 10.68   \u001b[0m |\n",
      "| \u001b[0m 394     \u001b[0m | \u001b[0m-7.268   \u001b[0m | \u001b[0m-1.692   \u001b[0m | \u001b[0m-3.097   \u001b[0m | \u001b[0m-0.535   \u001b[0m | \u001b[0m 10.68   \u001b[0m |\n",
      "| \u001b[0m 395     \u001b[0m | \u001b[0m-7.802   \u001b[0m | \u001b[0m-1.703   \u001b[0m | \u001b[0m-3.058   \u001b[0m | \u001b[0m-0.6207  \u001b[0m | \u001b[0m 10.67   \u001b[0m |\n"
     ]
    },
    {
     "ename": "KeyboardInterrupt",
     "evalue": "",
     "output_type": "error",
     "traceback": [
      "\u001b[0;31m---------------------------------------------------------------------------\u001b[0m",
      "\u001b[0;31mStopIteration\u001b[0m                             Traceback (most recent call last)",
      "\u001b[0;32m~/miniconda3/envs/main2/lib/python3.7/site-packages/bayes_opt/bayesian_optimization.py\u001b[0m in \u001b[0;36mmaximize\u001b[0;34m(self, init_points, n_iter, acq, kappa, xi, **gp_params)\u001b[0m\n\u001b[1;32m    168\u001b[0m             \u001b[0;32mtry\u001b[0m\u001b[0;34m:\u001b[0m\u001b[0;34m\u001b[0m\u001b[0;34m\u001b[0m\u001b[0m\n\u001b[0;32m--> 169\u001b[0;31m                 \u001b[0mx_probe\u001b[0m \u001b[0;34m=\u001b[0m \u001b[0mnext\u001b[0m\u001b[0;34m(\u001b[0m\u001b[0mself\u001b[0m\u001b[0;34m.\u001b[0m\u001b[0m_queue\u001b[0m\u001b[0;34m)\u001b[0m\u001b[0;34m\u001b[0m\u001b[0;34m\u001b[0m\u001b[0m\n\u001b[0m\u001b[1;32m    170\u001b[0m             \u001b[0;32mexcept\u001b[0m \u001b[0mStopIteration\u001b[0m\u001b[0;34m:\u001b[0m\u001b[0;34m\u001b[0m\u001b[0;34m\u001b[0m\u001b[0m\n",
      "\u001b[0;32m~/miniconda3/envs/main2/lib/python3.7/site-packages/bayes_opt/bayesian_optimization.py\u001b[0m in \u001b[0;36m__next__\u001b[0;34m(self)\u001b[0m\n\u001b[1;32m     25\u001b[0m         \u001b[0;32mif\u001b[0m \u001b[0mself\u001b[0m\u001b[0;34m.\u001b[0m\u001b[0mempty\u001b[0m\u001b[0;34m:\u001b[0m\u001b[0;34m\u001b[0m\u001b[0;34m\u001b[0m\u001b[0m\n\u001b[0;32m---> 26\u001b[0;31m             \u001b[0;32mraise\u001b[0m \u001b[0mStopIteration\u001b[0m\u001b[0;34m(\u001b[0m\u001b[0;34m\"Queue is empty, no more objects to retrieve.\"\u001b[0m\u001b[0;34m)\u001b[0m\u001b[0;34m\u001b[0m\u001b[0;34m\u001b[0m\u001b[0m\n\u001b[0m\u001b[1;32m     27\u001b[0m         \u001b[0mobj\u001b[0m \u001b[0;34m=\u001b[0m \u001b[0mself\u001b[0m\u001b[0;34m.\u001b[0m\u001b[0m_queue\u001b[0m\u001b[0;34m[\u001b[0m\u001b[0;36m0\u001b[0m\u001b[0;34m]\u001b[0m\u001b[0;34m\u001b[0m\u001b[0;34m\u001b[0m\u001b[0m\n",
      "\u001b[0;31mStopIteration\u001b[0m: Queue is empty, no more objects to retrieve.",
      "\nDuring handling of the above exception, another exception occurred:\n",
      "\u001b[0;31mKeyboardInterrupt\u001b[0m                         Traceback (most recent call last)",
      "\u001b[0;32m<ipython-input-31-166c5c45facc>\u001b[0m in \u001b[0;36m<module>\u001b[0;34m\u001b[0m\n\u001b[0;32m----> 1\u001b[0;31m \u001b[0moptimizer\u001b[0m\u001b[0;34m.\u001b[0m\u001b[0mmaximize\u001b[0m\u001b[0;34m(\u001b[0m\u001b[0minit_points\u001b[0m\u001b[0;34m=\u001b[0m\u001b[0;36m4\u001b[0m\u001b[0;34m**\u001b[0m\u001b[0mlen\u001b[0m\u001b[0;34m(\u001b[0m\u001b[0mcur_std\u001b[0m\u001b[0;34m)\u001b[0m\u001b[0;34m,\u001b[0m \u001b[0mn_iter\u001b[0m\u001b[0;34m=\u001b[0m\u001b[0;36m2500\u001b[0m\u001b[0;34m,\u001b[0m \u001b[0malpha\u001b[0m\u001b[0;34m=\u001b[0m\u001b[0;36m1e-2\u001b[0m\u001b[0;34m,\u001b[0m \u001b[0mnormalize_y\u001b[0m\u001b[0;34m=\u001b[0m\u001b[0;32mTrue\u001b[0m\u001b[0;34m)\u001b[0m\u001b[0;34m\u001b[0m\u001b[0;34m\u001b[0m\u001b[0m\n\u001b[0m",
      "\u001b[0;32m~/miniconda3/envs/main2/lib/python3.7/site-packages/bayes_opt/bayesian_optimization.py\u001b[0m in \u001b[0;36mmaximize\u001b[0;34m(self, init_points, n_iter, acq, kappa, xi, **gp_params)\u001b[0m\n\u001b[1;32m    169\u001b[0m                 \u001b[0mx_probe\u001b[0m \u001b[0;34m=\u001b[0m \u001b[0mnext\u001b[0m\u001b[0;34m(\u001b[0m\u001b[0mself\u001b[0m\u001b[0;34m.\u001b[0m\u001b[0m_queue\u001b[0m\u001b[0;34m)\u001b[0m\u001b[0;34m\u001b[0m\u001b[0;34m\u001b[0m\u001b[0m\n\u001b[1;32m    170\u001b[0m             \u001b[0;32mexcept\u001b[0m \u001b[0mStopIteration\u001b[0m\u001b[0;34m:\u001b[0m\u001b[0;34m\u001b[0m\u001b[0;34m\u001b[0m\u001b[0m\n\u001b[0;32m--> 171\u001b[0;31m                 \u001b[0mx_probe\u001b[0m \u001b[0;34m=\u001b[0m \u001b[0mself\u001b[0m\u001b[0;34m.\u001b[0m\u001b[0msuggest\u001b[0m\u001b[0;34m(\u001b[0m\u001b[0mutil\u001b[0m\u001b[0;34m)\u001b[0m\u001b[0;34m\u001b[0m\u001b[0;34m\u001b[0m\u001b[0m\n\u001b[0m\u001b[1;32m    172\u001b[0m                 \u001b[0miteration\u001b[0m \u001b[0;34m+=\u001b[0m \u001b[0;36m1\u001b[0m\u001b[0;34m\u001b[0m\u001b[0;34m\u001b[0m\u001b[0m\n\u001b[1;32m    173\u001b[0m \u001b[0;34m\u001b[0m\u001b[0m\n",
      "\u001b[0;32m~/miniconda3/envs/main2/lib/python3.7/site-packages/bayes_opt/bayesian_optimization.py\u001b[0m in \u001b[0;36msuggest\u001b[0;34m(self, utility_function)\u001b[0m\n\u001b[1;32m    130\u001b[0m             \u001b[0my_max\u001b[0m\u001b[0;34m=\u001b[0m\u001b[0mself\u001b[0m\u001b[0;34m.\u001b[0m\u001b[0m_space\u001b[0m\u001b[0;34m.\u001b[0m\u001b[0mtarget\u001b[0m\u001b[0;34m.\u001b[0m\u001b[0mmax\u001b[0m\u001b[0;34m(\u001b[0m\u001b[0;34m)\u001b[0m\u001b[0;34m,\u001b[0m\u001b[0;34m\u001b[0m\u001b[0;34m\u001b[0m\u001b[0m\n\u001b[1;32m    131\u001b[0m             \u001b[0mbounds\u001b[0m\u001b[0;34m=\u001b[0m\u001b[0mself\u001b[0m\u001b[0;34m.\u001b[0m\u001b[0m_space\u001b[0m\u001b[0;34m.\u001b[0m\u001b[0mbounds\u001b[0m\u001b[0;34m,\u001b[0m\u001b[0;34m\u001b[0m\u001b[0;34m\u001b[0m\u001b[0m\n\u001b[0;32m--> 132\u001b[0;31m             \u001b[0mrandom_state\u001b[0m\u001b[0;34m=\u001b[0m\u001b[0mself\u001b[0m\u001b[0;34m.\u001b[0m\u001b[0m_random_state\u001b[0m\u001b[0;34m\u001b[0m\u001b[0;34m\u001b[0m\u001b[0m\n\u001b[0m\u001b[1;32m    133\u001b[0m         )\n\u001b[1;32m    134\u001b[0m \u001b[0;34m\u001b[0m\u001b[0m\n",
      "\u001b[0;32m~/miniconda3/envs/main2/lib/python3.7/site-packages/bayes_opt/util.py\u001b[0m in \u001b[0;36macq_max\u001b[0;34m(ac, gp, y_max, bounds, random_state, n_warmup, n_iter)\u001b[0m\n\u001b[1;32m     44\u001b[0m     x_tries = random_state.uniform(bounds[:, 0], bounds[:, 1],\n\u001b[1;32m     45\u001b[0m                                    size=(n_warmup, bounds.shape[0]))\n\u001b[0;32m---> 46\u001b[0;31m     \u001b[0mys\u001b[0m \u001b[0;34m=\u001b[0m \u001b[0mac\u001b[0m\u001b[0;34m(\u001b[0m\u001b[0mx_tries\u001b[0m\u001b[0;34m,\u001b[0m \u001b[0mgp\u001b[0m\u001b[0;34m=\u001b[0m\u001b[0mgp\u001b[0m\u001b[0;34m,\u001b[0m \u001b[0my_max\u001b[0m\u001b[0;34m=\u001b[0m\u001b[0my_max\u001b[0m\u001b[0;34m)\u001b[0m\u001b[0;34m\u001b[0m\u001b[0;34m\u001b[0m\u001b[0m\n\u001b[0m\u001b[1;32m     47\u001b[0m     \u001b[0mx_max\u001b[0m \u001b[0;34m=\u001b[0m \u001b[0mx_tries\u001b[0m\u001b[0;34m[\u001b[0m\u001b[0mys\u001b[0m\u001b[0;34m.\u001b[0m\u001b[0margmax\u001b[0m\u001b[0;34m(\u001b[0m\u001b[0;34m)\u001b[0m\u001b[0;34m]\u001b[0m\u001b[0;34m\u001b[0m\u001b[0;34m\u001b[0m\u001b[0m\n\u001b[1;32m     48\u001b[0m     \u001b[0mmax_acq\u001b[0m \u001b[0;34m=\u001b[0m \u001b[0mys\u001b[0m\u001b[0;34m.\u001b[0m\u001b[0mmax\u001b[0m\u001b[0;34m(\u001b[0m\u001b[0;34m)\u001b[0m\u001b[0;34m\u001b[0m\u001b[0;34m\u001b[0m\u001b[0m\n",
      "\u001b[0;32m~/miniconda3/envs/main2/lib/python3.7/site-packages/bayes_opt/util.py\u001b[0m in \u001b[0;36mutility\u001b[0;34m(self, x, gp, y_max)\u001b[0m\n\u001b[1;32m     95\u001b[0m     \u001b[0;32mdef\u001b[0m \u001b[0mutility\u001b[0m\u001b[0;34m(\u001b[0m\u001b[0mself\u001b[0m\u001b[0;34m,\u001b[0m \u001b[0mx\u001b[0m\u001b[0;34m,\u001b[0m \u001b[0mgp\u001b[0m\u001b[0;34m,\u001b[0m \u001b[0my_max\u001b[0m\u001b[0;34m)\u001b[0m\u001b[0;34m:\u001b[0m\u001b[0;34m\u001b[0m\u001b[0;34m\u001b[0m\u001b[0m\n\u001b[1;32m     96\u001b[0m         \u001b[0;32mif\u001b[0m \u001b[0mself\u001b[0m\u001b[0;34m.\u001b[0m\u001b[0mkind\u001b[0m \u001b[0;34m==\u001b[0m \u001b[0;34m'ucb'\u001b[0m\u001b[0;34m:\u001b[0m\u001b[0;34m\u001b[0m\u001b[0;34m\u001b[0m\u001b[0m\n\u001b[0;32m---> 97\u001b[0;31m             \u001b[0;32mreturn\u001b[0m \u001b[0mself\u001b[0m\u001b[0;34m.\u001b[0m\u001b[0m_ucb\u001b[0m\u001b[0;34m(\u001b[0m\u001b[0mx\u001b[0m\u001b[0;34m,\u001b[0m \u001b[0mgp\u001b[0m\u001b[0;34m,\u001b[0m \u001b[0mself\u001b[0m\u001b[0;34m.\u001b[0m\u001b[0mkappa\u001b[0m\u001b[0;34m)\u001b[0m\u001b[0;34m\u001b[0m\u001b[0;34m\u001b[0m\u001b[0m\n\u001b[0m\u001b[1;32m     98\u001b[0m         \u001b[0;32mif\u001b[0m \u001b[0mself\u001b[0m\u001b[0;34m.\u001b[0m\u001b[0mkind\u001b[0m \u001b[0;34m==\u001b[0m \u001b[0;34m'ei'\u001b[0m\u001b[0;34m:\u001b[0m\u001b[0;34m\u001b[0m\u001b[0;34m\u001b[0m\u001b[0m\n\u001b[1;32m     99\u001b[0m             \u001b[0;32mreturn\u001b[0m \u001b[0mself\u001b[0m\u001b[0;34m.\u001b[0m\u001b[0m_ei\u001b[0m\u001b[0;34m(\u001b[0m\u001b[0mx\u001b[0m\u001b[0;34m,\u001b[0m \u001b[0mgp\u001b[0m\u001b[0;34m,\u001b[0m \u001b[0my_max\u001b[0m\u001b[0;34m,\u001b[0m \u001b[0mself\u001b[0m\u001b[0;34m.\u001b[0m\u001b[0mxi\u001b[0m\u001b[0;34m)\u001b[0m\u001b[0;34m\u001b[0m\u001b[0;34m\u001b[0m\u001b[0m\n",
      "\u001b[0;32m~/miniconda3/envs/main2/lib/python3.7/site-packages/bayes_opt/util.py\u001b[0m in \u001b[0;36m_ucb\u001b[0;34m(x, gp, kappa)\u001b[0m\n\u001b[1;32m    105\u001b[0m         \u001b[0;32mwith\u001b[0m \u001b[0mwarnings\u001b[0m\u001b[0;34m.\u001b[0m\u001b[0mcatch_warnings\u001b[0m\u001b[0;34m(\u001b[0m\u001b[0;34m)\u001b[0m\u001b[0;34m:\u001b[0m\u001b[0;34m\u001b[0m\u001b[0;34m\u001b[0m\u001b[0m\n\u001b[1;32m    106\u001b[0m             \u001b[0mwarnings\u001b[0m\u001b[0;34m.\u001b[0m\u001b[0msimplefilter\u001b[0m\u001b[0;34m(\u001b[0m\u001b[0;34m\"ignore\"\u001b[0m\u001b[0;34m)\u001b[0m\u001b[0;34m\u001b[0m\u001b[0;34m\u001b[0m\u001b[0m\n\u001b[0;32m--> 107\u001b[0;31m             \u001b[0mmean\u001b[0m\u001b[0;34m,\u001b[0m \u001b[0mstd\u001b[0m \u001b[0;34m=\u001b[0m \u001b[0mgp\u001b[0m\u001b[0;34m.\u001b[0m\u001b[0mpredict\u001b[0m\u001b[0;34m(\u001b[0m\u001b[0mx\u001b[0m\u001b[0;34m,\u001b[0m \u001b[0mreturn_std\u001b[0m\u001b[0;34m=\u001b[0m\u001b[0;32mTrue\u001b[0m\u001b[0;34m)\u001b[0m\u001b[0;34m\u001b[0m\u001b[0;34m\u001b[0m\u001b[0m\n\u001b[0m\u001b[1;32m    108\u001b[0m \u001b[0;34m\u001b[0m\u001b[0m\n\u001b[1;32m    109\u001b[0m         \u001b[0;32mreturn\u001b[0m \u001b[0mmean\u001b[0m \u001b[0;34m+\u001b[0m \u001b[0mkappa\u001b[0m \u001b[0;34m*\u001b[0m \u001b[0mstd\u001b[0m\u001b[0;34m\u001b[0m\u001b[0;34m\u001b[0m\u001b[0m\n",
      "\u001b[0;32m~/miniconda3/envs/main2/lib/python3.7/site-packages/sklearn/gaussian_process/_gpr.py\u001b[0m in \u001b[0;36mpredict\u001b[0;34m(self, X, return_std, return_cov)\u001b[0m\n\u001b[1;32m    335\u001b[0m                 \u001b[0;32mreturn\u001b[0m \u001b[0my_mean\u001b[0m\u001b[0;34m\u001b[0m\u001b[0;34m\u001b[0m\u001b[0m\n\u001b[1;32m    336\u001b[0m         \u001b[0;32melse\u001b[0m\u001b[0;34m:\u001b[0m  \u001b[0;31m# Predict based on GP posterior\u001b[0m\u001b[0;34m\u001b[0m\u001b[0;34m\u001b[0m\u001b[0m\n\u001b[0;32m--> 337\u001b[0;31m             \u001b[0mK_trans\u001b[0m \u001b[0;34m=\u001b[0m \u001b[0mself\u001b[0m\u001b[0;34m.\u001b[0m\u001b[0mkernel_\u001b[0m\u001b[0;34m(\u001b[0m\u001b[0mX\u001b[0m\u001b[0;34m,\u001b[0m \u001b[0mself\u001b[0m\u001b[0;34m.\u001b[0m\u001b[0mX_train_\u001b[0m\u001b[0;34m)\u001b[0m\u001b[0;34m\u001b[0m\u001b[0;34m\u001b[0m\u001b[0m\n\u001b[0m\u001b[1;32m    338\u001b[0m             \u001b[0my_mean\u001b[0m \u001b[0;34m=\u001b[0m \u001b[0mK_trans\u001b[0m\u001b[0;34m.\u001b[0m\u001b[0mdot\u001b[0m\u001b[0;34m(\u001b[0m\u001b[0mself\u001b[0m\u001b[0;34m.\u001b[0m\u001b[0malpha_\u001b[0m\u001b[0;34m)\u001b[0m  \u001b[0;31m# Line 4 (y_mean = f_star)\u001b[0m\u001b[0;34m\u001b[0m\u001b[0;34m\u001b[0m\u001b[0m\n\u001b[1;32m    339\u001b[0m             \u001b[0my_mean\u001b[0m \u001b[0;34m=\u001b[0m \u001b[0mself\u001b[0m\u001b[0;34m.\u001b[0m\u001b[0m_y_train_mean\u001b[0m \u001b[0;34m+\u001b[0m \u001b[0my_mean\u001b[0m  \u001b[0;31m# undo normal.\u001b[0m\u001b[0;34m\u001b[0m\u001b[0;34m\u001b[0m\u001b[0m\n",
      "\u001b[0;32m~/miniconda3/envs/main2/lib/python3.7/site-packages/sklearn/gaussian_process/kernels.py\u001b[0m in \u001b[0;36m__call__\u001b[0;34m(self, X, Y, eval_gradient)\u001b[0m\n\u001b[1;32m   1412\u001b[0m             \u001b[0mK\u001b[0m \u001b[0;34m=\u001b[0m \u001b[0;34m(\u001b[0m\u001b[0;36m1.\u001b[0m \u001b[0;34m+\u001b[0m \u001b[0mK\u001b[0m\u001b[0;34m)\u001b[0m \u001b[0;34m*\u001b[0m \u001b[0mnp\u001b[0m\u001b[0;34m.\u001b[0m\u001b[0mexp\u001b[0m\u001b[0;34m(\u001b[0m\u001b[0;34m-\u001b[0m\u001b[0mK\u001b[0m\u001b[0;34m)\u001b[0m\u001b[0;34m\u001b[0m\u001b[0;34m\u001b[0m\u001b[0m\n\u001b[1;32m   1413\u001b[0m         \u001b[0;32melif\u001b[0m \u001b[0mself\u001b[0m\u001b[0;34m.\u001b[0m\u001b[0mnu\u001b[0m \u001b[0;34m==\u001b[0m \u001b[0;36m2.5\u001b[0m\u001b[0;34m:\u001b[0m\u001b[0;34m\u001b[0m\u001b[0;34m\u001b[0m\u001b[0m\n\u001b[0;32m-> 1414\u001b[0;31m             \u001b[0mK\u001b[0m \u001b[0;34m=\u001b[0m \u001b[0mdists\u001b[0m \u001b[0;34m*\u001b[0m \u001b[0mmath\u001b[0m\u001b[0;34m.\u001b[0m\u001b[0msqrt\u001b[0m\u001b[0;34m(\u001b[0m\u001b[0;36m5\u001b[0m\u001b[0;34m)\u001b[0m\u001b[0;34m\u001b[0m\u001b[0;34m\u001b[0m\u001b[0m\n\u001b[0m\u001b[1;32m   1415\u001b[0m             \u001b[0mK\u001b[0m \u001b[0;34m=\u001b[0m \u001b[0;34m(\u001b[0m\u001b[0;36m1.\u001b[0m \u001b[0;34m+\u001b[0m \u001b[0mK\u001b[0m \u001b[0;34m+\u001b[0m \u001b[0mK\u001b[0m \u001b[0;34m**\u001b[0m \u001b[0;36m2\u001b[0m \u001b[0;34m/\u001b[0m \u001b[0;36m3.0\u001b[0m\u001b[0;34m)\u001b[0m \u001b[0;34m*\u001b[0m \u001b[0mnp\u001b[0m\u001b[0;34m.\u001b[0m\u001b[0mexp\u001b[0m\u001b[0;34m(\u001b[0m\u001b[0;34m-\u001b[0m\u001b[0mK\u001b[0m\u001b[0;34m)\u001b[0m\u001b[0;34m\u001b[0m\u001b[0;34m\u001b[0m\u001b[0m\n\u001b[1;32m   1416\u001b[0m         \u001b[0;32melse\u001b[0m\u001b[0;34m:\u001b[0m  \u001b[0;31m# general case; expensive to evaluate\u001b[0m\u001b[0;34m\u001b[0m\u001b[0;34m\u001b[0m\u001b[0m\n",
      "\u001b[0;31mKeyboardInterrupt\u001b[0m: "
     ]
    }
   ],
   "source": [
    "optimizer.maximize(init_points=4**len(cur_std), n_iter=300+4**len(cur_std), alpha=1e-2, normalize_y=True)"
   ]
  },
  {
   "cell_type": "code",
   "execution_count": 33,
   "metadata": {},
   "outputs": [
    {
     "data": {
      "text/plain": [
       "{'target': -7.024937629699707,\n",
       " 'params': {'s0': -1.5170019728292918,\n",
       "  's1': -3.2433987013595225,\n",
       "  's2': -0.27262712630267544,\n",
       "  's3': 10.6150648487571}}"
      ]
     },
     "execution_count": 33,
     "metadata": {},
     "output_type": "execute_result"
    }
   ],
   "source": [
    "optimizer.max"
   ]
  },
  {
   "cell_type": "code",
   "execution_count": 34,
   "metadata": {},
   "outputs": [
    {
     "name": "stdout",
     "output_type": "stream",
     "text": [
      "(4, 30)\n",
      "(30,)\n",
      "(30, 30)\n",
      "(30,)\n",
      "(30, 30)\n",
      "(30,)\n",
      "(30, 1)\n",
      "(1,)\n"
     ]
    }
   ],
   "source": [
    "for l1 in init_params:\n",
    "    if (len(l1)) == 0: continue\n",
    "    for l2 in l1:\n",
    "        print(l2.shape)"
   ]
  },
  {
   "cell_type": "code",
   "execution_count": 37,
   "metadata": {},
   "outputs": [],
   "source": [
    "simple_data = np.array(\n",
    "[[t['params']['s%d'%(i,)] for i in range(len(cur_std))] + [t['target']]\n",
    "for t in optimizer.res])"
   ]
  },
  {
   "cell_type": "code",
   "execution_count": 42,
   "metadata": {},
   "outputs": [],
   "source": [
    "np.save('hidden={}_layers={}_results.npy'.format(args.hidden_dim, args.layers), simple_data)"
   ]
  },
  {
   "cell_type": "code",
   "execution_count": 43,
   "metadata": {},
   "outputs": [],
   "source": [
    "from sklearn.gaussian_process import GaussianProcessRegressor, kernels"
   ]
  },
  {
   "cell_type": "code",
   "execution_count": 44,
   "metadata": {},
   "outputs": [],
   "source": [
    "gp = GaussianProcessRegressor(alpha=1e-2, n_restarts_optimizer=20, normalize_y=True)"
   ]
  },
  {
   "cell_type": "code",
   "execution_count": 568,
   "metadata": {},
   "outputs": [
    {
     "data": {
      "text/plain": [
       "7.440377235412598"
      ]
     },
     "execution_count": 568,
     "metadata": {},
     "output_type": "execute_result"
    }
   ],
   "source": [
    "# simple_data[:, -1].min()"
   ]
  },
  {
   "cell_type": "code",
   "execution_count": 45,
   "metadata": {},
   "outputs": [
    {
     "data": {
      "text/plain": [
       "GaussianProcessRegressor(alpha=0.01, copy_X_train=True, kernel=None,\n",
       "                         n_restarts_optimizer=20, normalize_y=True,\n",
       "                         optimizer='fmin_l_bfgs_b', random_state=None)"
      ]
     },
     "execution_count": 45,
     "metadata": {},
     "output_type": "execute_result"
    }
   ],
   "source": [
    "gp.fit(simple_data[:, :-1], simple_data[:, -1])"
   ]
  },
  {
   "cell_type": "code",
   "execution_count": 47,
   "metadata": {},
   "outputs": [
    {
     "data": {
      "text/plain": [
       "array([  9.00996737,  -2.20082525,   3.21046382, -10.63603169])"
      ]
     },
     "execution_count": 47,
     "metadata": {},
     "output_type": "execute_result"
    }
   ],
   "source": [
    "simple_data[:, :-1][gp.predict(simple_data[:, :-1]).argmin()]"
   ]
  }
 ],
 "metadata": {
  "kernelspec": {
   "display_name": "main2",
   "language": "python",
   "name": "main2"
  },
  "language_info": {
   "codemirror_mode": {
    "name": "ipython",
    "version": 3
   },
   "file_extension": ".py",
   "mimetype": "text/x-python",
   "name": "python",
   "nbconvert_exporter": "python",
   "pygments_lexer": "ipython3",
   "version": "3.7.6"
  }
 },
 "nbformat": 4,
 "nbformat_minor": 2
}
